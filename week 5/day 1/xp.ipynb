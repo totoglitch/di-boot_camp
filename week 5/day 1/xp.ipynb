{
  "nbformat": 4,
  "nbformat_minor": 0,
  "metadata": {
    "colab": {
      "provenance": []
    },
    "kernelspec": {
      "name": "python3",
      "display_name": "Python 3"
    },
    "language_info": {
      "name": "python"
    }
  },
  "cells": [
    {
      "cell_type": "markdown",
      "source": [
        "Exercise 1 : Defining the Problem and Data Collection for Loan Default Prediction\n",
        "Instructions\n",
        "Write a clear problem statement for predicting loan defaults.\n",
        "Identify and list the types of data you would need for this project (e.g., personal details of applicants, credit scores, loan amounts, repayment history).\n",
        "Discuss the sources where you can collect this data (e.g., financial institution’s internal records, credit bureaus).\n",
        "Expected Output: A document detailing the problem statement and a comprehensive plan for data collection, including data types and sources.\n",
        "\n"
      ],
      "metadata": {
        "id": "yqz7VemrZGwj"
      }
    },
    {
      "cell_type": "code",
      "source": [
        "proplem_statement=\"\"\"\n",
        "predicting loan defaults:\n",
        "The goal is to develop a machine learning model that can accurately predict whether an individual will default on a loan. This model will help financial institutions in assessing the risk associated with lending.\n",
        "\"\"\"\n",
        "data_types=['personal details of applicants','credit scores','loan amounts','repayment history']\n",
        "sources=['financial institution’s internal records','credit bureaus']\n",
        "print(proplem_statement)\n",
        "print(data_types)\n",
        "print(sources)"
      ],
      "metadata": {
        "colab": {
          "base_uri": "https://localhost:8080/"
        },
        "collapsed": true,
        "id": "uKePJl2lZ03K",
        "outputId": "ffd6e0f3-ecfa-4634-8cc0-34381d4ea613"
      },
      "execution_count": 2,
      "outputs": [
        {
          "output_type": "stream",
          "name": "stdout",
          "text": [
            "\n",
            "predicting loan defaults:\n",
            "The goal is to develop a machine learning model that can accurately predict whether an individual will default on a loan. This model will help financial institutions in assessing the risk associated with lending.\n",
            "\n",
            "['personal details of applicants', 'credit scores', 'loan amounts', 'repayment history']\n",
            "['financial institution’s internal records', 'credit bureaus']\n"
          ]
        }
      ]
    },
    {
      "cell_type": "markdown",
      "source": [
        " Exercise 2 : Feature Selection and Model Choice for Loan Default Prediction\n",
        "Instructions\n",
        "From this dataset, identify which features might be most relevant for predicting loan defaults.\n",
        "Justify your choice of features.\n"
      ],
      "metadata": {
        "id": "opEx7HSZa9PT"
      }
    },
    {
      "cell_type": "code",
      "source": [
        "dataset_columns = ['age', 'income', 'loan amount', 'repayment history', 'credit score']\n",
        "\n",
        "# Feature Selection\n",
        "selected_features = ['income', 'loan amount', 'repayment history', 'credit score'] # Justify why you chose these features\n",
        "\n",
        "# Justification for Feature Selection\n",
        "feature_justification = \"\"\"\n",
        "Selected Features Justification:\n",
        "- Income: Higher income might correlate with a lower risk of default.\n",
        "- Loan Amount: Larger loan amounts could be riskier and more likely to lead to defaults.\n",
        "- Repayment History: Past repayment behavior is often a good predictor of future behavior.\n",
        "- Credit Score: Indicates the borrower's creditworthiness and history of managing debts.\n",
        "\"\"\"\n",
        "\n",
        "print(feature_justification)"
      ],
      "metadata": {
        "colab": {
          "base_uri": "https://localhost:8080/"
        },
        "collapsed": true,
        "id": "eOrr-cPrcHcd",
        "outputId": "09308832-7a67-4827-d98f-8a031d2d3c6c"
      },
      "execution_count": 3,
      "outputs": [
        {
          "output_type": "stream",
          "name": "stdout",
          "text": [
            "\n",
            "Selected Features Justification:\n",
            "- Income: Higher income might correlate with a lower risk of default.\n",
            "- Loan Amount: Larger loan amounts could be riskier and more likely to lead to defaults.\n",
            "- Repayment History: Past repayment behavior is often a good predictor of future behavior.\n",
            "- Credit Score: Indicates the borrower's creditworthiness and history of managing debts.\n",
            "\n"
          ]
        }
      ]
    },
    {
      "cell_type": "markdown",
      "source": [
        "\n",
        "🌟 Exercise 3 : Training, Evaluating, and Optimizing the Model\n",
        "Instructions\n",
        "Which model(s) would you pick for a Loan Prediction ?\n",
        "Outline the steps to evaluate the model’s performance, mentioning specific metrics that would be relevant to evaluate the model.\n"
      ],
      "metadata": {
        "id": "mUiSYyeIbzCQ"
      }
    },
    {
      "cell_type": "code",
      "source": [
        "# Evaluation Metrics\n",
        "evaluation_metrics = ['accuracy', 'precision', 'recall', 'F1-score']\n",
        "evaluation_steps = \"\"\"\n",
        "1. Split the dataset into training and testing sets.\n",
        "2. Train the model on the training set.\n",
        "3. Make predictions on the testing set.\n",
        "4. Calculate the chosen evaluation metrics.\n",
        "5. Optimize the model based on the metric results and repeat the process.\n",
        "\"\"\"\n",
        "\n",
        "print(evaluation_steps)"
      ],
      "metadata": {
        "colab": {
          "base_uri": "https://localhost:8080/"
        },
        "collapsed": true,
        "id": "ig2N_3ycb2VQ",
        "outputId": "d3afa242-c24a-4f53-bcee-97e524d957c9"
      },
      "execution_count": 4,
      "outputs": [
        {
          "output_type": "stream",
          "name": "stdout",
          "text": [
            "\n",
            "1. Split the dataset into training and testing sets.\n",
            "2. Train the model on the training set.\n",
            "3. Make predictions on the testing set.\n",
            "4. Calculate the chosen evaluation metrics.\n",
            "5. Optimize the model based on the metric results and repeat the process.\n",
            "\n"
          ]
        }
      ]
    },
    {
      "cell_type": "markdown",
      "source": [
        "Exercise 4 : Designing Machine Learning Solutions for Specific Problems\n",
        "Instructions\n",
        "For each of these scenario, decide which type of machine learning would be most suitable. Explain.\n",
        "\n",
        "Predicting Stock Prices : predict future prices\n",
        "Organizing a Library of Books : group books into genres or categories based on similarities.\n",
        "Program a robot to navigate and find the shortest path in a maze.\n"
      ],
      "metadata": {
        "id": "EWQWGqK7cXr9"
      }
    },
    {
      "cell_type": "code",
      "source": [
        "scenarios = {\n",
        "    \"Predicting Stock Prices\": \"Supervised Learning - Regression Model\",\n",
        "    \"Organizing a Library of Books\": \"Unsupervised Learning - Clustering Model\",\n",
        "    \"Program a Robot to Navigate a Maze\": \"Reinforcement Learning\"\n",
        "}\n",
        "\n",
        "# Print out the solutions for each scenario\n",
        "for scenario, solution in scenarios.items():\n",
        "    print(f\"{scenario}: {solution}\")"
      ],
      "metadata": {
        "colab": {
          "base_uri": "https://localhost:8080/"
        },
        "collapsed": true,
        "id": "QbxfouisceMw",
        "outputId": "24c9b9c9-7597-40bc-ad80-5e0e69d066a1"
      },
      "execution_count": 5,
      "outputs": [
        {
          "output_type": "stream",
          "name": "stdout",
          "text": [
            "Predicting Stock Prices: Supervised Learning - Regression Model\n",
            "Organizing a Library of Books: Unsupervised Learning - Clustering Model\n",
            "Program a Robot to Navigate a Maze: Reinforcement Learning\n"
          ]
        }
      ]
    },
    {
      "cell_type": "markdown",
      "source": [
        " Exercise 5 : Designing an Evaluation Strategy for Different ML Models\n",
        "Instructions\n",
        "Select three types of machine learning models: one from supervised learning (e.g., a classification model), one from unsupervised learning (e.g., a clustering model), and one from reinforcement learning. For the supervised model, outline a strategy to evaluate its performance, including the choice of metrics (like accuracy, precision, recall, F1-score) and methods (like cross-validation, ROC curves).\n",
        "For the unsupervised model, describe how you would assess the effectiveness of the model, considering techniques like silhouette score, elbow method, or cluster validation metrics.\n",
        "For the reinforcement learning model, discuss how you would measure its success, considering aspects like cumulative reward, convergence, and exploration vs. exploitation balance.\n",
        "Address the challenges and limitations of evaluating models in each category.\n"
      ],
      "metadata": {
        "id": "l45O8nvPcsiQ"
      }
    },
    {
      "cell_type": "code",
      "source": [
        "supervised_evaluation = \"\"\"\n",
        "- Use cross-validation to assess the model's performance.\n",
        "- Evaluate using metrics like accuracy, precision, recall, F1-score.\n",
        "- Analyze the ROC curves to understand the trade-off between the true positive rate and false positive rate.\n",
        "\"\"\"\n",
        "\n",
        "# Unsupervised Learning Evaluation Strategy\n",
        "unsupervised_evaluation = \"\"\"\n",
        "- Assess the effectiveness using silhouette score or the elbow method.\n",
        "- Validate clusters by examining their interpretability and relevance to the problem statement.\n",
        "\"\"\"\n",
        "\n",
        "# Reinforcement Learning Evaluation Strategy\n",
        "reinforcement_evaluation = \"\"\"\n",
        "- Measure success by the cumulative reward achieved by the model.\n",
        "- Evaluate the balance between exploration and exploitation.\n",
        "- Monitor the convergence of the model to ensure learning stability.\n",
        "\"\"\"\n",
        "\n",
        "print(\"Supervised Learning Evaluation Strategy:\", supervised_evaluation)\n",
        "print(\"Unsupervised Learning Evaluation Strategy:\", unsupervised_evaluation)\n",
        "print(\"Reinforcement Learning Evaluation Strategy:\", reinforcement_evaluation)"
      ],
      "metadata": {
        "colab": {
          "base_uri": "https://localhost:8080/"
        },
        "collapsed": true,
        "id": "IHhD8QVic1-A",
        "outputId": "c963cc21-5e56-4b17-aa9a-f3ebfcae1c1a"
      },
      "execution_count": 6,
      "outputs": [
        {
          "output_type": "stream",
          "name": "stdout",
          "text": [
            "Supervised Learning Evaluation Strategy: \n",
            "- Use cross-validation to assess the model's performance.\n",
            "- Evaluate using metrics like accuracy, precision, recall, F1-score.\n",
            "- Analyze the ROC curves to understand the trade-off between the true positive rate and false positive rate.\n",
            "\n",
            "Unsupervised Learning Evaluation Strategy: \n",
            "- Assess the effectiveness using silhouette score or the elbow method.\n",
            "- Validate clusters by examining their interpretability and relevance to the problem statement.\n",
            "\n",
            "Reinforcement Learning Evaluation Strategy: \n",
            "- Measure success by the cumulative reward achieved by the model.\n",
            "- Evaluate the balance between exploration and exploitation.\n",
            "- Monitor the convergence of the model to ensure learning stability.\n",
            "\n"
          ]
        }
      ]
    }
  ]
}