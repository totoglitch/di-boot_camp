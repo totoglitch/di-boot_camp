{
  "metadata": {
    "kernelspec": {
      "display_name": "Python 3",
      "language": "python",
      "name": "python3"
    },
    "language_info": {
      "name": "python",
      "version": "3.10.13",
      "mimetype": "text/x-python",
      "codemirror_mode": {
        "name": "ipython",
        "version": 3
      },
      "pygments_lexer": "ipython3",
      "nbconvert_exporter": "python",
      "file_extension": ".py"
    },
    "kaggle": {
      "accelerator": "none",
      "dataSources": [
        {
          "sourceId": 4862520,
          "sourceType": "datasetVersion",
          "datasetId": 2818963
        }
      ],
      "dockerImageVersionId": 30646,
      "isInternetEnabled": true,
      "language": "python",
      "sourceType": "notebook",
      "isGpuEnabled": false
    },
    "colab": {
      "provenance": []
    }
  },
  "nbformat_minor": 0,
  "nbformat": 4,
  "cells": [
    {
      "source": [
        "import kagglehub\n",
        "karkavelrajaj_amazon_sales_dataset_path = kagglehub.dataset_download('karkavelrajaj/amazon-sales-dataset')\n",
        "\n",
        "print('Data source import complete.')\n"
      ],
      "metadata": {
        "id": "DIVchn4Lk4oq",
        "outputId": "24da7663-7d7f-48ab-b69d-fd56a7a5299e",
        "colab": {
          "base_uri": "https://localhost:8080/"
        }
      },
      "cell_type": "code",
      "outputs": [
        {
          "output_type": "stream",
          "name": "stdout",
          "text": [
            "Data source import complete.\n"
          ]
        }
      ],
      "execution_count": 2
    },
    {
      "cell_type": "code",
      "source": [
        "import pandas as pd\n",
        "import numpy as np\n",
        "import matplotlib.pyplot as plt\n",
        "import seaborn as sns\n",
        "import scipy as sp\n",
        "import warnings\n",
        "warnings.filterwarnings('ignore')\n",
        "%matplotlib inline\n"
      ],
      "metadata": {
        "execution": {
          "iopub.status.busy": "2024-02-26T12:41:32.183175Z",
          "iopub.execute_input": "2024-02-26T12:41:32.183618Z",
          "iopub.status.idle": "2024-02-26T12:41:33.208658Z",
          "shell.execute_reply.started": "2024-02-26T12:41:32.183584Z",
          "shell.execute_reply": "2024-02-26T12:41:33.207413Z"
        },
        "trusted": true,
        "id": "G3eNlvYNk4pA"
      },
      "execution_count": 3,
      "outputs": []
    },
    {
      "cell_type": "code",
      "source": [
        "df = pd.read_csv(\"/kaggle/input/amazon-sales-dataset/amazon.csv\")"
      ],
      "metadata": {
        "execution": {
          "iopub.status.busy": "2024-02-26T12:41:33.210662Z",
          "iopub.execute_input": "2024-02-26T12:41:33.211139Z",
          "iopub.status.idle": "2024-02-26T12:41:33.329099Z",
          "shell.execute_reply.started": "2024-02-26T12:41:33.211095Z",
          "shell.execute_reply": "2024-02-26T12:41:33.327904Z"
        },
        "trusted": true,
        "id": "1a92q57Zk4pC"
      },
      "execution_count": 4,
      "outputs": []
    },
    {
      "cell_type": "code",
      "source": [
        "pd.set_option('display.max_columns', None)"
      ],
      "metadata": {
        "execution": {
          "iopub.status.busy": "2024-02-26T12:41:33.330663Z",
          "iopub.execute_input": "2024-02-26T12:41:33.331007Z",
          "iopub.status.idle": "2024-02-26T12:41:33.336027Z",
          "shell.execute_reply.started": "2024-02-26T12:41:33.330978Z",
          "shell.execute_reply": "2024-02-26T12:41:33.334706Z"
        },
        "trusted": true,
        "id": "upMbVoT6k4pE"
      },
      "execution_count": 5,
      "outputs": []
    },
    {
      "cell_type": "code",
      "source": [
        "df.head(5)"
      ],
      "metadata": {
        "execution": {
          "iopub.status.busy": "2024-02-26T12:41:33.339483Z",
          "iopub.execute_input": "2024-02-26T12:41:33.340351Z",
          "iopub.status.idle": "2024-02-26T12:41:33.368552Z",
          "shell.execute_reply.started": "2024-02-26T12:41:33.340304Z",
          "shell.execute_reply": "2024-02-26T12:41:33.367412Z"
        },
        "trusted": true,
        "collapsed": true,
        "id": "TUPp-D7rk4pF",
        "outputId": "d8d04aab-4866-4292-9d4b-120c227bac08",
        "colab": {
          "base_uri": "https://localhost:8080/",
          "height": 538
        }
      },
      "execution_count": 6,
      "outputs": [
        {
          "output_type": "execute_result",
          "data": {
            "text/plain": [
              "   product_id                                       product_name  \\\n",
              "0  B07JW9H4J1  Wayona Nylon Braided USB to Lightning Fast Cha...   \n",
              "1  B098NS6PVG  Ambrane Unbreakable 60W / 3A Fast Charging 1.5...   \n",
              "2  B096MSW6CT  Sounce Fast Phone Charging Cable & Data Sync U...   \n",
              "3  B08HDJ86NZ  boAt Deuce USB 300 2 in 1 Type-C & Micro USB S...   \n",
              "4  B08CF3B7N1  Portronics Konnect L 1.2M Fast Charging 3A 8 P...   \n",
              "\n",
              "                                            category discounted_price  \\\n",
              "0  Computers&Accessories|Accessories&Peripherals|...             ₹399   \n",
              "1  Computers&Accessories|Accessories&Peripherals|...             ₹199   \n",
              "2  Computers&Accessories|Accessories&Peripherals|...             ₹199   \n",
              "3  Computers&Accessories|Accessories&Peripherals|...             ₹329   \n",
              "4  Computers&Accessories|Accessories&Peripherals|...             ₹154   \n",
              "\n",
              "  actual_price discount_percentage rating rating_count  \\\n",
              "0       ₹1,099                 64%    4.2       24,269   \n",
              "1         ₹349                 43%    4.0       43,994   \n",
              "2       ₹1,899                 90%    3.9        7,928   \n",
              "3         ₹699                 53%    4.2       94,363   \n",
              "4         ₹399                 61%    4.2       16,905   \n",
              "\n",
              "                                       about_product  \\\n",
              "0  High Compatibility : Compatible With iPhone 12...   \n",
              "1  Compatible with all Type C enabled devices, be...   \n",
              "2  【 Fast Charger& Data Sync】-With built-in safet...   \n",
              "3  The boAt Deuce USB 300 2 in 1 cable is compati...   \n",
              "4  [CHARGE & SYNC FUNCTION]- This cable comes wit...   \n",
              "\n",
              "                                             user_id  \\\n",
              "0  AG3D6O4STAQKAY2UVGEUV46KN35Q,AHMY5CWJMMK5BJRBB...   \n",
              "1  AECPFYFQVRUWC3KGNLJIOREFP5LQ,AGYYVPDD7YG7FYNBX...   \n",
              "2  AGU3BBQ2V2DDAMOAKGFAWDDQ6QHA,AESFLDV2PT363T2AQ...   \n",
              "3  AEWAZDZZJLQUYVOVGBEUKSLXHQ5A,AG5HTSFRRE6NL3M5S...   \n",
              "4  AE3Q6KSUK5P75D5HFYHCRAOLODSA,AFUGIFH5ZAFXRDSZH...   \n",
              "\n",
              "                                           user_name  \\\n",
              "0  Manav,Adarsh gupta,Sundeep,S.Sayeed Ahmed,jasp...   \n",
              "1  ArdKn,Nirbhay kumar,Sagar Viswanathan,Asp,Plac...   \n",
              "2  Kunal,Himanshu,viswanath,sai niharka,saqib mal...   \n",
              "3  Omkar dhale,JD,HEMALATHA,Ajwadh a.,amar singh ...   \n",
              "4  rahuls6099,Swasat Borah,Ajay Wadke,Pranali,RVK...   \n",
              "\n",
              "                                           review_id  \\\n",
              "0  R3HXWT0LRP0NMF,R2AJM3LFTLZHFO,R6AQJGUP6P86,R1K...   \n",
              "1  RGIQEG07R9HS2,R1SMWZQ86XIN8U,R2J3Y1WL29GWDE,RY...   \n",
              "2  R3J3EQQ9TZI5ZJ,R3E7WBGK7ID0KV,RWU79XKQ6I1QF,R2...   \n",
              "3  R3EEUZKKK9J36I,R3HJVYCLYOY554,REDECAZ7AMPQC,R1...   \n",
              "4  R1BP4L2HH9TFUP,R16PVJEXKV6QZS,R2UPDB81N66T4P,R...   \n",
              "\n",
              "                                        review_title  \\\n",
              "0  Satisfied,Charging is really fast,Value for mo...   \n",
              "1  A Good Braided Cable for Your Type C Device,Go...   \n",
              "2  Good speed for earlier versions,Good Product,W...   \n",
              "3  Good product,Good one,Nice,Really nice product...   \n",
              "4  As good as original,Decent,Good one for second...   \n",
              "\n",
              "                                      review_content  \\\n",
              "0  Looks durable Charging is fine tooNo complains...   \n",
              "1  I ordered this cable to connect my phone to An...   \n",
              "2  Not quite durable and sturdy,https://m.media-a...   \n",
              "3  Good product,long wire,Charges good,Nice,I bou...   \n",
              "4  Bought this instead of original apple, does th...   \n",
              "\n",
              "                                            img_link  \\\n",
              "0  https://m.media-amazon.com/images/W/WEBP_40237...   \n",
              "1  https://m.media-amazon.com/images/W/WEBP_40237...   \n",
              "2  https://m.media-amazon.com/images/W/WEBP_40237...   \n",
              "3  https://m.media-amazon.com/images/I/41V5FtEWPk...   \n",
              "4  https://m.media-amazon.com/images/W/WEBP_40237...   \n",
              "\n",
              "                                        product_link  \n",
              "0  https://www.amazon.in/Wayona-Braided-WN3LG1-Sy...  \n",
              "1  https://www.amazon.in/Ambrane-Unbreakable-Char...  \n",
              "2  https://www.amazon.in/Sounce-iPhone-Charging-C...  \n",
              "3  https://www.amazon.in/Deuce-300-Resistant-Tang...  \n",
              "4  https://www.amazon.in/Portronics-Konnect-POR-1...  "
            ],
            "text/html": [
              "\n",
              "  <div id=\"df-abea6cf0-bcd7-406f-bf72-4886f2bc64c7\" class=\"colab-df-container\">\n",
              "    <div>\n",
              "<style scoped>\n",
              "    .dataframe tbody tr th:only-of-type {\n",
              "        vertical-align: middle;\n",
              "    }\n",
              "\n",
              "    .dataframe tbody tr th {\n",
              "        vertical-align: top;\n",
              "    }\n",
              "\n",
              "    .dataframe thead th {\n",
              "        text-align: right;\n",
              "    }\n",
              "</style>\n",
              "<table border=\"1\" class=\"dataframe\">\n",
              "  <thead>\n",
              "    <tr style=\"text-align: right;\">\n",
              "      <th></th>\n",
              "      <th>product_id</th>\n",
              "      <th>product_name</th>\n",
              "      <th>category</th>\n",
              "      <th>discounted_price</th>\n",
              "      <th>actual_price</th>\n",
              "      <th>discount_percentage</th>\n",
              "      <th>rating</th>\n",
              "      <th>rating_count</th>\n",
              "      <th>about_product</th>\n",
              "      <th>user_id</th>\n",
              "      <th>user_name</th>\n",
              "      <th>review_id</th>\n",
              "      <th>review_title</th>\n",
              "      <th>review_content</th>\n",
              "      <th>img_link</th>\n",
              "      <th>product_link</th>\n",
              "    </tr>\n",
              "  </thead>\n",
              "  <tbody>\n",
              "    <tr>\n",
              "      <th>0</th>\n",
              "      <td>B07JW9H4J1</td>\n",
              "      <td>Wayona Nylon Braided USB to Lightning Fast Cha...</td>\n",
              "      <td>Computers&amp;Accessories|Accessories&amp;Peripherals|...</td>\n",
              "      <td>₹399</td>\n",
              "      <td>₹1,099</td>\n",
              "      <td>64%</td>\n",
              "      <td>4.2</td>\n",
              "      <td>24,269</td>\n",
              "      <td>High Compatibility : Compatible With iPhone 12...</td>\n",
              "      <td>AG3D6O4STAQKAY2UVGEUV46KN35Q,AHMY5CWJMMK5BJRBB...</td>\n",
              "      <td>Manav,Adarsh gupta,Sundeep,S.Sayeed Ahmed,jasp...</td>\n",
              "      <td>R3HXWT0LRP0NMF,R2AJM3LFTLZHFO,R6AQJGUP6P86,R1K...</td>\n",
              "      <td>Satisfied,Charging is really fast,Value for mo...</td>\n",
              "      <td>Looks durable Charging is fine tooNo complains...</td>\n",
              "      <td>https://m.media-amazon.com/images/W/WEBP_40237...</td>\n",
              "      <td>https://www.amazon.in/Wayona-Braided-WN3LG1-Sy...</td>\n",
              "    </tr>\n",
              "    <tr>\n",
              "      <th>1</th>\n",
              "      <td>B098NS6PVG</td>\n",
              "      <td>Ambrane Unbreakable 60W / 3A Fast Charging 1.5...</td>\n",
              "      <td>Computers&amp;Accessories|Accessories&amp;Peripherals|...</td>\n",
              "      <td>₹199</td>\n",
              "      <td>₹349</td>\n",
              "      <td>43%</td>\n",
              "      <td>4.0</td>\n",
              "      <td>43,994</td>\n",
              "      <td>Compatible with all Type C enabled devices, be...</td>\n",
              "      <td>AECPFYFQVRUWC3KGNLJIOREFP5LQ,AGYYVPDD7YG7FYNBX...</td>\n",
              "      <td>ArdKn,Nirbhay kumar,Sagar Viswanathan,Asp,Plac...</td>\n",
              "      <td>RGIQEG07R9HS2,R1SMWZQ86XIN8U,R2J3Y1WL29GWDE,RY...</td>\n",
              "      <td>A Good Braided Cable for Your Type C Device,Go...</td>\n",
              "      <td>I ordered this cable to connect my phone to An...</td>\n",
              "      <td>https://m.media-amazon.com/images/W/WEBP_40237...</td>\n",
              "      <td>https://www.amazon.in/Ambrane-Unbreakable-Char...</td>\n",
              "    </tr>\n",
              "    <tr>\n",
              "      <th>2</th>\n",
              "      <td>B096MSW6CT</td>\n",
              "      <td>Sounce Fast Phone Charging Cable &amp; Data Sync U...</td>\n",
              "      <td>Computers&amp;Accessories|Accessories&amp;Peripherals|...</td>\n",
              "      <td>₹199</td>\n",
              "      <td>₹1,899</td>\n",
              "      <td>90%</td>\n",
              "      <td>3.9</td>\n",
              "      <td>7,928</td>\n",
              "      <td>【 Fast Charger&amp; Data Sync】-With built-in safet...</td>\n",
              "      <td>AGU3BBQ2V2DDAMOAKGFAWDDQ6QHA,AESFLDV2PT363T2AQ...</td>\n",
              "      <td>Kunal,Himanshu,viswanath,sai niharka,saqib mal...</td>\n",
              "      <td>R3J3EQQ9TZI5ZJ,R3E7WBGK7ID0KV,RWU79XKQ6I1QF,R2...</td>\n",
              "      <td>Good speed for earlier versions,Good Product,W...</td>\n",
              "      <td>Not quite durable and sturdy,https://m.media-a...</td>\n",
              "      <td>https://m.media-amazon.com/images/W/WEBP_40237...</td>\n",
              "      <td>https://www.amazon.in/Sounce-iPhone-Charging-C...</td>\n",
              "    </tr>\n",
              "    <tr>\n",
              "      <th>3</th>\n",
              "      <td>B08HDJ86NZ</td>\n",
              "      <td>boAt Deuce USB 300 2 in 1 Type-C &amp; Micro USB S...</td>\n",
              "      <td>Computers&amp;Accessories|Accessories&amp;Peripherals|...</td>\n",
              "      <td>₹329</td>\n",
              "      <td>₹699</td>\n",
              "      <td>53%</td>\n",
              "      <td>4.2</td>\n",
              "      <td>94,363</td>\n",
              "      <td>The boAt Deuce USB 300 2 in 1 cable is compati...</td>\n",
              "      <td>AEWAZDZZJLQUYVOVGBEUKSLXHQ5A,AG5HTSFRRE6NL3M5S...</td>\n",
              "      <td>Omkar dhale,JD,HEMALATHA,Ajwadh a.,amar singh ...</td>\n",
              "      <td>R3EEUZKKK9J36I,R3HJVYCLYOY554,REDECAZ7AMPQC,R1...</td>\n",
              "      <td>Good product,Good one,Nice,Really nice product...</td>\n",
              "      <td>Good product,long wire,Charges good,Nice,I bou...</td>\n",
              "      <td>https://m.media-amazon.com/images/I/41V5FtEWPk...</td>\n",
              "      <td>https://www.amazon.in/Deuce-300-Resistant-Tang...</td>\n",
              "    </tr>\n",
              "    <tr>\n",
              "      <th>4</th>\n",
              "      <td>B08CF3B7N1</td>\n",
              "      <td>Portronics Konnect L 1.2M Fast Charging 3A 8 P...</td>\n",
              "      <td>Computers&amp;Accessories|Accessories&amp;Peripherals|...</td>\n",
              "      <td>₹154</td>\n",
              "      <td>₹399</td>\n",
              "      <td>61%</td>\n",
              "      <td>4.2</td>\n",
              "      <td>16,905</td>\n",
              "      <td>[CHARGE &amp; SYNC FUNCTION]- This cable comes wit...</td>\n",
              "      <td>AE3Q6KSUK5P75D5HFYHCRAOLODSA,AFUGIFH5ZAFXRDSZH...</td>\n",
              "      <td>rahuls6099,Swasat Borah,Ajay Wadke,Pranali,RVK...</td>\n",
              "      <td>R1BP4L2HH9TFUP,R16PVJEXKV6QZS,R2UPDB81N66T4P,R...</td>\n",
              "      <td>As good as original,Decent,Good one for second...</td>\n",
              "      <td>Bought this instead of original apple, does th...</td>\n",
              "      <td>https://m.media-amazon.com/images/W/WEBP_40237...</td>\n",
              "      <td>https://www.amazon.in/Portronics-Konnect-POR-1...</td>\n",
              "    </tr>\n",
              "  </tbody>\n",
              "</table>\n",
              "</div>\n",
              "    <div class=\"colab-df-buttons\">\n",
              "\n",
              "  <div class=\"colab-df-container\">\n",
              "    <button class=\"colab-df-convert\" onclick=\"convertToInteractive('df-abea6cf0-bcd7-406f-bf72-4886f2bc64c7')\"\n",
              "            title=\"Convert this dataframe to an interactive table.\"\n",
              "            style=\"display:none;\">\n",
              "\n",
              "  <svg xmlns=\"http://www.w3.org/2000/svg\" height=\"24px\" viewBox=\"0 -960 960 960\">\n",
              "    <path d=\"M120-120v-720h720v720H120Zm60-500h600v-160H180v160Zm220 220h160v-160H400v160Zm0 220h160v-160H400v160ZM180-400h160v-160H180v160Zm440 0h160v-160H620v160ZM180-180h160v-160H180v160Zm440 0h160v-160H620v160Z\"/>\n",
              "  </svg>\n",
              "    </button>\n",
              "\n",
              "  <style>\n",
              "    .colab-df-container {\n",
              "      display:flex;\n",
              "      gap: 12px;\n",
              "    }\n",
              "\n",
              "    .colab-df-convert {\n",
              "      background-color: #E8F0FE;\n",
              "      border: none;\n",
              "      border-radius: 50%;\n",
              "      cursor: pointer;\n",
              "      display: none;\n",
              "      fill: #1967D2;\n",
              "      height: 32px;\n",
              "      padding: 0 0 0 0;\n",
              "      width: 32px;\n",
              "    }\n",
              "\n",
              "    .colab-df-convert:hover {\n",
              "      background-color: #E2EBFA;\n",
              "      box-shadow: 0px 1px 2px rgba(60, 64, 67, 0.3), 0px 1px 3px 1px rgba(60, 64, 67, 0.15);\n",
              "      fill: #174EA6;\n",
              "    }\n",
              "\n",
              "    .colab-df-buttons div {\n",
              "      margin-bottom: 4px;\n",
              "    }\n",
              "\n",
              "    [theme=dark] .colab-df-convert {\n",
              "      background-color: #3B4455;\n",
              "      fill: #D2E3FC;\n",
              "    }\n",
              "\n",
              "    [theme=dark] .colab-df-convert:hover {\n",
              "      background-color: #434B5C;\n",
              "      box-shadow: 0px 1px 3px 1px rgba(0, 0, 0, 0.15);\n",
              "      filter: drop-shadow(0px 1px 2px rgba(0, 0, 0, 0.3));\n",
              "      fill: #FFFFFF;\n",
              "    }\n",
              "  </style>\n",
              "\n",
              "    <script>\n",
              "      const buttonEl =\n",
              "        document.querySelector('#df-abea6cf0-bcd7-406f-bf72-4886f2bc64c7 button.colab-df-convert');\n",
              "      buttonEl.style.display =\n",
              "        google.colab.kernel.accessAllowed ? 'block' : 'none';\n",
              "\n",
              "      async function convertToInteractive(key) {\n",
              "        const element = document.querySelector('#df-abea6cf0-bcd7-406f-bf72-4886f2bc64c7');\n",
              "        const dataTable =\n",
              "          await google.colab.kernel.invokeFunction('convertToInteractive',\n",
              "                                                    [key], {});\n",
              "        if (!dataTable) return;\n",
              "\n",
              "        const docLinkHtml = 'Like what you see? Visit the ' +\n",
              "          '<a target=\"_blank\" href=https://colab.research.google.com/notebooks/data_table.ipynb>data table notebook</a>'\n",
              "          + ' to learn more about interactive tables.';\n",
              "        element.innerHTML = '';\n",
              "        dataTable['output_type'] = 'display_data';\n",
              "        await google.colab.output.renderOutput(dataTable, element);\n",
              "        const docLink = document.createElement('div');\n",
              "        docLink.innerHTML = docLinkHtml;\n",
              "        element.appendChild(docLink);\n",
              "      }\n",
              "    </script>\n",
              "  </div>\n",
              "\n",
              "\n",
              "    <div id=\"df-d3ee0090-7385-401d-b847-d5e3528926e9\">\n",
              "      <button class=\"colab-df-quickchart\" onclick=\"quickchart('df-d3ee0090-7385-401d-b847-d5e3528926e9')\"\n",
              "                title=\"Suggest charts\"\n",
              "                style=\"display:none;\">\n",
              "\n",
              "<svg xmlns=\"http://www.w3.org/2000/svg\" height=\"24px\"viewBox=\"0 0 24 24\"\n",
              "     width=\"24px\">\n",
              "    <g>\n",
              "        <path d=\"M19 3H5c-1.1 0-2 .9-2 2v14c0 1.1.9 2 2 2h14c1.1 0 2-.9 2-2V5c0-1.1-.9-2-2-2zM9 17H7v-7h2v7zm4 0h-2V7h2v10zm4 0h-2v-4h2v4z\"/>\n",
              "    </g>\n",
              "</svg>\n",
              "      </button>\n",
              "\n",
              "<style>\n",
              "  .colab-df-quickchart {\n",
              "      --bg-color: #E8F0FE;\n",
              "      --fill-color: #1967D2;\n",
              "      --hover-bg-color: #E2EBFA;\n",
              "      --hover-fill-color: #174EA6;\n",
              "      --disabled-fill-color: #AAA;\n",
              "      --disabled-bg-color: #DDD;\n",
              "  }\n",
              "\n",
              "  [theme=dark] .colab-df-quickchart {\n",
              "      --bg-color: #3B4455;\n",
              "      --fill-color: #D2E3FC;\n",
              "      --hover-bg-color: #434B5C;\n",
              "      --hover-fill-color: #FFFFFF;\n",
              "      --disabled-bg-color: #3B4455;\n",
              "      --disabled-fill-color: #666;\n",
              "  }\n",
              "\n",
              "  .colab-df-quickchart {\n",
              "    background-color: var(--bg-color);\n",
              "    border: none;\n",
              "    border-radius: 50%;\n",
              "    cursor: pointer;\n",
              "    display: none;\n",
              "    fill: var(--fill-color);\n",
              "    height: 32px;\n",
              "    padding: 0;\n",
              "    width: 32px;\n",
              "  }\n",
              "\n",
              "  .colab-df-quickchart:hover {\n",
              "    background-color: var(--hover-bg-color);\n",
              "    box-shadow: 0 1px 2px rgba(60, 64, 67, 0.3), 0 1px 3px 1px rgba(60, 64, 67, 0.15);\n",
              "    fill: var(--button-hover-fill-color);\n",
              "  }\n",
              "\n",
              "  .colab-df-quickchart-complete:disabled,\n",
              "  .colab-df-quickchart-complete:disabled:hover {\n",
              "    background-color: var(--disabled-bg-color);\n",
              "    fill: var(--disabled-fill-color);\n",
              "    box-shadow: none;\n",
              "  }\n",
              "\n",
              "  .colab-df-spinner {\n",
              "    border: 2px solid var(--fill-color);\n",
              "    border-color: transparent;\n",
              "    border-bottom-color: var(--fill-color);\n",
              "    animation:\n",
              "      spin 1s steps(1) infinite;\n",
              "  }\n",
              "\n",
              "  @keyframes spin {\n",
              "    0% {\n",
              "      border-color: transparent;\n",
              "      border-bottom-color: var(--fill-color);\n",
              "      border-left-color: var(--fill-color);\n",
              "    }\n",
              "    20% {\n",
              "      border-color: transparent;\n",
              "      border-left-color: var(--fill-color);\n",
              "      border-top-color: var(--fill-color);\n",
              "    }\n",
              "    30% {\n",
              "      border-color: transparent;\n",
              "      border-left-color: var(--fill-color);\n",
              "      border-top-color: var(--fill-color);\n",
              "      border-right-color: var(--fill-color);\n",
              "    }\n",
              "    40% {\n",
              "      border-color: transparent;\n",
              "      border-right-color: var(--fill-color);\n",
              "      border-top-color: var(--fill-color);\n",
              "    }\n",
              "    60% {\n",
              "      border-color: transparent;\n",
              "      border-right-color: var(--fill-color);\n",
              "    }\n",
              "    80% {\n",
              "      border-color: transparent;\n",
              "      border-right-color: var(--fill-color);\n",
              "      border-bottom-color: var(--fill-color);\n",
              "    }\n",
              "    90% {\n",
              "      border-color: transparent;\n",
              "      border-bottom-color: var(--fill-color);\n",
              "    }\n",
              "  }\n",
              "</style>\n",
              "\n",
              "      <script>\n",
              "        async function quickchart(key) {\n",
              "          const quickchartButtonEl =\n",
              "            document.querySelector('#' + key + ' button');\n",
              "          quickchartButtonEl.disabled = true;  // To prevent multiple clicks.\n",
              "          quickchartButtonEl.classList.add('colab-df-spinner');\n",
              "          try {\n",
              "            const charts = await google.colab.kernel.invokeFunction(\n",
              "                'suggestCharts', [key], {});\n",
              "          } catch (error) {\n",
              "            console.error('Error during call to suggestCharts:', error);\n",
              "          }\n",
              "          quickchartButtonEl.classList.remove('colab-df-spinner');\n",
              "          quickchartButtonEl.classList.add('colab-df-quickchart-complete');\n",
              "        }\n",
              "        (() => {\n",
              "          let quickchartButtonEl =\n",
              "            document.querySelector('#df-d3ee0090-7385-401d-b847-d5e3528926e9 button');\n",
              "          quickchartButtonEl.style.display =\n",
              "            google.colab.kernel.accessAllowed ? 'block' : 'none';\n",
              "        })();\n",
              "      </script>\n",
              "    </div>\n",
              "\n",
              "    </div>\n",
              "  </div>\n"
            ],
            "application/vnd.google.colaboratory.intrinsic+json": {
              "type": "dataframe",
              "variable_name": "df",
              "summary": "{\n  \"name\": \"df\",\n  \"rows\": 1465,\n  \"fields\": [\n    {\n      \"column\": \"product_id\",\n      \"properties\": {\n        \"dtype\": \"string\",\n        \"num_unique_values\": 1351,\n        \"samples\": [\n          \"B09GFLXVH9\",\n          \"B0BC9BW512\",\n          \"B097JVLW3L\"\n        ],\n        \"semantic_type\": \"\",\n        \"description\": \"\"\n      }\n    },\n    {\n      \"column\": \"product_name\",\n      \"properties\": {\n        \"dtype\": \"string\",\n        \"num_unique_values\": 1337,\n        \"samples\": [\n          \"Glun Multipurpose Portable Electronic Digital Weighing Scale Weight Machine (10 Kg - with Back Light)\",\n          \"Akiara\\u00ae - Makes life easy Mini Sewing Machine with Table Set | Tailoring Machine | Hand Sewing Machine with extension table, foot pedal, adapter\",\n          \"TTK Prestige Limited Orion Mixer Grinder 500 Watts, 3 Jars (1200ml, 1000ml, 500ml) (Red)\"\n        ],\n        \"semantic_type\": \"\",\n        \"description\": \"\"\n      }\n    },\n    {\n      \"column\": \"category\",\n      \"properties\": {\n        \"dtype\": \"category\",\n        \"num_unique_values\": 211,\n        \"samples\": [\n          \"Electronics|Mobiles&Accessories|MobileAccessories|Photo&VideoAccessories|SelfieSticks\",\n          \"Home&Kitchen|Kitchen&HomeAppliances|Coffee,Tea&Espresso|CoffeeGrinders|ElectricGrinders\",\n          \"Computers&Accessories|Accessories&Peripherals|HardDriveAccessories|Caddies\"\n        ],\n        \"semantic_type\": \"\",\n        \"description\": \"\"\n      }\n    },\n    {\n      \"column\": \"discounted_price\",\n      \"properties\": {\n        \"dtype\": \"category\",\n        \"num_unique_values\": 550,\n        \"samples\": [\n          \"\\u20b920,999\",\n          \"\\u20b91,699\",\n          \"\\u20b9419\"\n        ],\n        \"semantic_type\": \"\",\n        \"description\": \"\"\n      }\n    },\n    {\n      \"column\": \"actual_price\",\n      \"properties\": {\n        \"dtype\": \"category\",\n        \"num_unique_values\": 449,\n        \"samples\": [\n          \"\\u20b93,210\",\n          \"\\u20b91,129\",\n          \"\\u20b94,500\"\n        ],\n        \"semantic_type\": \"\",\n        \"description\": \"\"\n      }\n    },\n    {\n      \"column\": \"discount_percentage\",\n      \"properties\": {\n        \"dtype\": \"category\",\n        \"num_unique_values\": 92,\n        \"samples\": [\n          \"86%\",\n          \"72%\",\n          \"26%\"\n        ],\n        \"semantic_type\": \"\",\n        \"description\": \"\"\n      }\n    },\n    {\n      \"column\": \"rating\",\n      \"properties\": {\n        \"dtype\": \"category\",\n        \"num_unique_values\": 28,\n        \"samples\": [\n          \"3.6\",\n          \"3\",\n          \"3.3\"\n        ],\n        \"semantic_type\": \"\",\n        \"description\": \"\"\n      }\n    },\n    {\n      \"column\": \"rating_count\",\n      \"properties\": {\n        \"dtype\": \"string\",\n        \"num_unique_values\": 1143,\n        \"samples\": [\n          \"197\",\n          \"7,945\",\n          \"1,40,036\"\n        ],\n        \"semantic_type\": \"\",\n        \"description\": \"\"\n      }\n    },\n    {\n      \"column\": \"about_product\",\n      \"properties\": {\n        \"dtype\": \"string\",\n        \"num_unique_values\": 1293,\n        \"samples\": [\n          \"Advanced Bluetooth calling: Upgrade to an effortless calling experience - attend/reject calls and dial numbers, from your wrist.;Digital crown: Navigate through the watch, adjust volume and change the watch face via the fully-functional crown.|1.72\\u2019\\u2019display: ColorFit Pro 4 features 1.72\\u2019\\u2019 TFT LCD with 25% more screen area than ColorFit Pro 3.;Vivid clarity: View information under the brightest sun, thanks to 311 PPI and 500 nits of brightness.|60Hz refresh rate: Get smoother scrolling & navigation experience.;100 sports modes: Take your pick from 100 sports modes and ace your game.|Noise Health Suite: Know how your body is doing with the battery of fitness features.;Productivity suite: Get more work done with quick reply options, stock market updates, alarm and disconnect with smart DND when you want to.; Water Resistance Level: Water Resistant|Item Type Name: Smartwatch; Connectivity Technology: Usb; Included Components: \\u200eSmartwatch, Magnetic Charger, User Manual, Warranty Card\",\n          \"Fire-Boltt is India' No 1 Wearable Watch Brand Q122 by IDC Worldwide quarterly wearable device tracker Q122.\\u30101.69\\u201d HD Large Touch Screen\\u3011- Fire-Boltt Ninja 3 comes with a 1.69\\u201d HD Full Touch Display for smooth swipes and clear vision;\\u3010SPO2/ Oxygen, Heart Rate\\u3011 - Fire-Boltt Ninja 3 Smartwatch comes with real time 24*7 SPO2 / Blood Oxygen tracking, Dynamic Heart Rate Monitoring (If a patient is suffering from Covid 19 please use a medical device prescribed by the Doctor)|\\u301060 workout modes\\u3011- This smartwatch consists of 60 sports mode to track. Keep a track of all your activities and compare history to analyse your performance. Count steps, distance, and calories burned.;\\u3010IP68 Water Resistant\\u3011- This smartwatch can withstand dust, spills, raindrops and is sweatproof too|\\u3010POWERFUL BATTERY\\u3011 - About 7 days battery life and a Standby Time of 25 Days \\u3010Multiple Watch Faces\\u3011- Unlimited Customized Built in Watch Faces and also multiple watch faces through the app;\\u3010Stay Social Stay Updated\\u3011 \\u2013 Inbuilt Social Media Notifications.|\\u3010All In One Smart Coach\\u3011 - Track your Daily Steps, Sleep, Fitness, Sports, Heart Rate and SPO2 \\u3010Enjoy Music And Camera Control\\u3011 \\u3010IP68 Water Resistant\\u3011- This smartwatch can withstand dust, spills, raindrops and is sweatproof too; Water Resistance Level: water_resistant|Connectivity Technology: Bluetooth; Clasp Type: Tang Buckle; Compatible Devices: Smartphonetablet; Human Interface Input: Touch Screenbuttons; Item Type Name: Smart Watch; Included Components: 1 Smartwatch, 1 Manual, 1 Magnetic Charger, 1 Warranty Card; Band Color: Green; Band Material Type: Silicone; Case Material Type: Plastic; Color Name: Green\",\n          \"Keyboard : Standard keyboard|Rupee key, Comfortable|Silent Durable keys|Mouse : Ergonomic design, Accurate optical sensor|High resolution enabling faster navigation\"\n        ],\n        \"semantic_type\": \"\",\n        \"description\": \"\"\n      }\n    },\n    {\n      \"column\": \"user_id\",\n      \"properties\": {\n        \"dtype\": \"string\",\n        \"num_unique_values\": 1194,\n        \"samples\": [\n          \"AEWW4LJOVXD65UKE7QCBCHQZMG7A,AGVWB5YTQZC7GAIV4PCCOFF2U27A,AFUR2THG6BYV6IRA5JV6LBQNG2AA,AFSG5TXKKCLHBK3FABKJABBBUHEQ,AF2DOUVTY5LHTVWGGVE6YHW5KEGA,AFEX5OM5UOST6POIWTBW6TCEZ2YA,AFKZZOQ7J2SOXP3OHFBEDXNFINCQ,AFD6P5IRXY6KWXUW4H7X6ECRMSLA\",\n          \"AG65C34LATM4J3ZFKJJPDNISZKUQ,AG76GICZHJGA7YVN4TORX36ONVYA,AHHIHCEKEYDIRPJ5W7WXGLB3E66Q,AFYSF6635O2EAPR4GMVBH74FSIFQ,AHAVRPA7Z3PKTTWVBVUISCKI7RYQ,AEDH674UH53A5FKLUZCCM5LVKUQQ,AEUK344UA4FNU4PR4AWSPKWX5PPQ,AGPAK6ELVZPVKQ7GEZ7IUHNK2C3Q\",\n          \"AE3S2ZAEMH765KUJ57DR6HBZBB3Q,AHSIVUNTJMI5S5AJGFDE5EDQ355Q,AGQUDHVCMBW7DYS2HT5HA3QCZIEA,AFNXZNINQLTHKVRFI37VQAAFFGOA,AGVKQNHNS7PQK63FIB6EVC5GUAMQ,AEHZ4NOZ5SIDQLGODWS4UZ6RVQJA,AGBVAEUPMWYCDQIKNAD2DXEYWXZA,AEOJW7OWUZROZ6Z66ZQU33Y2ZYLQ\"\n        ],\n        \"semantic_type\": \"\",\n        \"description\": \"\"\n      }\n    },\n    {\n      \"column\": \"user_name\",\n      \"properties\": {\n        \"dtype\": \"string\",\n        \"num_unique_values\": 1194,\n        \"samples\": [\n          \"Kindle Customer,Aryan,pooja reddy,Amazon Customer,Meenakshi jasrotia,imamthulla,Anan,Sanjay Chavan\",\n          \"zain,Deepak,VIMAL,Shiv Sagar,Tamil selvan,Rakesh yadav,PAGOLA SURESH,Olivia\",\n          \"Fardeen mujawar,Pavan,Danny,Siddhartha Pratap,Rabindra Kumar Das,Amazon Customer,Rakesh Ranga Yadav,Nivedita Chatterjee\"\n        ],\n        \"semantic_type\": \"\",\n        \"description\": \"\"\n      }\n    },\n    {\n      \"column\": \"review_id\",\n      \"properties\": {\n        \"dtype\": \"string\",\n        \"num_unique_values\": 1194,\n        \"samples\": [\n          \"R1T4TKPYU5EJCB,R1D38AX8G0RVNS,R1KHCRDEEREQG7,R396UL83OTSD8F,R3CY781PK5CB8A,RBCCWRI4IUHH5,R2K7JYQMGQ31YJ,R3P0GJ4V5HPF2M\",\n          \"R2JCUKBR0BQ8ES,RNVX0V6SJF3CP,RW5MJG9LTX6QD,R37PSG13H70Z1F,R17RIHK0XXQDH5,R2P187SBO4SEMH,R1V49G7PD8Y93G,RU78E5A4MW0PK\",\n          \"RD6OIJUG0R241,R3EUJ7A6LG8X7V,R1DWGT4USEVGYK,R187KH5XJBPS86,R2XYH31E9NK0GU,RDYNZZPHU7SZK,R2MR0DYZVFN3HA,R3PV91U8ZYN5DU\"\n        ],\n        \"semantic_type\": \"\",\n        \"description\": \"\"\n      }\n    },\n    {\n      \"column\": \"review_title\",\n      \"properties\": {\n        \"dtype\": \"string\",\n        \"num_unique_values\": 1194,\n        \"samples\": [\n          \"Clearly makes a difference,Good,Value for money,Good material,The ink of parker is very lite,Good,Good,Very good\",\n          \"Good product with less money,At this price ok ok.,Good product,Good mouse at this price range,Good,Good for daily use ke liye,Good,Good\",\n          \"Ok,Like all other ball pens,Regular pen over priced,Nice,It is fine.,Awful blue ink,Nice and my Favorite Pen,Reasonable price\"\n        ],\n        \"semantic_type\": \"\",\n        \"description\": \"\"\n      }\n    },\n    {\n      \"column\": \"review_content\",\n      \"properties\": {\n        \"dtype\": \"string\",\n        \"num_unique_values\": 1212,\n        \"samples\": [\n          \"Reviewing just after a day of using this product. We made French fries and chicken tikka and result is quiet impressive! The recipe book and cooking tips from the given QR code is really helpful. Hope it serves for a long time.Not to forget about the beautiful bottle green and golden look of it.,,https://m.media-amazon.com/images/I/81lT2gsd9sL._SY88.jpg,No detailed user manual.. no idea about the cooking time. How to use is not describe.,It works well and plastic quality is poor but it can wothstand the temperature for sure. Its not a toy to look for high quality plastic. And for the half the price that the other models, we can ignore that.Functionality wise its perfect.Just buy it,Don't go for costly products as it is available in a reasonable price and it has so many great features. I'm happy with it,Pigeon never dissapointd with their quality. The best way to have healthy, crispy food.,The outcome of cooked is not up to the mark.  The recipe book was not attached so,  it is difficult to know how to cook different dishes.  I tried some but outcome was bad.  Definitely you will have to compromise taste if you use this appliance.  I'm very much worried about the current consumption.  Think before you buy these air fryers.\",\n          \"Not a perfect fit for long usage,One problem you may face if you use it continuously for a long time may be ear ache can be start..,Although it's an HP product there's nothing to write home about this headphone. It does what it is promised and there's value for money as you can trust the brand but don't expect anything 'extra'. No volume control or on/off button, comfortable to wear but not designed for comfort, clear sound, and a mic but no advanced features for either. Yet it's good for the price!,Product would not meet my expectation and sound quality is poor.,Sound quality is good , cancels the background noise.,Not a bad deal,Build quality and sound quality was good,Base and noise cancelling is also good \\u263a\\ufe0f\\ud83d\\ude0a,I bought it in october month but now is not wprking properly\",\n          \"ABOUT  AMAZONBASICS:xxxxxxxxxxxxxxxxxxxxxxxxxxxxxxAmazon Basics was launched in 2009 & is Amazon\\u2019s own inhouse brand for fast moving small electronic consumer goods.Here amazon uses its massive collection of sales data to launch products that are in huge demand & already exist in the market- but at lower prices. Simply put up a similar replica for something successful but at much affordable prices.If something isn\\u2019t an immediate hit, Amazon pulls it and moves on.Amazon otherwise is like an online marketplace where it provides a portal for various sellers to sell their product BUT with amazonbasics - Amazon is selling its own product at its own marketplace .Here it derives the benefit of eliminating any intermediate distributors or retailers & hence amazonbasics branded products are available for a lower price attracting bulk customers online.As an additional benefit, Amazonbasics products are delivered free to prime members & are covered under amazon warranty for all and hence any claim or replacement procedures are highly streamlined & immediately taken care of.ABOUT OUR PRODUCT ( REQUIREMENT vs ACTUAL):xxxxxxxxxxxxxxxxxxxxxxxxxxxxxxxxxxxxxxxxxxxxxxxxxxxxxxI recently purchased a new Qualcomm 3 Qbix car charger & was looking for a cable with USB A to Micro B connector. I listed my priorities under various heads to come up with a conclusion and let us compare the actual product based upon my initial requirements:1.) DATA EXCHANGE:*****************************Since it was to be primarily used for fast mobile devices charging in car, Data exchange capability was not much of my concern. Preference though would surely have been a USB 3 but it didn\\u2019t bother me if I could only get a USB 2.0 too.ACTUAL PRODUCT: I did try to copy a movie file just for the sake of testing data exchange and I found it to be pretty well. I did not capture any speed data but then we all know speed of data transfer also varies with the type of data being transferred. The more variety of data being transferred simultaneously the lower will be the speed.2.) LENGTH OF THE CABLE :**************************************Again since I could not afford to have a lengthy loop of cable bunched around my gear knob, I preferred to keep it short & simple hence my only lookout was upto around a meter or below.ACTUAL PRODUCT: The cable came nicely packed in a paper packet and was precisely 0.9 meters or approximately 3 feet long. The length was sufficient for me to plug-in any of the mobile devices to my car charger at the drivers or the side passenger\\u2019s seat.3.) TANGLE FREE/ FLEXIBILITY/ STRENGTH STANDARDS:**************************************************************************I am not particularly a fan of those stubborn braided wires which are so hard that they retain the shape in which they are bent. I wanted something that was thick yet flexible enough to acquire a circular shape when bunched.ACTUAL PRODUCT: The cable received looked exactly as shown over the site with good flexibility , reasonable thickness & a sturdy intermediate cable. The whole construction of the cable due it\\u2019s cable size & flexibility is almost tangle-free.The associated cable was not exactly thick but can\\u2019t be termed as thin or delicate too. It\\u2019s not the thickest I\\u2019ve seen but then thickest doesn\\u2019t always means most durable. Given my application it\\u2019s more than just suitable.The overall built & quality of the cable & insulation looks promising enough to last few years. Even if used for other than car charging it looks durable enough to last long.I had further shortlisted mansaa & an amkette cable for the same purpose but they were too long for my requirement.4.) COMPACT MOULDED CONNECTORS:*********************************************************Had an inclination towards moulded connectors to avoid any issues where the connectors break open exposing the terminal PCBs.ACTUAL PRODUCT : There are no complaints regarding the connectors of the actual cable. The connectors are perfectly moulded without any joints or risks of splitting open. The connector casings are further quite compact at terminals to fit in comfortably at scarce spaces.The connector ports are sturdy enough both at USB A & micro B ports. The micro B port pins lock securely onto the charging mobile devices which is quite good.No signs of loose construction.Being Gold-plated is more of a misleading & fancy term(in this case) as most of the metal ports designed today already have a corrosion resistance & nobody is going to use them in saline sea water anyways.5.) AVAILABILITY OF TIES/VELCRO STRAPS :***********************************************************As per my intended use in a car where compactness was of paramount importance, I expected an included cable tie or a Velcro strap would be a nice add-on to properly adjust & arrange the cable as per requirement.ACTUAL PRODUCT: This I miss the most in the provided actual cable, there is no provision of an included strap or cable tie through which I could adjust my required cable length easily.6.) DECENT CURRENT HANDLING CAPABILITY:******************************************************************On the newest QC 3.0 certified chargers the current transmission can go up to 3.4 amps in certain cases hence the cable needed to have a decent current handling ability.ACTUAL PRODUCT : The actual cable has a nameplate rating of handling up to 2.1 amps against demands at new QC 3.0 chargers that could go up to 3.4 amps. Here, let me clear out that the latest QC chargers vary voltage to current ratios to achieve desired fast charging  & thus it is not like a continuous flow of 3.4 amps is there, it keeps on reducing hence cable ratings designed for a continuous current handling of anything above 2.0 amps would sufficiently work with QC 3.0 chargers.Have tried it safely multiple times charging my Samsung S7 from 10 % without the cable getting hot.7.) WARRANTY:************************Comes with a 1 year warranty as expected. Not the best in the industry but reasonable.OTHER OBSERVATIONS:*************************************Apart from the above listed features, the other details of the actual product received worth mentioning are:8.) The cable is manufactured in China & imported by amazon warehouse dealers under the brand name & philosophy of amazonbasics.9.) The cable has a manufacturing date of Oct 2017 & it was imported to India in Dec 2017.10.) The cable has a MRP tag of 495 bucks however I purchased it online for 269 bucks.being a prime member shipping was free.11.) A customer care toll free number & email is also printed over the label for registration of any consumer grievances.FINAL VERDICT:xxxxxxxxxxxxxxxxxxIt has been few days since I have received & been using this product. So far everything from construction to performance seems to be convincing enough to recommend it and for a price of around 260 I suppose, its worth it.Will surely update if any malfunction is observed.,Worth for buy!,The quality that amazon basics at times give at cheap prices is beyond imagination. simply superb, goverment shouldnt hinder amazon products , amazon products rather gives competition to local qualityless products which consumers are forced to buy beacause they have no quality competition. Make in india is good, but if the make in india products are simple cheap copies of branded products without any investment in R and D, without R and D make in india would never be successfull and ousting companies like amazon will only lead to loss for consumers , govt should infact encourage such competition.,Amazon basics provides one of the best cables available for charging your phone or connecting devices.As an past customer of many cables from Amazon this cable doesn't also disappoint,Supports fast charging for all my Samsung phones.I use Samsung a9pro 2016, Samsung s8plus 2017, which this cable is compatible with .Very sturdy, thick and very long. 6 ftVery affordable pricing. Thanks AmazonI also use a USB c cable for my Samsung s20fe.,Super,Product charging is ok.. however it's mere 1 foot in length..  the vendor could have mentioned  correct product description.. there is no need to mislead.. too early to say performance as I have received it today.,Good,I have bought many cheap chinese micro usb cable in Rs 50 and Rs 100 of ubon and of many other chinese local companies,and none of them worked properly.Finall i decided to go for this.And it is charging as well transferring data, without any issue and i am very happy with my purchaseMy advice : Dont buy, cheap chinese local cables of.You will have to throw them in dustbean after some time.Better buy this one.\"\n        ],\n        \"semantic_type\": \"\",\n        \"description\": \"\"\n      }\n    },\n    {\n      \"column\": \"img_link\",\n      \"properties\": {\n        \"dtype\": \"string\",\n        \"num_unique_values\": 1412,\n        \"samples\": [\n          \"https://m.media-amazon.com/images/W/WEBP_402378-T2/images/I/51esjcOy79L._SY300_SX300_QL70_FMwebp_.jpg\",\n          \"https://m.media-amazon.com/images/I/41nRBNNDnNL._SX300_SY300_QL70_FMwebp_.jpg\",\n          \"https://m.media-amazon.com/images/I/31-hWNXDxiL._SX300_SY300_QL70_ML2_.jpg\"\n        ],\n        \"semantic_type\": \"\",\n        \"description\": \"\"\n      }\n    },\n    {\n      \"column\": \"product_link\",\n      \"properties\": {\n        \"dtype\": \"string\",\n        \"num_unique_values\": 1465,\n        \"samples\": [\n          \"https://www.amazon.in/Snapdragon-Resolution-Refresh-27-81Cm-Display/dp/B09XXZXQC1/ref=sr_1_437?qid=1672903017&s=computers&sr=1-437\",\n          \"https://www.amazon.in/Skadioo-Accessories-Receiver-Compatible-dongle/dp/B09LHXNZLR/ref=sr_1_195?qid=1672909134&s=electronics&sr=1-195\",\n          \"https://www.amazon.in/LOHAYA-Assistant-Compatible-Xstream-Function/dp/B09LV13JFB/ref=sr_1_408?qid=1672909144&s=electronics&sr=1-408\"\n        ],\n        \"semantic_type\": \"\",\n        \"description\": \"\"\n      }\n    }\n  ]\n}"
            }
          },
          "metadata": {},
          "execution_count": 6
        }
      ]
    },
    {
      "source": [
        "from google.colab import sheets\n",
        "sheet = sheets.InteractiveSheet(df=df)"
      ],
      "cell_type": "code",
      "execution_count": 7,
      "outputs": [
        {
          "output_type": "stream",
          "name": "stdout",
          "text": [
            "https://docs.google.com/spreadsheets/d/1dlaf9ZFOIq_1rV3vk_uNvaUqhXPhcmGMiWmwPj-0QoQ/edit#gid=0\n"
          ]
        },
        {
          "output_type": "display_data",
          "data": {
            "text/plain": [
              "<IPython.lib.display.IFrame at 0x7904135813d0>"
            ],
            "text/html": [
              "\n",
              "        <iframe\n",
              "            width=\"100%\"\n",
              "            height=\"600\"\n",
              "            src=\"https://docs.google.com/spreadsheets/d/1dlaf9ZFOIq_1rV3vk_uNvaUqhXPhcmGMiWmwPj-0QoQ/edit?rm=embedded#gid=0\"\n",
              "            frameborder=\"0\"\n",
              "            allowfullscreen\n",
              "            \n",
              "        ></iframe>\n",
              "        "
            ]
          },
          "metadata": {}
        }
      ],
      "metadata": {
        "cellView": "form",
        "collapsed": true,
        "id": "dHN3nm51l2u_",
        "outputId": "fbf87b4b-b32e-4745-bffa-e5e15d7883e5",
        "colab": {
          "base_uri": "https://localhost:8080/",
          "height": 639
        }
      }
    },
    {
      "cell_type": "code",
      "source": [
        "df.info()"
      ],
      "metadata": {
        "execution": {
          "iopub.status.busy": "2024-02-26T12:41:33.39366Z",
          "iopub.execute_input": "2024-02-26T12:41:33.394717Z",
          "iopub.status.idle": "2024-02-26T12:41:33.413245Z",
          "shell.execute_reply.started": "2024-02-26T12:41:33.39468Z",
          "shell.execute_reply": "2024-02-26T12:41:33.412045Z"
        },
        "trusted": true,
        "collapsed": true,
        "id": "clA0HOYGk4pK",
        "outputId": "ef40a3a6-1409-44d2-ff28-c04e4c1dd5f9",
        "colab": {
          "base_uri": "https://localhost:8080/"
        }
      },
      "execution_count": null,
      "outputs": [
        {
          "output_type": "stream",
          "name": "stdout",
          "text": [
            "<class 'pandas.core.frame.DataFrame'>\n",
            "RangeIndex: 1465 entries, 0 to 1464\n",
            "Data columns (total 16 columns):\n",
            " #   Column               Non-Null Count  Dtype \n",
            "---  ------               --------------  ----- \n",
            " 0   product_id           1465 non-null   object\n",
            " 1   product_name         1465 non-null   object\n",
            " 2   category             1465 non-null   object\n",
            " 3   discounted_price     1465 non-null   object\n",
            " 4   actual_price         1465 non-null   object\n",
            " 5   discount_percentage  1465 non-null   object\n",
            " 6   rating               1465 non-null   object\n",
            " 7   rating_count         1463 non-null   object\n",
            " 8   about_product        1465 non-null   object\n",
            " 9   user_id              1465 non-null   object\n",
            " 10  user_name            1465 non-null   object\n",
            " 11  review_id            1465 non-null   object\n",
            " 12  review_title         1465 non-null   object\n",
            " 13  review_content       1465 non-null   object\n",
            " 14  img_link             1465 non-null   object\n",
            " 15  product_link         1465 non-null   object\n",
            "dtypes: object(16)\n",
            "memory usage: 183.3+ KB\n"
          ]
        }
      ]
    },
    {
      "cell_type": "code",
      "source": [
        "df.isnull().sum()"
      ],
      "metadata": {
        "execution": {
          "iopub.status.busy": "2024-02-26T12:41:33.415216Z",
          "iopub.execute_input": "2024-02-26T12:41:33.415653Z",
          "iopub.status.idle": "2024-02-26T12:41:33.433417Z",
          "shell.execute_reply.started": "2024-02-26T12:41:33.415619Z",
          "shell.execute_reply": "2024-02-26T12:41:33.432006Z"
        },
        "trusted": true,
        "collapsed": true,
        "id": "vgp0pi6Ok4pK",
        "outputId": "e53933f9-0ab9-46d6-a5ae-45378469fa6e",
        "colab": {
          "base_uri": "https://localhost:8080/",
          "height": 585
        }
      },
      "execution_count": 8,
      "outputs": [
        {
          "output_type": "execute_result",
          "data": {
            "text/plain": [
              "product_id             0\n",
              "product_name           0\n",
              "category               0\n",
              "discounted_price       0\n",
              "actual_price           0\n",
              "discount_percentage    0\n",
              "rating                 0\n",
              "rating_count           2\n",
              "about_product          0\n",
              "user_id                0\n",
              "user_name              0\n",
              "review_id              0\n",
              "review_title           0\n",
              "review_content         0\n",
              "img_link               0\n",
              "product_link           0\n",
              "dtype: int64"
            ],
            "text/html": [
              "<div>\n",
              "<style scoped>\n",
              "    .dataframe tbody tr th:only-of-type {\n",
              "        vertical-align: middle;\n",
              "    }\n",
              "\n",
              "    .dataframe tbody tr th {\n",
              "        vertical-align: top;\n",
              "    }\n",
              "\n",
              "    .dataframe thead th {\n",
              "        text-align: right;\n",
              "    }\n",
              "</style>\n",
              "<table border=\"1\" class=\"dataframe\">\n",
              "  <thead>\n",
              "    <tr style=\"text-align: right;\">\n",
              "      <th></th>\n",
              "      <th>0</th>\n",
              "    </tr>\n",
              "  </thead>\n",
              "  <tbody>\n",
              "    <tr>\n",
              "      <th>product_id</th>\n",
              "      <td>0</td>\n",
              "    </tr>\n",
              "    <tr>\n",
              "      <th>product_name</th>\n",
              "      <td>0</td>\n",
              "    </tr>\n",
              "    <tr>\n",
              "      <th>category</th>\n",
              "      <td>0</td>\n",
              "    </tr>\n",
              "    <tr>\n",
              "      <th>discounted_price</th>\n",
              "      <td>0</td>\n",
              "    </tr>\n",
              "    <tr>\n",
              "      <th>actual_price</th>\n",
              "      <td>0</td>\n",
              "    </tr>\n",
              "    <tr>\n",
              "      <th>discount_percentage</th>\n",
              "      <td>0</td>\n",
              "    </tr>\n",
              "    <tr>\n",
              "      <th>rating</th>\n",
              "      <td>0</td>\n",
              "    </tr>\n",
              "    <tr>\n",
              "      <th>rating_count</th>\n",
              "      <td>2</td>\n",
              "    </tr>\n",
              "    <tr>\n",
              "      <th>about_product</th>\n",
              "      <td>0</td>\n",
              "    </tr>\n",
              "    <tr>\n",
              "      <th>user_id</th>\n",
              "      <td>0</td>\n",
              "    </tr>\n",
              "    <tr>\n",
              "      <th>user_name</th>\n",
              "      <td>0</td>\n",
              "    </tr>\n",
              "    <tr>\n",
              "      <th>review_id</th>\n",
              "      <td>0</td>\n",
              "    </tr>\n",
              "    <tr>\n",
              "      <th>review_title</th>\n",
              "      <td>0</td>\n",
              "    </tr>\n",
              "    <tr>\n",
              "      <th>review_content</th>\n",
              "      <td>0</td>\n",
              "    </tr>\n",
              "    <tr>\n",
              "      <th>img_link</th>\n",
              "      <td>0</td>\n",
              "    </tr>\n",
              "    <tr>\n",
              "      <th>product_link</th>\n",
              "      <td>0</td>\n",
              "    </tr>\n",
              "  </tbody>\n",
              "</table>\n",
              "</div><br><label><b>dtype:</b> int64</label>"
            ]
          },
          "metadata": {},
          "execution_count": 8
        }
      ]
    },
    {
      "cell_type": "markdown",
      "source": [
        "## <p style=\"font-family:newtimeroman;font-size:150%;text-align:center;color:#06445e;\">Observation Set 1</p>\n",
        "- ***There are 1465 rows and 16 columns in the dataset.***\n",
        "- ***The data type of all columns  is object.***\n",
        "-  ***The columns in the datasets are:***\n",
        "   - ***'product_id', 'product_name', 'category', 'discounted_price',\n",
        "      'actual_price', 'discount_percentage', 'rating', 'rating_count',\n",
        "      'about_product', 'user_id', 'user_name', 'review_id', 'review_title',\n",
        "      'review_content', 'img_link', 'product_link'***\n",
        "- ***There are a few missing values in the dataset, which we will read in detail and deal with later on in the notebook.***\n"
      ],
      "metadata": {
        "id": "vigGwP_8k4pL"
      }
    },
    {
      "cell_type": "code",
      "source": [
        "# Finding unusual string in rating column\n",
        "df['rating'].value_counts()"
      ],
      "metadata": {
        "execution": {
          "iopub.status.busy": "2024-02-26T12:41:33.468734Z",
          "iopub.execute_input": "2024-02-26T12:41:33.469031Z",
          "iopub.status.idle": "2024-02-26T12:41:33.482503Z",
          "shell.execute_reply.started": "2024-02-26T12:41:33.469004Z",
          "shell.execute_reply": "2024-02-26T12:41:33.481737Z"
        },
        "trusted": true,
        "id": "A88Fnzvpk4pO",
        "colab": {
          "base_uri": "https://localhost:8080/",
          "height": 993
        },
        "collapsed": true,
        "outputId": "e068209e-c642-46b8-888f-9e8a92b0c60c"
      },
      "execution_count": 12,
      "outputs": [
        {
          "output_type": "execute_result",
          "data": {
            "text/plain": [
              "rating\n",
              "4.1    244\n",
              "4.3    230\n",
              "4.2    228\n",
              "4.0    129\n",
              "3.9    123\n",
              "4.4    123\n",
              "3.8     86\n",
              "4.5     75\n",
              "4       52\n",
              "3.7     42\n",
              "3.6     35\n",
              "3.5     26\n",
              "4.6     17\n",
              "3.3     16\n",
              "3.4     10\n",
              "4.7      6\n",
              "3.1      4\n",
              "3.0      3\n",
              "4.8      3\n",
              "5.0      3\n",
              "2.8      2\n",
              "3.2      2\n",
              "2.3      1\n",
              "|        1\n",
              "2        1\n",
              "3        1\n",
              "2.6      1\n",
              "2.9      1\n",
              "Name: count, dtype: int64"
            ],
            "text/html": [
              "<div>\n",
              "<style scoped>\n",
              "    .dataframe tbody tr th:only-of-type {\n",
              "        vertical-align: middle;\n",
              "    }\n",
              "\n",
              "    .dataframe tbody tr th {\n",
              "        vertical-align: top;\n",
              "    }\n",
              "\n",
              "    .dataframe thead th {\n",
              "        text-align: right;\n",
              "    }\n",
              "</style>\n",
              "<table border=\"1\" class=\"dataframe\">\n",
              "  <thead>\n",
              "    <tr style=\"text-align: right;\">\n",
              "      <th></th>\n",
              "      <th>count</th>\n",
              "    </tr>\n",
              "    <tr>\n",
              "      <th>rating</th>\n",
              "      <th></th>\n",
              "    </tr>\n",
              "  </thead>\n",
              "  <tbody>\n",
              "    <tr>\n",
              "      <th>4.1</th>\n",
              "      <td>244</td>\n",
              "    </tr>\n",
              "    <tr>\n",
              "      <th>4.3</th>\n",
              "      <td>230</td>\n",
              "    </tr>\n",
              "    <tr>\n",
              "      <th>4.2</th>\n",
              "      <td>228</td>\n",
              "    </tr>\n",
              "    <tr>\n",
              "      <th>4.0</th>\n",
              "      <td>129</td>\n",
              "    </tr>\n",
              "    <tr>\n",
              "      <th>3.9</th>\n",
              "      <td>123</td>\n",
              "    </tr>\n",
              "    <tr>\n",
              "      <th>4.4</th>\n",
              "      <td>123</td>\n",
              "    </tr>\n",
              "    <tr>\n",
              "      <th>3.8</th>\n",
              "      <td>86</td>\n",
              "    </tr>\n",
              "    <tr>\n",
              "      <th>4.5</th>\n",
              "      <td>75</td>\n",
              "    </tr>\n",
              "    <tr>\n",
              "      <th>4</th>\n",
              "      <td>52</td>\n",
              "    </tr>\n",
              "    <tr>\n",
              "      <th>3.7</th>\n",
              "      <td>42</td>\n",
              "    </tr>\n",
              "    <tr>\n",
              "      <th>3.6</th>\n",
              "      <td>35</td>\n",
              "    </tr>\n",
              "    <tr>\n",
              "      <th>3.5</th>\n",
              "      <td>26</td>\n",
              "    </tr>\n",
              "    <tr>\n",
              "      <th>4.6</th>\n",
              "      <td>17</td>\n",
              "    </tr>\n",
              "    <tr>\n",
              "      <th>3.3</th>\n",
              "      <td>16</td>\n",
              "    </tr>\n",
              "    <tr>\n",
              "      <th>3.4</th>\n",
              "      <td>10</td>\n",
              "    </tr>\n",
              "    <tr>\n",
              "      <th>4.7</th>\n",
              "      <td>6</td>\n",
              "    </tr>\n",
              "    <tr>\n",
              "      <th>3.1</th>\n",
              "      <td>4</td>\n",
              "    </tr>\n",
              "    <tr>\n",
              "      <th>3.0</th>\n",
              "      <td>3</td>\n",
              "    </tr>\n",
              "    <tr>\n",
              "      <th>4.8</th>\n",
              "      <td>3</td>\n",
              "    </tr>\n",
              "    <tr>\n",
              "      <th>5.0</th>\n",
              "      <td>3</td>\n",
              "    </tr>\n",
              "    <tr>\n",
              "      <th>2.8</th>\n",
              "      <td>2</td>\n",
              "    </tr>\n",
              "    <tr>\n",
              "      <th>3.2</th>\n",
              "      <td>2</td>\n",
              "    </tr>\n",
              "    <tr>\n",
              "      <th>2.3</th>\n",
              "      <td>1</td>\n",
              "    </tr>\n",
              "    <tr>\n",
              "      <th>|</th>\n",
              "      <td>1</td>\n",
              "    </tr>\n",
              "    <tr>\n",
              "      <th>2</th>\n",
              "      <td>1</td>\n",
              "    </tr>\n",
              "    <tr>\n",
              "      <th>3</th>\n",
              "      <td>1</td>\n",
              "    </tr>\n",
              "    <tr>\n",
              "      <th>2.6</th>\n",
              "      <td>1</td>\n",
              "    </tr>\n",
              "    <tr>\n",
              "      <th>2.9</th>\n",
              "      <td>1</td>\n",
              "    </tr>\n",
              "  </tbody>\n",
              "</table>\n",
              "</div><br><label><b>dtype:</b> int64</label>"
            ]
          },
          "metadata": {},
          "execution_count": 12
        }
      ]
    },
    {
      "cell_type": "code",
      "source": [
        "# Check the strange row\n",
        "df.query('rating == \"|\"')"
      ],
      "metadata": {
        "execution": {
          "iopub.status.busy": "2024-02-26T12:41:33.48403Z",
          "iopub.execute_input": "2024-02-26T12:41:33.484383Z",
          "iopub.status.idle": "2024-02-26T12:41:33.513096Z",
          "shell.execute_reply.started": "2024-02-26T12:41:33.484355Z",
          "shell.execute_reply": "2024-02-26T12:41:33.511722Z"
        },
        "trusted": true,
        "id": "ToKDvDewk4pP",
        "colab": {
          "base_uri": "https://localhost:8080/",
          "height": 170
        },
        "collapsed": true,
        "outputId": "6ef2d0db-07cc-41ae-ba58-fc8e9915316c"
      },
      "execution_count": 13,
      "outputs": [
        {
          "output_type": "execute_result",
          "data": {
            "text/plain": [
              "      product_id                                       product_name  \\\n",
              "1279  B08L12N5H1  Eureka Forbes car Vac 100 Watts Powerful Sucti...   \n",
              "\n",
              "                                               category discounted_price  \\\n",
              "1279  Home&Kitchen|Kitchen&HomeAppliances|Vacuum,Cle...           ₹2,099   \n",
              "\n",
              "     actual_price  discount_percentage rating rating_count  \\\n",
              "1279       ₹2,499                 0.16      |          992   \n",
              "\n",
              "                                          about_product  \\\n",
              "1279  No Installation is provided for this product|1...   \n",
              "\n",
              "                                                user_id  \\\n",
              "1279  AGTDSNT2FKVYEPDPXAA673AIS44A,AER2XFSWNN4LAUCJ5...   \n",
              "\n",
              "                                              user_name  \\\n",
              "1279  Divya,Dr Nefario,Deekshith,Preeti,Prasanth R,P...   \n",
              "\n",
              "                                              review_id  \\\n",
              "1279  R2KKTKM4M9RDVJ,R1O692MZOBTE79,R2WRSEWL56SOS4,R...   \n",
              "\n",
              "                                           review_title  \\\n",
              "1279  Decent product,doesn't pick up sand,Ok ok,Must...   \n",
              "\n",
              "                                         review_content  \\\n",
              "1279  Does the job well,doesn't work on sand. though...   \n",
              "\n",
              "                                               img_link  \\\n",
              "1279  https://m.media-amazon.com/images/W/WEBP_40237...   \n",
              "\n",
              "                                           product_link  \n",
              "1279  https://www.amazon.in/Eureka-Forbes-Vacuum-Cle...  "
            ],
            "text/html": [
              "\n",
              "  <div id=\"df-17a69484-3041-49a2-9c71-48c34140025a\" class=\"colab-df-container\">\n",
              "    <div>\n",
              "<style scoped>\n",
              "    .dataframe tbody tr th:only-of-type {\n",
              "        vertical-align: middle;\n",
              "    }\n",
              "\n",
              "    .dataframe tbody tr th {\n",
              "        vertical-align: top;\n",
              "    }\n",
              "\n",
              "    .dataframe thead th {\n",
              "        text-align: right;\n",
              "    }\n",
              "</style>\n",
              "<table border=\"1\" class=\"dataframe\">\n",
              "  <thead>\n",
              "    <tr style=\"text-align: right;\">\n",
              "      <th></th>\n",
              "      <th>product_id</th>\n",
              "      <th>product_name</th>\n",
              "      <th>category</th>\n",
              "      <th>discounted_price</th>\n",
              "      <th>actual_price</th>\n",
              "      <th>discount_percentage</th>\n",
              "      <th>rating</th>\n",
              "      <th>rating_count</th>\n",
              "      <th>about_product</th>\n",
              "      <th>user_id</th>\n",
              "      <th>user_name</th>\n",
              "      <th>review_id</th>\n",
              "      <th>review_title</th>\n",
              "      <th>review_content</th>\n",
              "      <th>img_link</th>\n",
              "      <th>product_link</th>\n",
              "    </tr>\n",
              "  </thead>\n",
              "  <tbody>\n",
              "    <tr>\n",
              "      <th>1279</th>\n",
              "      <td>B08L12N5H1</td>\n",
              "      <td>Eureka Forbes car Vac 100 Watts Powerful Sucti...</td>\n",
              "      <td>Home&amp;Kitchen|Kitchen&amp;HomeAppliances|Vacuum,Cle...</td>\n",
              "      <td>₹2,099</td>\n",
              "      <td>₹2,499</td>\n",
              "      <td>0.16</td>\n",
              "      <td>|</td>\n",
              "      <td>992</td>\n",
              "      <td>No Installation is provided for this product|1...</td>\n",
              "      <td>AGTDSNT2FKVYEPDPXAA673AIS44A,AER2XFSWNN4LAUCJ5...</td>\n",
              "      <td>Divya,Dr Nefario,Deekshith,Preeti,Prasanth R,P...</td>\n",
              "      <td>R2KKTKM4M9RDVJ,R1O692MZOBTE79,R2WRSEWL56SOS4,R...</td>\n",
              "      <td>Decent product,doesn't pick up sand,Ok ok,Must...</td>\n",
              "      <td>Does the job well,doesn't work on sand. though...</td>\n",
              "      <td>https://m.media-amazon.com/images/W/WEBP_40237...</td>\n",
              "      <td>https://www.amazon.in/Eureka-Forbes-Vacuum-Cle...</td>\n",
              "    </tr>\n",
              "  </tbody>\n",
              "</table>\n",
              "</div>\n",
              "    <div class=\"colab-df-buttons\">\n",
              "\n",
              "  <div class=\"colab-df-container\">\n",
              "    <button class=\"colab-df-convert\" onclick=\"convertToInteractive('df-17a69484-3041-49a2-9c71-48c34140025a')\"\n",
              "            title=\"Convert this dataframe to an interactive table.\"\n",
              "            style=\"display:none;\">\n",
              "\n",
              "  <svg xmlns=\"http://www.w3.org/2000/svg\" height=\"24px\" viewBox=\"0 -960 960 960\">\n",
              "    <path d=\"M120-120v-720h720v720H120Zm60-500h600v-160H180v160Zm220 220h160v-160H400v160Zm0 220h160v-160H400v160ZM180-400h160v-160H180v160Zm440 0h160v-160H620v160ZM180-180h160v-160H180v160Zm440 0h160v-160H620v160Z\"/>\n",
              "  </svg>\n",
              "    </button>\n",
              "\n",
              "  <style>\n",
              "    .colab-df-container {\n",
              "      display:flex;\n",
              "      gap: 12px;\n",
              "    }\n",
              "\n",
              "    .colab-df-convert {\n",
              "      background-color: #E8F0FE;\n",
              "      border: none;\n",
              "      border-radius: 50%;\n",
              "      cursor: pointer;\n",
              "      display: none;\n",
              "      fill: #1967D2;\n",
              "      height: 32px;\n",
              "      padding: 0 0 0 0;\n",
              "      width: 32px;\n",
              "    }\n",
              "\n",
              "    .colab-df-convert:hover {\n",
              "      background-color: #E2EBFA;\n",
              "      box-shadow: 0px 1px 2px rgba(60, 64, 67, 0.3), 0px 1px 3px 1px rgba(60, 64, 67, 0.15);\n",
              "      fill: #174EA6;\n",
              "    }\n",
              "\n",
              "    .colab-df-buttons div {\n",
              "      margin-bottom: 4px;\n",
              "    }\n",
              "\n",
              "    [theme=dark] .colab-df-convert {\n",
              "      background-color: #3B4455;\n",
              "      fill: #D2E3FC;\n",
              "    }\n",
              "\n",
              "    [theme=dark] .colab-df-convert:hover {\n",
              "      background-color: #434B5C;\n",
              "      box-shadow: 0px 1px 3px 1px rgba(0, 0, 0, 0.15);\n",
              "      filter: drop-shadow(0px 1px 2px rgba(0, 0, 0, 0.3));\n",
              "      fill: #FFFFFF;\n",
              "    }\n",
              "  </style>\n",
              "\n",
              "    <script>\n",
              "      const buttonEl =\n",
              "        document.querySelector('#df-17a69484-3041-49a2-9c71-48c34140025a button.colab-df-convert');\n",
              "      buttonEl.style.display =\n",
              "        google.colab.kernel.accessAllowed ? 'block' : 'none';\n",
              "\n",
              "      async function convertToInteractive(key) {\n",
              "        const element = document.querySelector('#df-17a69484-3041-49a2-9c71-48c34140025a');\n",
              "        const dataTable =\n",
              "          await google.colab.kernel.invokeFunction('convertToInteractive',\n",
              "                                                    [key], {});\n",
              "        if (!dataTable) return;\n",
              "\n",
              "        const docLinkHtml = 'Like what you see? Visit the ' +\n",
              "          '<a target=\"_blank\" href=https://colab.research.google.com/notebooks/data_table.ipynb>data table notebook</a>'\n",
              "          + ' to learn more about interactive tables.';\n",
              "        element.innerHTML = '';\n",
              "        dataTable['output_type'] = 'display_data';\n",
              "        await google.colab.output.renderOutput(dataTable, element);\n",
              "        const docLink = document.createElement('div');\n",
              "        docLink.innerHTML = docLinkHtml;\n",
              "        element.appendChild(docLink);\n",
              "      }\n",
              "    </script>\n",
              "  </div>\n",
              "\n",
              "\n",
              "    </div>\n",
              "  </div>\n"
            ],
            "application/vnd.google.colaboratory.intrinsic+json": {
              "type": "dataframe",
              "summary": "{\n  \"name\": \"df\",\n  \"rows\": 1,\n  \"fields\": [\n    {\n      \"column\": \"product_id\",\n      \"properties\": {\n        \"dtype\": \"string\",\n        \"num_unique_values\": 1,\n        \"samples\": [\n          \"B08L12N5H1\"\n        ],\n        \"semantic_type\": \"\",\n        \"description\": \"\"\n      }\n    },\n    {\n      \"column\": \"product_name\",\n      \"properties\": {\n        \"dtype\": \"string\",\n        \"num_unique_values\": 1,\n        \"samples\": [\n          \"Eureka Forbes car Vac 100 Watts Powerful Suction Vacuum Cleaner with Washable HEPA Filter, 3 Accessories,Compact,Light Weight & Easy to use (Black and Red)\"\n        ],\n        \"semantic_type\": \"\",\n        \"description\": \"\"\n      }\n    },\n    {\n      \"column\": \"category\",\n      \"properties\": {\n        \"dtype\": \"string\",\n        \"num_unique_values\": 1,\n        \"samples\": [\n          \"Home&Kitchen|Kitchen&HomeAppliances|Vacuum,Cleaning&Ironing|Vacuums&FloorCare|Vacuums|HandheldVacuums\"\n        ],\n        \"semantic_type\": \"\",\n        \"description\": \"\"\n      }\n    },\n    {\n      \"column\": \"discounted_price\",\n      \"properties\": {\n        \"dtype\": \"string\",\n        \"num_unique_values\": 1,\n        \"samples\": [\n          \"\\u20b92,099\"\n        ],\n        \"semantic_type\": \"\",\n        \"description\": \"\"\n      }\n    },\n    {\n      \"column\": \"actual_price\",\n      \"properties\": {\n        \"dtype\": \"string\",\n        \"num_unique_values\": 1,\n        \"samples\": [\n          \"\\u20b92,499\"\n        ],\n        \"semantic_type\": \"\",\n        \"description\": \"\"\n      }\n    },\n    {\n      \"column\": \"discount_percentage\",\n      \"properties\": {\n        \"dtype\": \"number\",\n        \"std\": null,\n        \"min\": 0.16,\n        \"max\": 0.16,\n        \"num_unique_values\": 1,\n        \"samples\": [\n          0.16\n        ],\n        \"semantic_type\": \"\",\n        \"description\": \"\"\n      }\n    },\n    {\n      \"column\": \"rating\",\n      \"properties\": {\n        \"dtype\": \"string\",\n        \"num_unique_values\": 1,\n        \"samples\": [\n          \"|\"\n        ],\n        \"semantic_type\": \"\",\n        \"description\": \"\"\n      }\n    },\n    {\n      \"column\": \"rating_count\",\n      \"properties\": {\n        \"dtype\": \"string\",\n        \"num_unique_values\": 1,\n        \"samples\": [\n          \"992\"\n        ],\n        \"semantic_type\": \"\",\n        \"description\": \"\"\n      }\n    },\n    {\n      \"column\": \"about_product\",\n      \"properties\": {\n        \"dtype\": \"string\",\n        \"num_unique_values\": 1,\n        \"samples\": [\n          \"No Installation is provided for this product|100 Watts Powerful Motor|Powerful Suction|In-Built LED Torch|Range of accessories for different cleaning needs|Fit type: Universal Fit\"\n        ],\n        \"semantic_type\": \"\",\n        \"description\": \"\"\n      }\n    },\n    {\n      \"column\": \"user_id\",\n      \"properties\": {\n        \"dtype\": \"string\",\n        \"num_unique_values\": 1,\n        \"samples\": [\n          \"AGTDSNT2FKVYEPDPXAA673AIS44A,AER2XFSWNN4LAUCJ55IY5SOMF7WA,AE3MSW6H3AL6F3ZGR5LCN5AHJO6A,AG5OL5WIIPJBY25HISJLM5K2UBTQ,AGHFSIBYVYXUGSNYUDAHBGOIZ3KQ,AHYH6AZT3U3U44CDW5Y563UYIIUA,AFLOAOURRZZZGFBF7F6IKGXRB6NQ,AGNWBYEVAIII4MPQNKN3LFVOHYZQ\"\n        ],\n        \"semantic_type\": \"\",\n        \"description\": \"\"\n      }\n    },\n    {\n      \"column\": \"user_name\",\n      \"properties\": {\n        \"dtype\": \"string\",\n        \"num_unique_values\": 1,\n        \"samples\": [\n          \"Divya,Dr Nefario,Deekshith,Preeti,Prasanth R,Pradeep kashiram Tetgure.,Abhijin Janardhan,Prashant\"\n        ],\n        \"semantic_type\": \"\",\n        \"description\": \"\"\n      }\n    },\n    {\n      \"column\": \"review_id\",\n      \"properties\": {\n        \"dtype\": \"string\",\n        \"num_unique_values\": 1,\n        \"samples\": [\n          \"R2KKTKM4M9RDVJ,R1O692MZOBTE79,R2WRSEWL56SOS4,R3VZRQJOKCBSH4,R2QI4626ASSCIT,R1TFFJ5ON6ATEO,R14JK9VQCXXEKU,R1V4J4B7RXHG8T\"\n        ],\n        \"semantic_type\": \"\",\n        \"description\": \"\"\n      }\n    },\n    {\n      \"column\": \"review_title\",\n      \"properties\": {\n        \"dtype\": \"string\",\n        \"num_unique_values\": 1,\n        \"samples\": [\n          \"Decent product,doesn't pick up sand,Ok ok,Must Buy,Good one for basic use with normal suction power,Super,First review,Perfect product for my car\"\n        ],\n        \"semantic_type\": \"\",\n        \"description\": \"\"\n      }\n    },\n    {\n      \"column\": \"review_content\",\n      \"properties\": {\n        \"dtype\": \"string\",\n        \"num_unique_values\": 1,\n        \"samples\": [\n          \"Does the job well,doesn't work on sand. though the suction is very good, the sand stays back no matter which lead you use.,Ok ok,Easy to use product (I used it for the first time without knowing the know-how of its use). Cleans almost 90% of your mess inside the car. Highly recommended.,Pros: look and feel, easy to hold and handle, Cord length, useful led light during night, normal suction power but good enough for general useCons: noise is bit loud, suction power could be better,Good,Hmm,Strudy design, quality accessories,reputated brand.I have seen some car vaccum cleaners especially the low cost one's where dust comes out of machine due to poor locking mechanism, so ofcourse you don't want the dust to be falling back when the sole purpose is to remove it!!!You get what you pay for, I have home vaccum clear from same company with has a good suction and does the job well, I wanted a battery pluggable clearner where I can use it anywhere.Believe me no vaccum cleaner is good enough for heavily soiled cars, so if you are expecting a commercial level cleaning the don't buy any.Car vaccum cleaner is a portable device which gives decent satisfaction but not a perfect, I have seen some people who do not take out mats and just shove the cleaner in it and say it's not good.Mats need to be take out which actually collects big dust and derbies, this poor small machine can't handle a 100% cleaning on that.If the car is heavily soiled the you must get it cleaned at a professional clearner then start using the small one.I found this to be doing the job when compared to my house vaccum clearner.One thing I observed was the wires was getting hot and has a soft component which makes it even thinner when it's hit but I think I can handle the job, accessories quality is good and fir and finishe is good.I did not seen any dust seeping through the compartment and it was well contained in the dust chamber.Suction is decent and you can give almost a clean and tidy look to your car with this machine, again a professional grade cleaners can doa good job which cost nothing less tha 15K.I would say worth a buy it used delligently by not expecting too much.I only hope if the company can provide a bag to carry it for the price or find one in your own which can fit your needs.,Perfect\"\n        ],\n        \"semantic_type\": \"\",\n        \"description\": \"\"\n      }\n    },\n    {\n      \"column\": \"img_link\",\n      \"properties\": {\n        \"dtype\": \"string\",\n        \"num_unique_values\": 1,\n        \"samples\": [\n          \"https://m.media-amazon.com/images/W/WEBP_402378-T1/images/I/41lZEy8e9DL._SX300_SY300_QL70_FMwebp_.jpg\"\n        ],\n        \"semantic_type\": \"\",\n        \"description\": \"\"\n      }\n    },\n    {\n      \"column\": \"product_link\",\n      \"properties\": {\n        \"dtype\": \"string\",\n        \"num_unique_values\": 1,\n        \"samples\": [\n          \"https://www.amazon.in/Eureka-Forbes-Vacuum-Cleaner-Washable/dp/B08L12N5H1/ref=sr_1_295?qid=1672923607&s=kitchen&sr=1-295\"\n        ],\n        \"semantic_type\": \"\",\n        \"description\": \"\"\n      }\n    }\n  ]\n}"
            }
          },
          "metadata": {},
          "execution_count": 13
        }
      ]
    },
    {
      "cell_type": "code",
      "source": [
        "# Changing Rating Columns Data Type\n",
        "\n",
        "df['rating'] = pd.to_numeric(df['rating'].astype(str).str.replace(',', ''), errors='coerce')"
      ],
      "metadata": {
        "execution": {
          "iopub.status.busy": "2024-02-26T12:41:33.515263Z",
          "iopub.execute_input": "2024-02-26T12:41:33.515708Z",
          "iopub.status.idle": "2024-02-26T12:41:33.52829Z",
          "shell.execute_reply.started": "2024-02-26T12:41:33.515667Z",
          "shell.execute_reply": "2024-02-26T12:41:33.527085Z"
        },
        "trusted": true,
        "id": "nq0JvDpYk4pP",
        "collapsed": true
      },
      "execution_count": 20,
      "outputs": []
    },
    {
      "cell_type": "code",
      "source": [
        "# Changing 'rating_count' Column Data Type\n",
        "\n",
        "df['rating_count'] = pd.to_numeric(df['rating_count'].astype(str).str.replace(',', ''), errors='coerce')"
      ],
      "metadata": {
        "execution": {
          "iopub.status.busy": "2024-02-26T12:41:33.530599Z",
          "iopub.execute_input": "2024-02-26T12:41:33.531061Z",
          "iopub.status.idle": "2024-02-26T12:41:33.542326Z",
          "shell.execute_reply.started": "2024-02-26T12:41:33.531019Z",
          "shell.execute_reply": "2024-02-26T12:41:33.541168Z"
        },
        "trusted": true,
        "id": "_qc93BeCk4pQ"
      },
      "execution_count": 22,
      "outputs": []
    },
    {
      "cell_type": "code",
      "source": [
        "df.info()"
      ],
      "metadata": {
        "execution": {
          "iopub.status.busy": "2024-02-26T12:41:33.54396Z",
          "iopub.execute_input": "2024-02-26T12:41:33.544386Z",
          "iopub.status.idle": "2024-02-26T12:41:33.563184Z",
          "shell.execute_reply.started": "2024-02-26T12:41:33.544349Z",
          "shell.execute_reply": "2024-02-26T12:41:33.561777Z"
        },
        "trusted": true,
        "id": "-Be-x2O4k4pQ",
        "colab": {
          "base_uri": "https://localhost:8080/"
        },
        "collapsed": true,
        "outputId": "66687769-bd97-4012-9047-abe6f05a793e"
      },
      "execution_count": 23,
      "outputs": [
        {
          "output_type": "stream",
          "name": "stdout",
          "text": [
            "<class 'pandas.core.frame.DataFrame'>\n",
            "RangeIndex: 1465 entries, 0 to 1464\n",
            "Data columns (total 16 columns):\n",
            " #   Column               Non-Null Count  Dtype  \n",
            "---  ------               --------------  -----  \n",
            " 0   product_id           1465 non-null   object \n",
            " 1   product_name         1465 non-null   object \n",
            " 2   category             1465 non-null   object \n",
            " 3   discounted_price     1465 non-null   object \n",
            " 4   actual_price         1465 non-null   object \n",
            " 5   discount_percentage  1465 non-null   float64\n",
            " 6   rating               1465 non-null   float64\n",
            " 7   rating_count         1463 non-null   float64\n",
            " 8   about_product        1465 non-null   object \n",
            " 9   user_id              1465 non-null   object \n",
            " 10  user_name            1465 non-null   object \n",
            " 11  review_id            1465 non-null   object \n",
            " 12  review_title         1465 non-null   object \n",
            " 13  review_content       1465 non-null   object \n",
            " 14  img_link             1465 non-null   object \n",
            " 15  product_link         1465 non-null   object \n",
            "dtypes: float64(3), object(13)\n",
            "memory usage: 183.3+ KB\n"
          ]
        }
      ]
    },
    {
      "cell_type": "markdown",
      "source": [
        "# <p style=\"font-family:newtimeroman;font-size:150%;text-align:center;color:#06445e;\">Descriptive Statistics</p>\n",
        "### ***Descriptive statistics are a collection of quantitative measures that summarize and describe the main characteristics of a dataset.***"
      ],
      "metadata": {
        "id": "BakaRx_Uk4pR"
      }
    },
    {
      "cell_type": "code",
      "source": [
        "df.describe()"
      ],
      "metadata": {
        "execution": {
          "iopub.status.busy": "2024-02-26T12:41:33.564655Z",
          "iopub.execute_input": "2024-02-26T12:41:33.565056Z",
          "iopub.status.idle": "2024-02-26T12:41:33.594313Z",
          "shell.execute_reply.started": "2024-02-26T12:41:33.565019Z",
          "shell.execute_reply": "2024-02-26T12:41:33.593177Z"
        },
        "trusted": true,
        "id": "_OWviYjLk4pR",
        "colab": {
          "base_uri": "https://localhost:8080/",
          "height": 300
        },
        "collapsed": true,
        "outputId": "8bedaa00-e483-44d3-9a7c-0da40ee822cc"
      },
      "execution_count": 24,
      "outputs": [
        {
          "output_type": "execute_result",
          "data": {
            "text/plain": [
              "       discount_percentage       rating   rating_count\n",
              "count          1465.000000  1465.000000    1463.000000\n",
              "mean              0.476915     4.096451   18295.541353\n",
              "std               0.216359     0.291620   42753.864952\n",
              "min               0.000000     2.000000       2.000000\n",
              "25%               0.320000     4.000000    1186.000000\n",
              "50%               0.500000     4.100000    5179.000000\n",
              "75%               0.630000     4.300000   17336.500000\n",
              "max               0.940000     5.000000  426973.000000"
            ],
            "text/html": [
              "\n",
              "  <div id=\"df-c16546a8-daf4-4fc3-bb8e-c337325efab5\" class=\"colab-df-container\">\n",
              "    <div>\n",
              "<style scoped>\n",
              "    .dataframe tbody tr th:only-of-type {\n",
              "        vertical-align: middle;\n",
              "    }\n",
              "\n",
              "    .dataframe tbody tr th {\n",
              "        vertical-align: top;\n",
              "    }\n",
              "\n",
              "    .dataframe thead th {\n",
              "        text-align: right;\n",
              "    }\n",
              "</style>\n",
              "<table border=\"1\" class=\"dataframe\">\n",
              "  <thead>\n",
              "    <tr style=\"text-align: right;\">\n",
              "      <th></th>\n",
              "      <th>discount_percentage</th>\n",
              "      <th>rating</th>\n",
              "      <th>rating_count</th>\n",
              "    </tr>\n",
              "  </thead>\n",
              "  <tbody>\n",
              "    <tr>\n",
              "      <th>count</th>\n",
              "      <td>1465.000000</td>\n",
              "      <td>1465.000000</td>\n",
              "      <td>1463.000000</td>\n",
              "    </tr>\n",
              "    <tr>\n",
              "      <th>mean</th>\n",
              "      <td>0.476915</td>\n",
              "      <td>4.096451</td>\n",
              "      <td>18295.541353</td>\n",
              "    </tr>\n",
              "    <tr>\n",
              "      <th>std</th>\n",
              "      <td>0.216359</td>\n",
              "      <td>0.291620</td>\n",
              "      <td>42753.864952</td>\n",
              "    </tr>\n",
              "    <tr>\n",
              "      <th>min</th>\n",
              "      <td>0.000000</td>\n",
              "      <td>2.000000</td>\n",
              "      <td>2.000000</td>\n",
              "    </tr>\n",
              "    <tr>\n",
              "      <th>25%</th>\n",
              "      <td>0.320000</td>\n",
              "      <td>4.000000</td>\n",
              "      <td>1186.000000</td>\n",
              "    </tr>\n",
              "    <tr>\n",
              "      <th>50%</th>\n",
              "      <td>0.500000</td>\n",
              "      <td>4.100000</td>\n",
              "      <td>5179.000000</td>\n",
              "    </tr>\n",
              "    <tr>\n",
              "      <th>75%</th>\n",
              "      <td>0.630000</td>\n",
              "      <td>4.300000</td>\n",
              "      <td>17336.500000</td>\n",
              "    </tr>\n",
              "    <tr>\n",
              "      <th>max</th>\n",
              "      <td>0.940000</td>\n",
              "      <td>5.000000</td>\n",
              "      <td>426973.000000</td>\n",
              "    </tr>\n",
              "  </tbody>\n",
              "</table>\n",
              "</div>\n",
              "    <div class=\"colab-df-buttons\">\n",
              "\n",
              "  <div class=\"colab-df-container\">\n",
              "    <button class=\"colab-df-convert\" onclick=\"convertToInteractive('df-c16546a8-daf4-4fc3-bb8e-c337325efab5')\"\n",
              "            title=\"Convert this dataframe to an interactive table.\"\n",
              "            style=\"display:none;\">\n",
              "\n",
              "  <svg xmlns=\"http://www.w3.org/2000/svg\" height=\"24px\" viewBox=\"0 -960 960 960\">\n",
              "    <path d=\"M120-120v-720h720v720H120Zm60-500h600v-160H180v160Zm220 220h160v-160H400v160Zm0 220h160v-160H400v160ZM180-400h160v-160H180v160Zm440 0h160v-160H620v160ZM180-180h160v-160H180v160Zm440 0h160v-160H620v160Z\"/>\n",
              "  </svg>\n",
              "    </button>\n",
              "\n",
              "  <style>\n",
              "    .colab-df-container {\n",
              "      display:flex;\n",
              "      gap: 12px;\n",
              "    }\n",
              "\n",
              "    .colab-df-convert {\n",
              "      background-color: #E8F0FE;\n",
              "      border: none;\n",
              "      border-radius: 50%;\n",
              "      cursor: pointer;\n",
              "      display: none;\n",
              "      fill: #1967D2;\n",
              "      height: 32px;\n",
              "      padding: 0 0 0 0;\n",
              "      width: 32px;\n",
              "    }\n",
              "\n",
              "    .colab-df-convert:hover {\n",
              "      background-color: #E2EBFA;\n",
              "      box-shadow: 0px 1px 2px rgba(60, 64, 67, 0.3), 0px 1px 3px 1px rgba(60, 64, 67, 0.15);\n",
              "      fill: #174EA6;\n",
              "    }\n",
              "\n",
              "    .colab-df-buttons div {\n",
              "      margin-bottom: 4px;\n",
              "    }\n",
              "\n",
              "    [theme=dark] .colab-df-convert {\n",
              "      background-color: #3B4455;\n",
              "      fill: #D2E3FC;\n",
              "    }\n",
              "\n",
              "    [theme=dark] .colab-df-convert:hover {\n",
              "      background-color: #434B5C;\n",
              "      box-shadow: 0px 1px 3px 1px rgba(0, 0, 0, 0.15);\n",
              "      filter: drop-shadow(0px 1px 2px rgba(0, 0, 0, 0.3));\n",
              "      fill: #FFFFFF;\n",
              "    }\n",
              "  </style>\n",
              "\n",
              "    <script>\n",
              "      const buttonEl =\n",
              "        document.querySelector('#df-c16546a8-daf4-4fc3-bb8e-c337325efab5 button.colab-df-convert');\n",
              "      buttonEl.style.display =\n",
              "        google.colab.kernel.accessAllowed ? 'block' : 'none';\n",
              "\n",
              "      async function convertToInteractive(key) {\n",
              "        const element = document.querySelector('#df-c16546a8-daf4-4fc3-bb8e-c337325efab5');\n",
              "        const dataTable =\n",
              "          await google.colab.kernel.invokeFunction('convertToInteractive',\n",
              "                                                    [key], {});\n",
              "        if (!dataTable) return;\n",
              "\n",
              "        const docLinkHtml = 'Like what you see? Visit the ' +\n",
              "          '<a target=\"_blank\" href=https://colab.research.google.com/notebooks/data_table.ipynb>data table notebook</a>'\n",
              "          + ' to learn more about interactive tables.';\n",
              "        element.innerHTML = '';\n",
              "        dataTable['output_type'] = 'display_data';\n",
              "        await google.colab.output.renderOutput(dataTable, element);\n",
              "        const docLink = document.createElement('div');\n",
              "        docLink.innerHTML = docLinkHtml;\n",
              "        element.appendChild(docLink);\n",
              "      }\n",
              "    </script>\n",
              "  </div>\n",
              "\n",
              "\n",
              "    <div id=\"df-50c083a6-0e66-4602-9947-5bbdbe366500\">\n",
              "      <button class=\"colab-df-quickchart\" onclick=\"quickchart('df-50c083a6-0e66-4602-9947-5bbdbe366500')\"\n",
              "                title=\"Suggest charts\"\n",
              "                style=\"display:none;\">\n",
              "\n",
              "<svg xmlns=\"http://www.w3.org/2000/svg\" height=\"24px\"viewBox=\"0 0 24 24\"\n",
              "     width=\"24px\">\n",
              "    <g>\n",
              "        <path d=\"M19 3H5c-1.1 0-2 .9-2 2v14c0 1.1.9 2 2 2h14c1.1 0 2-.9 2-2V5c0-1.1-.9-2-2-2zM9 17H7v-7h2v7zm4 0h-2V7h2v10zm4 0h-2v-4h2v4z\"/>\n",
              "    </g>\n",
              "</svg>\n",
              "      </button>\n",
              "\n",
              "<style>\n",
              "  .colab-df-quickchart {\n",
              "      --bg-color: #E8F0FE;\n",
              "      --fill-color: #1967D2;\n",
              "      --hover-bg-color: #E2EBFA;\n",
              "      --hover-fill-color: #174EA6;\n",
              "      --disabled-fill-color: #AAA;\n",
              "      --disabled-bg-color: #DDD;\n",
              "  }\n",
              "\n",
              "  [theme=dark] .colab-df-quickchart {\n",
              "      --bg-color: #3B4455;\n",
              "      --fill-color: #D2E3FC;\n",
              "      --hover-bg-color: #434B5C;\n",
              "      --hover-fill-color: #FFFFFF;\n",
              "      --disabled-bg-color: #3B4455;\n",
              "      --disabled-fill-color: #666;\n",
              "  }\n",
              "\n",
              "  .colab-df-quickchart {\n",
              "    background-color: var(--bg-color);\n",
              "    border: none;\n",
              "    border-radius: 50%;\n",
              "    cursor: pointer;\n",
              "    display: none;\n",
              "    fill: var(--fill-color);\n",
              "    height: 32px;\n",
              "    padding: 0;\n",
              "    width: 32px;\n",
              "  }\n",
              "\n",
              "  .colab-df-quickchart:hover {\n",
              "    background-color: var(--hover-bg-color);\n",
              "    box-shadow: 0 1px 2px rgba(60, 64, 67, 0.3), 0 1px 3px 1px rgba(60, 64, 67, 0.15);\n",
              "    fill: var(--button-hover-fill-color);\n",
              "  }\n",
              "\n",
              "  .colab-df-quickchart-complete:disabled,\n",
              "  .colab-df-quickchart-complete:disabled:hover {\n",
              "    background-color: var(--disabled-bg-color);\n",
              "    fill: var(--disabled-fill-color);\n",
              "    box-shadow: none;\n",
              "  }\n",
              "\n",
              "  .colab-df-spinner {\n",
              "    border: 2px solid var(--fill-color);\n",
              "    border-color: transparent;\n",
              "    border-bottom-color: var(--fill-color);\n",
              "    animation:\n",
              "      spin 1s steps(1) infinite;\n",
              "  }\n",
              "\n",
              "  @keyframes spin {\n",
              "    0% {\n",
              "      border-color: transparent;\n",
              "      border-bottom-color: var(--fill-color);\n",
              "      border-left-color: var(--fill-color);\n",
              "    }\n",
              "    20% {\n",
              "      border-color: transparent;\n",
              "      border-left-color: var(--fill-color);\n",
              "      border-top-color: var(--fill-color);\n",
              "    }\n",
              "    30% {\n",
              "      border-color: transparent;\n",
              "      border-left-color: var(--fill-color);\n",
              "      border-top-color: var(--fill-color);\n",
              "      border-right-color: var(--fill-color);\n",
              "    }\n",
              "    40% {\n",
              "      border-color: transparent;\n",
              "      border-right-color: var(--fill-color);\n",
              "      border-top-color: var(--fill-color);\n",
              "    }\n",
              "    60% {\n",
              "      border-color: transparent;\n",
              "      border-right-color: var(--fill-color);\n",
              "    }\n",
              "    80% {\n",
              "      border-color: transparent;\n",
              "      border-right-color: var(--fill-color);\n",
              "      border-bottom-color: var(--fill-color);\n",
              "    }\n",
              "    90% {\n",
              "      border-color: transparent;\n",
              "      border-bottom-color: var(--fill-color);\n",
              "    }\n",
              "  }\n",
              "</style>\n",
              "\n",
              "      <script>\n",
              "        async function quickchart(key) {\n",
              "          const quickchartButtonEl =\n",
              "            document.querySelector('#' + key + ' button');\n",
              "          quickchartButtonEl.disabled = true;  // To prevent multiple clicks.\n",
              "          quickchartButtonEl.classList.add('colab-df-spinner');\n",
              "          try {\n",
              "            const charts = await google.colab.kernel.invokeFunction(\n",
              "                'suggestCharts', [key], {});\n",
              "          } catch (error) {\n",
              "            console.error('Error during call to suggestCharts:', error);\n",
              "          }\n",
              "          quickchartButtonEl.classList.remove('colab-df-spinner');\n",
              "          quickchartButtonEl.classList.add('colab-df-quickchart-complete');\n",
              "        }\n",
              "        (() => {\n",
              "          let quickchartButtonEl =\n",
              "            document.querySelector('#df-50c083a6-0e66-4602-9947-5bbdbe366500 button');\n",
              "          quickchartButtonEl.style.display =\n",
              "            google.colab.kernel.accessAllowed ? 'block' : 'none';\n",
              "        })();\n",
              "      </script>\n",
              "    </div>\n",
              "\n",
              "    </div>\n",
              "  </div>\n"
            ],
            "application/vnd.google.colaboratory.intrinsic+json": {
              "type": "dataframe",
              "summary": "{\n  \"name\": \"df\",\n  \"rows\": 8,\n  \"fields\": [\n    {\n      \"column\": \"discount_percentage\",\n      \"properties\": {\n        \"dtype\": \"number\",\n        \"std\": 517.8000641221079,\n        \"min\": 0.0,\n        \"max\": 1465.0,\n        \"num_unique_values\": 8,\n        \"samples\": [\n          0.4769146757679181,\n          0.5,\n          1465.0\n        ],\n        \"semantic_type\": \"\",\n        \"description\": \"\"\n      }\n    },\n    {\n      \"column\": \"rating\",\n      \"properties\": {\n        \"dtype\": \"number\",\n        \"std\": 516.7564950460398,\n        \"min\": 0.2916196792699531,\n        \"max\": 1465.0,\n        \"num_unique_values\": 8,\n        \"samples\": [\n          4.096450511945392,\n          4.1,\n          1465.0\n        ],\n        \"semantic_type\": \"\",\n        \"description\": \"\"\n      }\n    },\n    {\n      \"column\": \"rating_count\",\n      \"properties\": {\n        \"dtype\": \"number\",\n        \"std\": 147299.07820418687,\n        \"min\": 2.0,\n        \"max\": 426973.0,\n        \"num_unique_values\": 8,\n        \"samples\": [\n          18295.541353383458,\n          5179.0,\n          1463.0\n        ],\n        \"semantic_type\": \"\",\n        \"description\": \"\"\n      }\n    }\n  ]\n}"
            }
          },
          "metadata": {},
          "execution_count": 24
        }
      ]
    },
    {
      "cell_type": "markdown",
      "source": [
        "---"
      ],
      "metadata": {
        "id": "VSw9PaGik4pR"
      }
    },
    {
      "cell_type": "markdown",
      "source": [
        "# <p style=\"font-family:newtimeroman;font-size:150%;text-align:center;color:#06445e;\">Dealing with the missing values</p>"
      ],
      "metadata": {
        "id": "1d_MRqmSk4pS"
      }
    },
    {
      "cell_type": "markdown",
      "source": [
        "### ***Dealing with the missing values is one of the most important part of the data wrangling process, we must deal with the missing values in order to get the correct insights from the data.***"
      ],
      "metadata": {
        "id": "wFAtDKu-k4pd"
      }
    },
    {
      "cell_type": "markdown",
      "source": [
        "\n",
        "### **<h1 align=\"center\"><span style=\"color:#06445e;\">Missing Values</span>**"
      ],
      "metadata": {
        "id": "P8nIVsRNk4pd"
      }
    },
    {
      "cell_type": "code",
      "source": [
        "df.isnull().sum().sort_values(ascending = False)"
      ],
      "metadata": {
        "execution": {
          "iopub.status.busy": "2024-02-26T12:41:33.595999Z",
          "iopub.execute_input": "2024-02-26T12:41:33.596418Z",
          "iopub.status.idle": "2024-02-26T12:41:33.609026Z",
          "shell.execute_reply.started": "2024-02-26T12:41:33.596381Z",
          "shell.execute_reply": "2024-02-26T12:41:33.607839Z"
        },
        "trusted": true,
        "id": "U1U7wcDik4pe",
        "colab": {
          "base_uri": "https://localhost:8080/",
          "height": 585
        },
        "collapsed": true,
        "outputId": "5a00369f-c346-4886-fe4a-16ea039cbe2c"
      },
      "execution_count": 25,
      "outputs": [
        {
          "output_type": "execute_result",
          "data": {
            "text/plain": [
              "rating_count           2\n",
              "product_id             0\n",
              "category               0\n",
              "product_name           0\n",
              "discounted_price       0\n",
              "actual_price           0\n",
              "discount_percentage    0\n",
              "rating                 0\n",
              "about_product          0\n",
              "user_id                0\n",
              "user_name              0\n",
              "review_id              0\n",
              "review_title           0\n",
              "review_content         0\n",
              "img_link               0\n",
              "product_link           0\n",
              "dtype: int64"
            ],
            "text/html": [
              "<div>\n",
              "<style scoped>\n",
              "    .dataframe tbody tr th:only-of-type {\n",
              "        vertical-align: middle;\n",
              "    }\n",
              "\n",
              "    .dataframe tbody tr th {\n",
              "        vertical-align: top;\n",
              "    }\n",
              "\n",
              "    .dataframe thead th {\n",
              "        text-align: right;\n",
              "    }\n",
              "</style>\n",
              "<table border=\"1\" class=\"dataframe\">\n",
              "  <thead>\n",
              "    <tr style=\"text-align: right;\">\n",
              "      <th></th>\n",
              "      <th>0</th>\n",
              "    </tr>\n",
              "  </thead>\n",
              "  <tbody>\n",
              "    <tr>\n",
              "      <th>rating_count</th>\n",
              "      <td>2</td>\n",
              "    </tr>\n",
              "    <tr>\n",
              "      <th>product_id</th>\n",
              "      <td>0</td>\n",
              "    </tr>\n",
              "    <tr>\n",
              "      <th>category</th>\n",
              "      <td>0</td>\n",
              "    </tr>\n",
              "    <tr>\n",
              "      <th>product_name</th>\n",
              "      <td>0</td>\n",
              "    </tr>\n",
              "    <tr>\n",
              "      <th>discounted_price</th>\n",
              "      <td>0</td>\n",
              "    </tr>\n",
              "    <tr>\n",
              "      <th>actual_price</th>\n",
              "      <td>0</td>\n",
              "    </tr>\n",
              "    <tr>\n",
              "      <th>discount_percentage</th>\n",
              "      <td>0</td>\n",
              "    </tr>\n",
              "    <tr>\n",
              "      <th>rating</th>\n",
              "      <td>0</td>\n",
              "    </tr>\n",
              "    <tr>\n",
              "      <th>about_product</th>\n",
              "      <td>0</td>\n",
              "    </tr>\n",
              "    <tr>\n",
              "      <th>user_id</th>\n",
              "      <td>0</td>\n",
              "    </tr>\n",
              "    <tr>\n",
              "      <th>user_name</th>\n",
              "      <td>0</td>\n",
              "    </tr>\n",
              "    <tr>\n",
              "      <th>review_id</th>\n",
              "      <td>0</td>\n",
              "    </tr>\n",
              "    <tr>\n",
              "      <th>review_title</th>\n",
              "      <td>0</td>\n",
              "    </tr>\n",
              "    <tr>\n",
              "      <th>review_content</th>\n",
              "      <td>0</td>\n",
              "    </tr>\n",
              "    <tr>\n",
              "      <th>img_link</th>\n",
              "      <td>0</td>\n",
              "    </tr>\n",
              "    <tr>\n",
              "      <th>product_link</th>\n",
              "      <td>0</td>\n",
              "    </tr>\n",
              "  </tbody>\n",
              "</table>\n",
              "</div><br><label><b>dtype:</b> int64</label>"
            ]
          },
          "metadata": {},
          "execution_count": 25
        }
      ]
    },
    {
      "cell_type": "code",
      "source": [
        "# Find missing values percentage in the data\n",
        "round(df.isnull().sum() / len(df) * 100, 2).sort_values(ascending=False)"
      ],
      "metadata": {
        "execution": {
          "iopub.status.busy": "2024-02-26T12:41:33.611213Z",
          "iopub.execute_input": "2024-02-26T12:41:33.611628Z",
          "iopub.status.idle": "2024-02-26T12:41:33.6269Z",
          "shell.execute_reply.started": "2024-02-26T12:41:33.611592Z",
          "shell.execute_reply": "2024-02-26T12:41:33.625573Z"
        },
        "trusted": true,
        "id": "2cGTkPzRk4pe",
        "colab": {
          "base_uri": "https://localhost:8080/",
          "height": 585
        },
        "collapsed": true,
        "outputId": "7808000c-7c85-4f61-9392-4ac639042dd8"
      },
      "execution_count": 26,
      "outputs": [
        {
          "output_type": "execute_result",
          "data": {
            "text/plain": [
              "rating_count           0.14\n",
              "product_id             0.00\n",
              "category               0.00\n",
              "product_name           0.00\n",
              "discounted_price       0.00\n",
              "actual_price           0.00\n",
              "discount_percentage    0.00\n",
              "rating                 0.00\n",
              "about_product          0.00\n",
              "user_id                0.00\n",
              "user_name              0.00\n",
              "review_id              0.00\n",
              "review_title           0.00\n",
              "review_content         0.00\n",
              "img_link               0.00\n",
              "product_link           0.00\n",
              "dtype: float64"
            ],
            "text/html": [
              "<div>\n",
              "<style scoped>\n",
              "    .dataframe tbody tr th:only-of-type {\n",
              "        vertical-align: middle;\n",
              "    }\n",
              "\n",
              "    .dataframe tbody tr th {\n",
              "        vertical-align: top;\n",
              "    }\n",
              "\n",
              "    .dataframe thead th {\n",
              "        text-align: right;\n",
              "    }\n",
              "</style>\n",
              "<table border=\"1\" class=\"dataframe\">\n",
              "  <thead>\n",
              "    <tr style=\"text-align: right;\">\n",
              "      <th></th>\n",
              "      <th>0</th>\n",
              "    </tr>\n",
              "  </thead>\n",
              "  <tbody>\n",
              "    <tr>\n",
              "      <th>rating_count</th>\n",
              "      <td>0.14</td>\n",
              "    </tr>\n",
              "    <tr>\n",
              "      <th>product_id</th>\n",
              "      <td>0.00</td>\n",
              "    </tr>\n",
              "    <tr>\n",
              "      <th>category</th>\n",
              "      <td>0.00</td>\n",
              "    </tr>\n",
              "    <tr>\n",
              "      <th>product_name</th>\n",
              "      <td>0.00</td>\n",
              "    </tr>\n",
              "    <tr>\n",
              "      <th>discounted_price</th>\n",
              "      <td>0.00</td>\n",
              "    </tr>\n",
              "    <tr>\n",
              "      <th>actual_price</th>\n",
              "      <td>0.00</td>\n",
              "    </tr>\n",
              "    <tr>\n",
              "      <th>discount_percentage</th>\n",
              "      <td>0.00</td>\n",
              "    </tr>\n",
              "    <tr>\n",
              "      <th>rating</th>\n",
              "      <td>0.00</td>\n",
              "    </tr>\n",
              "    <tr>\n",
              "      <th>about_product</th>\n",
              "      <td>0.00</td>\n",
              "    </tr>\n",
              "    <tr>\n",
              "      <th>user_id</th>\n",
              "      <td>0.00</td>\n",
              "    </tr>\n",
              "    <tr>\n",
              "      <th>user_name</th>\n",
              "      <td>0.00</td>\n",
              "    </tr>\n",
              "    <tr>\n",
              "      <th>review_id</th>\n",
              "      <td>0.00</td>\n",
              "    </tr>\n",
              "    <tr>\n",
              "      <th>review_title</th>\n",
              "      <td>0.00</td>\n",
              "    </tr>\n",
              "    <tr>\n",
              "      <th>review_content</th>\n",
              "      <td>0.00</td>\n",
              "    </tr>\n",
              "    <tr>\n",
              "      <th>img_link</th>\n",
              "      <td>0.00</td>\n",
              "    </tr>\n",
              "    <tr>\n",
              "      <th>product_link</th>\n",
              "      <td>0.00</td>\n",
              "    </tr>\n",
              "  </tbody>\n",
              "</table>\n",
              "</div><br><label><b>dtype:</b> float64</label>"
            ]
          },
          "metadata": {},
          "execution_count": 26
        }
      ]
    },
    {
      "cell_type": "code",
      "source": [
        "# Find total number of missing values\n",
        "df.isnull().sum().sum()"
      ],
      "metadata": {
        "execution": {
          "iopub.status.busy": "2024-02-26T12:41:33.628819Z",
          "iopub.execute_input": "2024-02-26T12:41:33.629241Z",
          "iopub.status.idle": "2024-02-26T12:41:33.642728Z",
          "shell.execute_reply.started": "2024-02-26T12:41:33.629203Z",
          "shell.execute_reply": "2024-02-26T12:41:33.64173Z"
        },
        "trusted": true,
        "id": "YSQ27Sb7k4pe",
        "colab": {
          "base_uri": "https://localhost:8080/"
        },
        "outputId": "d671786e-3827-437c-b8bc-71366dce3af4"
      },
      "execution_count": 28,
      "outputs": [
        {
          "output_type": "execute_result",
          "data": {
            "text/plain": [
              "np.int64(2)"
            ]
          },
          "metadata": {},
          "execution_count": 28
        }
      ]
    },
    {
      "cell_type": "markdown",
      "source": [
        "#### **<h1 align=\"center\"><span style=\"color:#06445e;\">We are only viewing the rows where there are null values in the column.</span>**"
      ],
      "metadata": {
        "id": "1Y6ZZ2_sk4ph"
      }
    },
    {
      "cell_type": "code",
      "source": [
        "df[df['rating_count'].isnull()].head(5)"
      ],
      "metadata": {
        "execution": {
          "iopub.status.busy": "2024-02-26T12:41:34.652602Z",
          "iopub.execute_input": "2024-02-26T12:41:34.653206Z",
          "iopub.status.idle": "2024-02-26T12:41:34.673351Z",
          "shell.execute_reply.started": "2024-02-26T12:41:34.653174Z",
          "shell.execute_reply": "2024-02-26T12:41:34.672383Z"
        },
        "trusted": true,
        "id": "DGoIdTNAk4ph",
        "colab": {
          "base_uri": "https://localhost:8080/",
          "height": 253
        },
        "collapsed": true,
        "outputId": "466e0537-c5f2-47b7-b4f7-c4666afc04b7"
      },
      "execution_count": 32,
      "outputs": [
        {
          "output_type": "execute_result",
          "data": {
            "text/plain": [
              "     product_id                                       product_name  \\\n",
              "282  B0B94JPY2N  Amazon Brand - Solimo 65W Fast Charging Braide...   \n",
              "324  B0BQRJ3C47  REDTECH USB-C to Lightning Cable 3.3FT, [Apple...   \n",
              "\n",
              "                                              category discounted_price  \\\n",
              "282  Computers&Accessories|Accessories&Peripherals|...             ₹199   \n",
              "324  Computers&Accessories|Accessories&Peripherals|...             ₹249   \n",
              "\n",
              "    actual_price  discount_percentage  rating  rating_count  \\\n",
              "282         ₹999                 0.80     3.0           NaN   \n",
              "324         ₹999                 0.75     5.0           NaN   \n",
              "\n",
              "                                         about_product  \\\n",
              "282  USB C to C Cable: This cable has type C connec...   \n",
              "324  💎[The Fastest Charge] - This iPhone USB C cabl...   \n",
              "\n",
              "                          user_id    user_name      review_id  \\\n",
              "282  AE7CFHY23VAJT2FI4NZKKP6GS2UQ       Pranav   RUB7U91HVZ30   \n",
              "324  AGJC5O5H5BBXWUV7WRIEIOOR3TVQ  Abdul Gafur  RQXD5SAMMPC6L   \n",
              "\n",
              "                                     review_title  \\\n",
              "282  The cable works but is not 65W as advertised   \n",
              "324                               Awesome Product   \n",
              "\n",
              "                                        review_content  \\\n",
              "282  I have a pd supported car charger and I bought...   \n",
              "324  Quick delivery.Awesome ProductPacking was good...   \n",
              "\n",
              "                                              img_link  \\\n",
              "282  https://m.media-amazon.com/images/W/WEBP_40237...   \n",
              "324  https://m.media-amazon.com/images/I/31-q0xhaTA...   \n",
              "\n",
              "                                          product_link  \n",
              "282  https://www.amazon.in/Amazon-Brand-Charging-Su...  \n",
              "324  https://www.amazon.in/REDTECH-Lightning-Certif...  "
            ],
            "text/html": [
              "\n",
              "  <div id=\"df-47ff3a35-3502-4b96-85c4-283f6b1d7863\" class=\"colab-df-container\">\n",
              "    <div>\n",
              "<style scoped>\n",
              "    .dataframe tbody tr th:only-of-type {\n",
              "        vertical-align: middle;\n",
              "    }\n",
              "\n",
              "    .dataframe tbody tr th {\n",
              "        vertical-align: top;\n",
              "    }\n",
              "\n",
              "    .dataframe thead th {\n",
              "        text-align: right;\n",
              "    }\n",
              "</style>\n",
              "<table border=\"1\" class=\"dataframe\">\n",
              "  <thead>\n",
              "    <tr style=\"text-align: right;\">\n",
              "      <th></th>\n",
              "      <th>product_id</th>\n",
              "      <th>product_name</th>\n",
              "      <th>category</th>\n",
              "      <th>discounted_price</th>\n",
              "      <th>actual_price</th>\n",
              "      <th>discount_percentage</th>\n",
              "      <th>rating</th>\n",
              "      <th>rating_count</th>\n",
              "      <th>about_product</th>\n",
              "      <th>user_id</th>\n",
              "      <th>user_name</th>\n",
              "      <th>review_id</th>\n",
              "      <th>review_title</th>\n",
              "      <th>review_content</th>\n",
              "      <th>img_link</th>\n",
              "      <th>product_link</th>\n",
              "    </tr>\n",
              "  </thead>\n",
              "  <tbody>\n",
              "    <tr>\n",
              "      <th>282</th>\n",
              "      <td>B0B94JPY2N</td>\n",
              "      <td>Amazon Brand - Solimo 65W Fast Charging Braide...</td>\n",
              "      <td>Computers&amp;Accessories|Accessories&amp;Peripherals|...</td>\n",
              "      <td>₹199</td>\n",
              "      <td>₹999</td>\n",
              "      <td>0.80</td>\n",
              "      <td>3.0</td>\n",
              "      <td>NaN</td>\n",
              "      <td>USB C to C Cable: This cable has type C connec...</td>\n",
              "      <td>AE7CFHY23VAJT2FI4NZKKP6GS2UQ</td>\n",
              "      <td>Pranav</td>\n",
              "      <td>RUB7U91HVZ30</td>\n",
              "      <td>The cable works but is not 65W as advertised</td>\n",
              "      <td>I have a pd supported car charger and I bought...</td>\n",
              "      <td>https://m.media-amazon.com/images/W/WEBP_40237...</td>\n",
              "      <td>https://www.amazon.in/Amazon-Brand-Charging-Su...</td>\n",
              "    </tr>\n",
              "    <tr>\n",
              "      <th>324</th>\n",
              "      <td>B0BQRJ3C47</td>\n",
              "      <td>REDTECH USB-C to Lightning Cable 3.3FT, [Apple...</td>\n",
              "      <td>Computers&amp;Accessories|Accessories&amp;Peripherals|...</td>\n",
              "      <td>₹249</td>\n",
              "      <td>₹999</td>\n",
              "      <td>0.75</td>\n",
              "      <td>5.0</td>\n",
              "      <td>NaN</td>\n",
              "      <td>💎[The Fastest Charge] - This iPhone USB C cabl...</td>\n",
              "      <td>AGJC5O5H5BBXWUV7WRIEIOOR3TVQ</td>\n",
              "      <td>Abdul Gafur</td>\n",
              "      <td>RQXD5SAMMPC6L</td>\n",
              "      <td>Awesome Product</td>\n",
              "      <td>Quick delivery.Awesome ProductPacking was good...</td>\n",
              "      <td>https://m.media-amazon.com/images/I/31-q0xhaTA...</td>\n",
              "      <td>https://www.amazon.in/REDTECH-Lightning-Certif...</td>\n",
              "    </tr>\n",
              "  </tbody>\n",
              "</table>\n",
              "</div>\n",
              "    <div class=\"colab-df-buttons\">\n",
              "\n",
              "  <div class=\"colab-df-container\">\n",
              "    <button class=\"colab-df-convert\" onclick=\"convertToInteractive('df-47ff3a35-3502-4b96-85c4-283f6b1d7863')\"\n",
              "            title=\"Convert this dataframe to an interactive table.\"\n",
              "            style=\"display:none;\">\n",
              "\n",
              "  <svg xmlns=\"http://www.w3.org/2000/svg\" height=\"24px\" viewBox=\"0 -960 960 960\">\n",
              "    <path d=\"M120-120v-720h720v720H120Zm60-500h600v-160H180v160Zm220 220h160v-160H400v160Zm0 220h160v-160H400v160ZM180-400h160v-160H180v160Zm440 0h160v-160H620v160ZM180-180h160v-160H180v160Zm440 0h160v-160H620v160Z\"/>\n",
              "  </svg>\n",
              "    </button>\n",
              "\n",
              "  <style>\n",
              "    .colab-df-container {\n",
              "      display:flex;\n",
              "      gap: 12px;\n",
              "    }\n",
              "\n",
              "    .colab-df-convert {\n",
              "      background-color: #E8F0FE;\n",
              "      border: none;\n",
              "      border-radius: 50%;\n",
              "      cursor: pointer;\n",
              "      display: none;\n",
              "      fill: #1967D2;\n",
              "      height: 32px;\n",
              "      padding: 0 0 0 0;\n",
              "      width: 32px;\n",
              "    }\n",
              "\n",
              "    .colab-df-convert:hover {\n",
              "      background-color: #E2EBFA;\n",
              "      box-shadow: 0px 1px 2px rgba(60, 64, 67, 0.3), 0px 1px 3px 1px rgba(60, 64, 67, 0.15);\n",
              "      fill: #174EA6;\n",
              "    }\n",
              "\n",
              "    .colab-df-buttons div {\n",
              "      margin-bottom: 4px;\n",
              "    }\n",
              "\n",
              "    [theme=dark] .colab-df-convert {\n",
              "      background-color: #3B4455;\n",
              "      fill: #D2E3FC;\n",
              "    }\n",
              "\n",
              "    [theme=dark] .colab-df-convert:hover {\n",
              "      background-color: #434B5C;\n",
              "      box-shadow: 0px 1px 3px 1px rgba(0, 0, 0, 0.15);\n",
              "      filter: drop-shadow(0px 1px 2px rgba(0, 0, 0, 0.3));\n",
              "      fill: #FFFFFF;\n",
              "    }\n",
              "  </style>\n",
              "\n",
              "    <script>\n",
              "      const buttonEl =\n",
              "        document.querySelector('#df-47ff3a35-3502-4b96-85c4-283f6b1d7863 button.colab-df-convert');\n",
              "      buttonEl.style.display =\n",
              "        google.colab.kernel.accessAllowed ? 'block' : 'none';\n",
              "\n",
              "      async function convertToInteractive(key) {\n",
              "        const element = document.querySelector('#df-47ff3a35-3502-4b96-85c4-283f6b1d7863');\n",
              "        const dataTable =\n",
              "          await google.colab.kernel.invokeFunction('convertToInteractive',\n",
              "                                                    [key], {});\n",
              "        if (!dataTable) return;\n",
              "\n",
              "        const docLinkHtml = 'Like what you see? Visit the ' +\n",
              "          '<a target=\"_blank\" href=https://colab.research.google.com/notebooks/data_table.ipynb>data table notebook</a>'\n",
              "          + ' to learn more about interactive tables.';\n",
              "        element.innerHTML = '';\n",
              "        dataTable['output_type'] = 'display_data';\n",
              "        await google.colab.output.renderOutput(dataTable, element);\n",
              "        const docLink = document.createElement('div');\n",
              "        docLink.innerHTML = docLinkHtml;\n",
              "        element.appendChild(docLink);\n",
              "      }\n",
              "    </script>\n",
              "  </div>\n",
              "\n",
              "\n",
              "    <div id=\"df-0e388759-3db8-4f40-bf72-31e89abc66fb\">\n",
              "      <button class=\"colab-df-quickchart\" onclick=\"quickchart('df-0e388759-3db8-4f40-bf72-31e89abc66fb')\"\n",
              "                title=\"Suggest charts\"\n",
              "                style=\"display:none;\">\n",
              "\n",
              "<svg xmlns=\"http://www.w3.org/2000/svg\" height=\"24px\"viewBox=\"0 0 24 24\"\n",
              "     width=\"24px\">\n",
              "    <g>\n",
              "        <path d=\"M19 3H5c-1.1 0-2 .9-2 2v14c0 1.1.9 2 2 2h14c1.1 0 2-.9 2-2V5c0-1.1-.9-2-2-2zM9 17H7v-7h2v7zm4 0h-2V7h2v10zm4 0h-2v-4h2v4z\"/>\n",
              "    </g>\n",
              "</svg>\n",
              "      </button>\n",
              "\n",
              "<style>\n",
              "  .colab-df-quickchart {\n",
              "      --bg-color: #E8F0FE;\n",
              "      --fill-color: #1967D2;\n",
              "      --hover-bg-color: #E2EBFA;\n",
              "      --hover-fill-color: #174EA6;\n",
              "      --disabled-fill-color: #AAA;\n",
              "      --disabled-bg-color: #DDD;\n",
              "  }\n",
              "\n",
              "  [theme=dark] .colab-df-quickchart {\n",
              "      --bg-color: #3B4455;\n",
              "      --fill-color: #D2E3FC;\n",
              "      --hover-bg-color: #434B5C;\n",
              "      --hover-fill-color: #FFFFFF;\n",
              "      --disabled-bg-color: #3B4455;\n",
              "      --disabled-fill-color: #666;\n",
              "  }\n",
              "\n",
              "  .colab-df-quickchart {\n",
              "    background-color: var(--bg-color);\n",
              "    border: none;\n",
              "    border-radius: 50%;\n",
              "    cursor: pointer;\n",
              "    display: none;\n",
              "    fill: var(--fill-color);\n",
              "    height: 32px;\n",
              "    padding: 0;\n",
              "    width: 32px;\n",
              "  }\n",
              "\n",
              "  .colab-df-quickchart:hover {\n",
              "    background-color: var(--hover-bg-color);\n",
              "    box-shadow: 0 1px 2px rgba(60, 64, 67, 0.3), 0 1px 3px 1px rgba(60, 64, 67, 0.15);\n",
              "    fill: var(--button-hover-fill-color);\n",
              "  }\n",
              "\n",
              "  .colab-df-quickchart-complete:disabled,\n",
              "  .colab-df-quickchart-complete:disabled:hover {\n",
              "    background-color: var(--disabled-bg-color);\n",
              "    fill: var(--disabled-fill-color);\n",
              "    box-shadow: none;\n",
              "  }\n",
              "\n",
              "  .colab-df-spinner {\n",
              "    border: 2px solid var(--fill-color);\n",
              "    border-color: transparent;\n",
              "    border-bottom-color: var(--fill-color);\n",
              "    animation:\n",
              "      spin 1s steps(1) infinite;\n",
              "  }\n",
              "\n",
              "  @keyframes spin {\n",
              "    0% {\n",
              "      border-color: transparent;\n",
              "      border-bottom-color: var(--fill-color);\n",
              "      border-left-color: var(--fill-color);\n",
              "    }\n",
              "    20% {\n",
              "      border-color: transparent;\n",
              "      border-left-color: var(--fill-color);\n",
              "      border-top-color: var(--fill-color);\n",
              "    }\n",
              "    30% {\n",
              "      border-color: transparent;\n",
              "      border-left-color: var(--fill-color);\n",
              "      border-top-color: var(--fill-color);\n",
              "      border-right-color: var(--fill-color);\n",
              "    }\n",
              "    40% {\n",
              "      border-color: transparent;\n",
              "      border-right-color: var(--fill-color);\n",
              "      border-top-color: var(--fill-color);\n",
              "    }\n",
              "    60% {\n",
              "      border-color: transparent;\n",
              "      border-right-color: var(--fill-color);\n",
              "    }\n",
              "    80% {\n",
              "      border-color: transparent;\n",
              "      border-right-color: var(--fill-color);\n",
              "      border-bottom-color: var(--fill-color);\n",
              "    }\n",
              "    90% {\n",
              "      border-color: transparent;\n",
              "      border-bottom-color: var(--fill-color);\n",
              "    }\n",
              "  }\n",
              "</style>\n",
              "\n",
              "      <script>\n",
              "        async function quickchart(key) {\n",
              "          const quickchartButtonEl =\n",
              "            document.querySelector('#' + key + ' button');\n",
              "          quickchartButtonEl.disabled = true;  // To prevent multiple clicks.\n",
              "          quickchartButtonEl.classList.add('colab-df-spinner');\n",
              "          try {\n",
              "            const charts = await google.colab.kernel.invokeFunction(\n",
              "                'suggestCharts', [key], {});\n",
              "          } catch (error) {\n",
              "            console.error('Error during call to suggestCharts:', error);\n",
              "          }\n",
              "          quickchartButtonEl.classList.remove('colab-df-spinner');\n",
              "          quickchartButtonEl.classList.add('colab-df-quickchart-complete');\n",
              "        }\n",
              "        (() => {\n",
              "          let quickchartButtonEl =\n",
              "            document.querySelector('#df-0e388759-3db8-4f40-bf72-31e89abc66fb button');\n",
              "          quickchartButtonEl.style.display =\n",
              "            google.colab.kernel.accessAllowed ? 'block' : 'none';\n",
              "        })();\n",
              "      </script>\n",
              "    </div>\n",
              "\n",
              "    </div>\n",
              "  </div>\n"
            ],
            "application/vnd.google.colaboratory.intrinsic+json": {
              "type": "dataframe",
              "summary": "{\n  \"name\": \"df[df['rating_count']\",\n  \"rows\": 2,\n  \"fields\": [\n    {\n      \"column\": \"product_id\",\n      \"properties\": {\n        \"dtype\": \"string\",\n        \"num_unique_values\": 2,\n        \"samples\": [\n          \"B0BQRJ3C47\",\n          \"B0B94JPY2N\"\n        ],\n        \"semantic_type\": \"\",\n        \"description\": \"\"\n      }\n    },\n    {\n      \"column\": \"product_name\",\n      \"properties\": {\n        \"dtype\": \"string\",\n        \"num_unique_values\": 2,\n        \"samples\": [\n          \"REDTECH USB-C to Lightning Cable 3.3FT, [Apple MFi Certified] Lightning to Type C Fast Charging Cord Compatible with iPhone 14/13/13 pro/Max/12/11/X/XS/XR/8, Supports Power Delivery - White\",\n          \"Amazon Brand - Solimo 65W Fast Charging Braided Type C to C Data Cable | Suitable For All Supported Mobile Phones (1 Meter, Black)\"\n        ],\n        \"semantic_type\": \"\",\n        \"description\": \"\"\n      }\n    },\n    {\n      \"column\": \"category\",\n      \"properties\": {\n        \"dtype\": \"string\",\n        \"num_unique_values\": 1,\n        \"samples\": [\n          \"Computers&Accessories|Accessories&Peripherals|Cables&Accessories|Cables|USBCables\"\n        ],\n        \"semantic_type\": \"\",\n        \"description\": \"\"\n      }\n    },\n    {\n      \"column\": \"discounted_price\",\n      \"properties\": {\n        \"dtype\": \"string\",\n        \"num_unique_values\": 2,\n        \"samples\": [\n          \"\\u20b9249\"\n        ],\n        \"semantic_type\": \"\",\n        \"description\": \"\"\n      }\n    },\n    {\n      \"column\": \"actual_price\",\n      \"properties\": {\n        \"dtype\": \"string\",\n        \"num_unique_values\": 1,\n        \"samples\": [\n          \"\\u20b9999\"\n        ],\n        \"semantic_type\": \"\",\n        \"description\": \"\"\n      }\n    },\n    {\n      \"column\": \"discount_percentage\",\n      \"properties\": {\n        \"dtype\": \"number\",\n        \"std\": 0.03535533905932741,\n        \"min\": 0.75,\n        \"max\": 0.8,\n        \"num_unique_values\": 2,\n        \"samples\": [\n          0.75\n        ],\n        \"semantic_type\": \"\",\n        \"description\": \"\"\n      }\n    },\n    {\n      \"column\": \"rating\",\n      \"properties\": {\n        \"dtype\": \"number\",\n        \"std\": 1.4142135623730951,\n        \"min\": 3.0,\n        \"max\": 5.0,\n        \"num_unique_values\": 2,\n        \"samples\": [\n          5.0\n        ],\n        \"semantic_type\": \"\",\n        \"description\": \"\"\n      }\n    },\n    {\n      \"column\": \"rating_count\",\n      \"properties\": {\n        \"dtype\": \"number\",\n        \"std\": null,\n        \"min\": null,\n        \"max\": null,\n        \"num_unique_values\": 0,\n        \"samples\": [],\n        \"semantic_type\": \"\",\n        \"description\": \"\"\n      }\n    },\n    {\n      \"column\": \"about_product\",\n      \"properties\": {\n        \"dtype\": \"string\",\n        \"num_unique_values\": 2,\n        \"samples\": [],\n        \"semantic_type\": \"\",\n        \"description\": \"\"\n      }\n    },\n    {\n      \"column\": \"user_id\",\n      \"properties\": {\n        \"dtype\": \"string\",\n        \"num_unique_values\": 2,\n        \"samples\": [],\n        \"semantic_type\": \"\",\n        \"description\": \"\"\n      }\n    },\n    {\n      \"column\": \"user_name\",\n      \"properties\": {\n        \"dtype\": \"string\",\n        \"num_unique_values\": 2,\n        \"samples\": [],\n        \"semantic_type\": \"\",\n        \"description\": \"\"\n      }\n    },\n    {\n      \"column\": \"review_id\",\n      \"properties\": {\n        \"dtype\": \"string\",\n        \"num_unique_values\": 2,\n        \"samples\": [],\n        \"semantic_type\": \"\",\n        \"description\": \"\"\n      }\n    },\n    {\n      \"column\": \"review_title\",\n      \"properties\": {\n        \"dtype\": \"string\",\n        \"num_unique_values\": 2,\n        \"samples\": [],\n        \"semantic_type\": \"\",\n        \"description\": \"\"\n      }\n    },\n    {\n      \"column\": \"review_content\",\n      \"properties\": {\n        \"dtype\": \"string\",\n        \"num_unique_values\": 2,\n        \"samples\": [],\n        \"semantic_type\": \"\",\n        \"description\": \"\"\n      }\n    },\n    {\n      \"column\": \"img_link\",\n      \"properties\": {\n        \"dtype\": \"string\",\n        \"num_unique_values\": 2,\n        \"samples\": [],\n        \"semantic_type\": \"\",\n        \"description\": \"\"\n      }\n    },\n    {\n      \"column\": \"product_link\",\n      \"properties\": {\n        \"dtype\": \"string\",\n        \"num_unique_values\": 2,\n        \"samples\": [],\n        \"semantic_type\": \"\",\n        \"description\": \"\"\n      }\n    }\n  ]\n}"
            }
          },
          "metadata": {},
          "execution_count": 32
        }
      ]
    },
    {
      "cell_type": "code",
      "source": [
        "# Impute missing values\n",
        "df['rating_count'] = df.rating_count.fillna(value=df['rating_count'].median())"
      ],
      "metadata": {
        "execution": {
          "iopub.status.busy": "2024-02-26T12:41:34.674641Z",
          "iopub.execute_input": "2024-02-26T12:41:34.675419Z",
          "iopub.status.idle": "2024-02-26T12:41:34.68256Z",
          "shell.execute_reply.started": "2024-02-26T12:41:34.67538Z",
          "shell.execute_reply": "2024-02-26T12:41:34.681278Z"
        },
        "trusted": true,
        "id": "M3_YIVCQk4ph"
      },
      "execution_count": 34,
      "outputs": []
    },
    {
      "cell_type": "code",
      "source": [
        "df.isnull().sum().sort_values(ascending = False)"
      ],
      "metadata": {
        "execution": {
          "iopub.status.busy": "2024-02-26T12:41:34.683921Z",
          "iopub.execute_input": "2024-02-26T12:41:34.684274Z",
          "iopub.status.idle": "2024-02-26T12:41:34.699274Z",
          "shell.execute_reply.started": "2024-02-26T12:41:34.684231Z",
          "shell.execute_reply": "2024-02-26T12:41:34.698463Z"
        },
        "trusted": true,
        "id": "kRRi0zZpk4pi",
        "colab": {
          "base_uri": "https://localhost:8080/",
          "height": 585
        },
        "collapsed": true,
        "outputId": "38e51302-afc9-49cb-b948-2eec8afab0f4"
      },
      "execution_count": 35,
      "outputs": [
        {
          "output_type": "execute_result",
          "data": {
            "text/plain": [
              "product_id             0\n",
              "product_name           0\n",
              "category               0\n",
              "discounted_price       0\n",
              "actual_price           0\n",
              "discount_percentage    0\n",
              "rating                 0\n",
              "rating_count           0\n",
              "about_product          0\n",
              "user_id                0\n",
              "user_name              0\n",
              "review_id              0\n",
              "review_title           0\n",
              "review_content         0\n",
              "img_link               0\n",
              "product_link           0\n",
              "dtype: int64"
            ],
            "text/html": [
              "<div>\n",
              "<style scoped>\n",
              "    .dataframe tbody tr th:only-of-type {\n",
              "        vertical-align: middle;\n",
              "    }\n",
              "\n",
              "    .dataframe tbody tr th {\n",
              "        vertical-align: top;\n",
              "    }\n",
              "\n",
              "    .dataframe thead th {\n",
              "        text-align: right;\n",
              "    }\n",
              "</style>\n",
              "<table border=\"1\" class=\"dataframe\">\n",
              "  <thead>\n",
              "    <tr style=\"text-align: right;\">\n",
              "      <th></th>\n",
              "      <th>0</th>\n",
              "    </tr>\n",
              "  </thead>\n",
              "  <tbody>\n",
              "    <tr>\n",
              "      <th>product_id</th>\n",
              "      <td>0</td>\n",
              "    </tr>\n",
              "    <tr>\n",
              "      <th>product_name</th>\n",
              "      <td>0</td>\n",
              "    </tr>\n",
              "    <tr>\n",
              "      <th>category</th>\n",
              "      <td>0</td>\n",
              "    </tr>\n",
              "    <tr>\n",
              "      <th>discounted_price</th>\n",
              "      <td>0</td>\n",
              "    </tr>\n",
              "    <tr>\n",
              "      <th>actual_price</th>\n",
              "      <td>0</td>\n",
              "    </tr>\n",
              "    <tr>\n",
              "      <th>discount_percentage</th>\n",
              "      <td>0</td>\n",
              "    </tr>\n",
              "    <tr>\n",
              "      <th>rating</th>\n",
              "      <td>0</td>\n",
              "    </tr>\n",
              "    <tr>\n",
              "      <th>rating_count</th>\n",
              "      <td>0</td>\n",
              "    </tr>\n",
              "    <tr>\n",
              "      <th>about_product</th>\n",
              "      <td>0</td>\n",
              "    </tr>\n",
              "    <tr>\n",
              "      <th>user_id</th>\n",
              "      <td>0</td>\n",
              "    </tr>\n",
              "    <tr>\n",
              "      <th>user_name</th>\n",
              "      <td>0</td>\n",
              "    </tr>\n",
              "    <tr>\n",
              "      <th>review_id</th>\n",
              "      <td>0</td>\n",
              "    </tr>\n",
              "    <tr>\n",
              "      <th>review_title</th>\n",
              "      <td>0</td>\n",
              "    </tr>\n",
              "    <tr>\n",
              "      <th>review_content</th>\n",
              "      <td>0</td>\n",
              "    </tr>\n",
              "    <tr>\n",
              "      <th>img_link</th>\n",
              "      <td>0</td>\n",
              "    </tr>\n",
              "    <tr>\n",
              "      <th>product_link</th>\n",
              "      <td>0</td>\n",
              "    </tr>\n",
              "  </tbody>\n",
              "</table>\n",
              "</div><br><label><b>dtype:</b> int64</label>"
            ]
          },
          "metadata": {},
          "execution_count": 35
        }
      ]
    },
    {
      "cell_type": "markdown",
      "source": [
        "## ***Milestone 1: We have cleaned the dataset from null values***"
      ],
      "metadata": {
        "id": "fDwAA3_2k4pi"
      }
    },
    {
      "cell_type": "markdown",
      "source": [
        "# <p style=\"font-family:newtimeroman;font-size:150%;text-align:center;color:#06445e;\">Find Duplications and Analyse them</p>"
      ],
      "metadata": {
        "id": "cBWdcsvEk4pj"
      }
    },
    {
      "cell_type": "markdown",
      "source": [
        "### **<h1 align=\"center\"><span style=\"color:#06445e;\">Duplicates</span>**\n",
        "### ***Removing duplicates is one of the most important part of the data wrangling process, we must remove the duplicates in order to get the correct insights from the data.***\n",
        "### ***If you do not remove duplicates from a dataset, it can lead to incorrect insights and analysis.***\n",
        "### ***Duplicates can skew statistical measures such as mean, median, and standard deviation, and can also lead to over-representation of certain data points.***\n",
        "### ***It is important to remove duplicates to ensure the accuracy and reliability of your data analysis.***"
      ],
      "metadata": {
        "id": "THUUnSWqk4pj"
      }
    },
    {
      "cell_type": "code",
      "source": [
        "# Find Duplicate\n",
        "df.duplicated().any()"
      ],
      "metadata": {
        "execution": {
          "iopub.status.busy": "2024-02-26T12:41:34.700506Z",
          "iopub.execute_input": "2024-02-26T12:41:34.701682Z",
          "iopub.status.idle": "2024-02-26T12:41:34.728481Z",
          "shell.execute_reply.started": "2024-02-26T12:41:34.701649Z",
          "shell.execute_reply": "2024-02-26T12:41:34.727258Z"
        },
        "trusted": true,
        "id": "X0TuAdzdk4pk",
        "colab": {
          "base_uri": "https://localhost:8080/"
        },
        "outputId": "631421b2-b556-4b2a-b237-46c4887d839f"
      },
      "execution_count": 40,
      "outputs": [
        {
          "output_type": "execute_result",
          "data": {
            "text/plain": [
              "np.False_"
            ]
          },
          "metadata": {},
          "execution_count": 40
        }
      ]
    },
    {
      "cell_type": "code",
      "source": [
        "df.columns"
      ],
      "metadata": {
        "execution": {
          "iopub.status.busy": "2024-02-26T12:41:34.730588Z",
          "iopub.execute_input": "2024-02-26T12:41:34.731016Z",
          "iopub.status.idle": "2024-02-26T12:41:34.739205Z",
          "shell.execute_reply.started": "2024-02-26T12:41:34.730978Z",
          "shell.execute_reply": "2024-02-26T12:41:34.737994Z"
        },
        "trusted": true,
        "id": "yWJwh94Dk4pl",
        "colab": {
          "base_uri": "https://localhost:8080/"
        },
        "collapsed": true,
        "outputId": "7c8dc070-939e-4890-f7c6-36d40f944ccb"
      },
      "execution_count": 37,
      "outputs": [
        {
          "output_type": "execute_result",
          "data": {
            "text/plain": [
              "Index(['product_id', 'product_name', 'category', 'discounted_price',\n",
              "       'actual_price', 'discount_percentage', 'rating', 'rating_count',\n",
              "       'about_product', 'user_id', 'user_name', 'review_id', 'review_title',\n",
              "       'review_content', 'img_link', 'product_link'],\n",
              "      dtype='object')"
            ]
          },
          "metadata": {},
          "execution_count": 37
        }
      ]
    },
    {
      "cell_type": "code",
      "source": [
        "any_duplicates = df.duplicated(subset=['product_id', 'product_name', 'category', 'discounted_price',\n",
        "       'actual_price', 'discount_percentage', 'rating', 'rating_count',\n",
        "       'about_product', 'user_id', 'user_name', 'review_id', 'review_title',\n",
        "       'review_content', 'img_link', 'product_link']).any()"
      ],
      "metadata": {
        "execution": {
          "iopub.status.busy": "2024-02-26T12:41:34.7406Z",
          "iopub.execute_input": "2024-02-26T12:41:34.741304Z",
          "iopub.status.idle": "2024-02-26T12:41:34.764374Z",
          "shell.execute_reply.started": "2024-02-26T12:41:34.74127Z",
          "shell.execute_reply": "2024-02-26T12:41:34.763218Z"
        },
        "trusted": true,
        "id": "EOcUT6x0k4pl"
      },
      "execution_count": 39,
      "outputs": []
    },
    {
      "cell_type": "code",
      "source": [
        "any_duplicates"
      ],
      "metadata": {
        "execution": {
          "iopub.status.busy": "2024-02-26T12:41:34.771505Z",
          "iopub.execute_input": "2024-02-26T12:41:34.771923Z",
          "iopub.status.idle": "2024-02-26T12:41:34.780699Z",
          "shell.execute_reply.started": "2024-02-26T12:41:34.771889Z",
          "shell.execute_reply": "2024-02-26T12:41:34.778999Z"
        },
        "trusted": true,
        "id": "riorvszlk4pl",
        "colab": {
          "base_uri": "https://localhost:8080/"
        },
        "outputId": "c2f80ab9-2d79-4323-e8c4-b311feda868c"
      },
      "execution_count": 41,
      "outputs": [
        {
          "output_type": "execute_result",
          "data": {
            "text/plain": [
              "np.False_"
            ]
          },
          "metadata": {},
          "execution_count": 41
        }
      ]
    },
    {
      "cell_type": "markdown",
      "source": [
        "# <p style=\"font-family:newtimeroman;font-size:150%;text-align:center;color:#06445e;\">Data Visualization</p>"
      ],
      "metadata": {
        "id": "5q9imVFtk4pn"
      }
    },
    {
      "cell_type": "markdown",
      "source": [
        "## **<p style=\"font-family:newtimeroman;font-size:150%;text-align:center;color:#06445e;\">Scatter Plot</p>**"
      ],
      "metadata": {
        "id": "pGKQcFj4k4pn"
      }
    },
    {
      "cell_type": "code",
      "source": [
        "# Plot actual_price vs. rating\n",
        "plt.scatter(df['actual_price'], df['rating'])\n",
        "plt.xlabel('Actual_price')\n",
        "plt.ylabel('Rating')\n",
        "plt.show()"
      ],
      "metadata": {
        "execution": {
          "iopub.status.busy": "2024-02-26T12:41:34.782241Z",
          "iopub.execute_input": "2024-02-26T12:41:34.782586Z",
          "iopub.status.idle": "2024-02-26T12:41:35.0205Z",
          "shell.execute_reply.started": "2024-02-26T12:41:34.782557Z",
          "shell.execute_reply": "2024-02-26T12:41:35.018884Z"
        },
        "trusted": true,
        "id": "O18RHdb5k4pn",
        "colab": {
          "base_uri": "https://localhost:8080/",
          "height": 450
        },
        "outputId": "eefaebdb-c273-46b7-828f-0efc1cdaf8a8"
      },
      "execution_count": 42,
      "outputs": [
        {
          "output_type": "display_data",
          "data": {
            "text/plain": [
              "<Figure size 640x480 with 1 Axes>"
            ],
            "image/png": "[encoded data removed]"
          },
          "metadata": {}
        }
      ]
    },
    {
      "cell_type": "code",
      "source": [
        "# dont show warnings\n",
        "import warnings\n",
        "warnings.filterwarnings('ignore')"
      ],
      "metadata": {
        "execution": {
          "iopub.status.busy": "2024-02-26T12:41:35.022359Z",
          "iopub.execute_input": "2024-02-26T12:41:35.022753Z",
          "iopub.status.idle": "2024-02-26T12:41:35.028799Z",
          "shell.execute_reply.started": "2024-02-26T12:41:35.022723Z",
          "shell.execute_reply": "2024-02-26T12:41:35.027301Z"
        },
        "trusted": true,
        "id": "cDy6qrySk4po"
      },
      "execution_count": 44,
      "outputs": []
    },
    {
      "cell_type": "markdown",
      "source": [
        "## **<p style=\"font-family:newtimeroman;font-size:150%;text-align:center;color:#06445e;\">Histogram</p>**"
      ],
      "metadata": {
        "id": "J17qIjZqk4po"
      }
    },
    {
      "cell_type": "code",
      "source": [
        "# Plot distribution of actual_price\n",
        "plt.hist(df['actual_price'])\n",
        "plt.xlabel('Actual Price')\n",
        "plt.ylabel('Frequency')\n",
        "plt.show()"
      ],
      "metadata": {
        "execution": {
          "iopub.status.busy": "2024-02-26T12:41:35.030143Z",
          "iopub.execute_input": "2024-02-26T12:41:35.03064Z",
          "iopub.status.idle": "2024-02-26T12:41:35.274948Z",
          "shell.execute_reply.started": "2024-02-26T12:41:35.030608Z",
          "shell.execute_reply": "2024-02-26T12:41:35.273493Z"
        },
        "trusted": true,
        "id": "379wp7Rdk4pp",
        "colab": {
          "base_uri": "https://localhost:8080/",
          "height": 449
        },
        "outputId": "2d8235f7-8460-4410-f7c1-e9a1fe274678"
      },
      "execution_count": 45,
      "outputs": [
        {
          "output_type": "display_data",
          "data": {
            "text/plain": [
              "<Figure size 640x480 with 1 Axes>"
            ],
            "image/png": "[encoded data removed]"
          },
          "metadata": {}
        }
      ]
    },
    {
      "cell_type": "code",
      "source": [
        "from sklearn.preprocessing import LabelEncoder\n",
        "# label encode categorical variables\n",
        "\n",
        "le_product_id = LabelEncoder()\n",
        "le_category = LabelEncoder()\n",
        "le_review_id = LabelEncoder()\n",
        "le_review_content = LabelEncoder()\n",
        "le_product_name = LabelEncoder()\n",
        "le_user_name = LabelEncoder()\n",
        "le_about_product = LabelEncoder()\n",
        "le_user_id = LabelEncoder()\n",
        "le_review_title = LabelEncoder()\n",
        "le_img_link = LabelEncoder()\n",
        "le_product_link = LabelEncoder()\n",
        "\n",
        "\n",
        "df['product_id'] = le_product_id.fit_transform(df['product_id'])\n",
        "df['category'] = le_category.fit_transform(df['category'])\n",
        "df['review_id'] = le_review_id.fit_transform(df['review_id'])\n",
        "df['review_content'] = le_review_content.fit_transform(df['review_content'])\n",
        "df['product_name'] = le_product_name.fit_transform(df['product_name'])\n",
        "df['user_name'] = le_user_name.fit_transform(df['user_name'])\n",
        "df['about_product'] = le_about_product.fit_transform(df['about_product'])\n",
        "df['user_id'] = le_user_id.fit_transform(df['user_id'])\n",
        "df['review_title'] = le_review_title.fit_transform(df['review_title'])\n",
        "df['img_link'] = le_img_link.fit_transform(df['img_link'])\n",
        "df['product_link'] = le_product_link.fit_transform(df['product_link'])"
      ],
      "metadata": {
        "execution": {
          "iopub.status.busy": "2024-02-26T12:41:35.276694Z",
          "iopub.execute_input": "2024-02-26T12:41:35.277033Z",
          "iopub.status.idle": "2024-02-26T12:41:35.392077Z",
          "shell.execute_reply.started": "2024-02-26T12:41:35.277005Z",
          "shell.execute_reply": "2024-02-26T12:41:35.390732Z"
        },
        "trusted": true,
        "id": "7AY7Nyuhk4pp"
      },
      "execution_count": 122,
      "outputs": []
    },
    {
      "cell_type": "markdown",
      "source": [
        "# **<p style=\"font-family:newtimeroman;font-size:150%;text-align:center;color:#06445e;\">Heatmap</p>**"
      ],
      "metadata": {
        "id": "edTt4TOyk4pq"
      }
    },
    {
      "cell_type": "code",
      "source": [
        "correlation_matrix = df.drop(columns=['product_id', 'category', 'review_id', 'review_content', 'product_name', 'user_name', 'about_product', 'user_id', 'review_title', 'img_link', 'product_link','keywords']).corr()\n",
        "sns.heatmap(correlation_matrix, annot=True)\n",
        "plt.show()"
      ],
      "metadata": {
        "execution": {
          "iopub.status.busy": "2024-02-26T12:41:35.39371Z",
          "iopub.execute_input": "2024-02-26T12:41:35.39407Z",
          "iopub.status.idle": "2024-02-26T12:41:36.376641Z",
          "shell.execute_reply.started": "2024-02-26T12:41:35.394041Z",
          "shell.execute_reply": "2024-02-26T12:41:36.375226Z"
        },
        "trusted": true,
        "id": "SfGZZ6Gtk4pq",
        "colab": {
          "base_uri": "https://localhost:8080/",
          "height": 567
        },
        "collapsed": true,
        "outputId": "3ddb0208-58a6-4a3a-ffdd-c9dedec04086"
      },
      "execution_count": 123,
      "outputs": [
        {
          "output_type": "display_data",
          "data": {
            "text/plain": [
              "<Figure size 640x480 with 2 Axes>"
            ],
            "image/png": "[encoded data removed]"
          },
          "metadata": {}
        }
      ]
    },
    {
      "cell_type": "markdown",
      "source": [
        "# <p style=\"font-family:newtimeroman;font-size:150%;text-align:center;color:#06445e;\">Correlation Analysis:</p>"
      ],
      "metadata": {
        "id": "LlUBbRfjk4pr"
      }
    },
    {
      "cell_type": "code",
      "source": [
        "# Calculate Pearson correlation coefficients\n",
        "correlation_matrix = df.drop(columns=['product_id', 'category', 'review_id', 'review_content', 'product_name', 'user_name', 'about_product', 'user_id', 'review_title', 'img_link', 'product_link','keywords']).corr()\n",
        "\n",
        "# Print the correlation matrix\n",
        "print(correlation_matrix)\n",
        "\n",
        "# Create a heatmap to visualize the correlations\n",
        "sns.heatmap(correlation_matrix, annot=True, cmap=\"coolwarm\")\n",
        "plt.title(\"Correlation Matrix (Pearson)\")\n",
        "plt.show()\n",
        "# Calculate Pearson correlation coefficients\n",
        "correlation_matrix = df.drop(columns=['product_id', 'category', 'review_id', 'review_content', 'product_name', 'user_name', 'about_product', 'user_id', 'review_title', 'img_link', 'product_link','keywords']).corr()\n",
        "\n",
        "# Print the correlation matrix\n",
        "print(correlation_matrix)\n",
        "\n",
        "# Create a heatmap to visualize the correlations\n",
        "sns.heatmap(correlation_matrix, annot=True, cmap=\"coolwarm\")\n",
        "plt.title(\"Correlation Matrix (Pearson)\")\n",
        "plt.show()\n",
        "\n",
        "# Calculate Spearman correlation coefficients (for non-linear relationships)\n",
        "spearman_correlation_matrix = df.drop(columns=['product_id', 'category', 'review_id', 'review_content', 'product_name', 'user_name', 'about_product', 'user_id', 'review_title', 'img_link', 'product_link','keywords']).corr(method='spearman')\n",
        "\n",
        "# Print the Spearman correlation matrix\n",
        "print(spearman_correlation_matrix)\n",
        "\n",
        "# Create a heatmap to visualize the Spearman correlations\n",
        "sns.heatmap(spearman_correlation_matrix, annot=True, cmap=\"coolwarm\")\n",
        "plt.title(\"Correlation Matrix (Spearman)\")\n",
        "plt.show()\n",
        "print(spearman_correlation_matrix)\n",
        "\n",
        "# Create a heatmap to visualize the Spearman correlations\n",
        "sns.heatmap(spearman_correlation_matrix, annot=True, cmap=\"coolwarm\")\n",
        "plt.title(\"Correlation Matrix (Spearman)\")\n",
        "plt.show()"
      ],
      "metadata": {
        "execution": {
          "iopub.status.busy": "2024-02-26T12:41:36.378912Z",
          "iopub.execute_input": "2024-02-26T12:41:36.379561Z",
          "iopub.status.idle": "2024-02-26T12:41:38.598149Z",
          "shell.execute_reply.started": "2024-02-26T12:41:36.379514Z",
          "shell.execute_reply": "2024-02-26T12:41:38.596885Z"
        },
        "trusted": true,
        "id": "BGoA7Idbk4pr",
        "colab": {
          "base_uri": "https://localhost:8080/",
          "height": 1000
        },
        "collapsed": true,
        "outputId": "1ab38569-51ff-42f6-9640-183ff0b49983"
      },
      "execution_count": 129,
      "outputs": [
        {
          "output_type": "stream",
          "name": "stdout",
          "text": [
            "                     discounted_price  actual_price  discount_percentage  \\\n",
            "discounted_price                  NaN           NaN                  NaN   \n",
            "actual_price                      NaN           NaN                  NaN   \n",
            "discount_percentage               NaN           NaN                  NaN   \n",
            "rating                            NaN           NaN                  NaN   \n",
            "rating_count                      NaN           NaN                  NaN   \n",
            "\n",
            "                     rating  rating_count  \n",
            "discounted_price        NaN           NaN  \n",
            "actual_price            NaN           NaN  \n",
            "discount_percentage     NaN           NaN  \n",
            "rating               1.0000        0.1017  \n",
            "rating_count         0.1017        1.0000  \n"
          ]
        },
        {
          "output_type": "display_data",
          "data": {
            "text/plain": [
              "<Figure size 640x480 with 2 Axes>"
            ],
            "image/png": "[encoded data removed]"
          },
          "metadata": {}
        },
        {
          "output_type": "stream",
          "name": "stdout",
          "text": [
            "                     discounted_price  actual_price  discount_percentage  \\\n",
            "discounted_price                  NaN           NaN                  NaN   \n",
            "actual_price                      NaN           NaN                  NaN   \n",
            "discount_percentage               NaN           NaN                  NaN   \n",
            "rating                            NaN           NaN                  NaN   \n",
            "rating_count                      NaN           NaN                  NaN   \n",
            "\n",
            "                     rating  rating_count  \n",
            "discounted_price        NaN           NaN  \n",
            "actual_price            NaN           NaN  \n",
            "discount_percentage     NaN           NaN  \n",
            "rating               1.0000        0.1017  \n",
            "rating_count         0.1017        1.0000  \n"
          ]
        },
        {
          "output_type": "display_data",
          "data": {
            "text/plain": [
              "<Figure size 640x480 with 2 Axes>"
            ],
            "image/png": "[encoded data removed]"
          },
          "metadata": {}
        },
        {
          "output_type": "stream",
          "name": "stdout",
          "text": [
            "                     discounted_price  actual_price  discount_percentage  \\\n",
            "discounted_price                  NaN           NaN                  NaN   \n",
            "actual_price                      NaN           NaN                  NaN   \n",
            "discount_percentage               NaN           NaN                  NaN   \n",
            "rating                            NaN           NaN                  NaN   \n",
            "rating_count                      NaN           NaN                  NaN   \n",
            "\n",
            "                       rating  rating_count  \n",
            "discounted_price          NaN           NaN  \n",
            "actual_price              NaN           NaN  \n",
            "discount_percentage       NaN           NaN  \n",
            "rating               1.000000      0.180947  \n",
            "rating_count         0.180947      1.000000  \n"
          ]
        },
        {
          "output_type": "display_data",
          "data": {
            "text/plain": [
              "<Figure size 640x480 with 2 Axes>"
            ],
            "image/png": "[encoded data removed]"
          },
          "metadata": {}
        },
        {
          "output_type": "stream",
          "name": "stdout",
          "text": [
            "                     discounted_price  actual_price  discount_percentage  \\\n",
            "discounted_price                  NaN           NaN                  NaN   \n",
            "actual_price                      NaN           NaN                  NaN   \n",
            "discount_percentage               NaN           NaN                  NaN   \n",
            "rating                            NaN           NaN                  NaN   \n",
            "rating_count                      NaN           NaN                  NaN   \n",
            "\n",
            "                       rating  rating_count  \n",
            "discounted_price          NaN           NaN  \n",
            "actual_price              NaN           NaN  \n",
            "discount_percentage       NaN           NaN  \n",
            "rating               1.000000      0.180947  \n",
            "rating_count         0.180947      1.000000  \n"
          ]
        },
        {
          "output_type": "display_data",
          "data": {
            "text/plain": [
              "<Figure size 640x480 with 2 Axes>"
            ],
            "image/png": "[encoded data removed]"
          },
          "metadata": {}
        }
      ]
    },
    {
      "cell_type": "code",
      "source": [
        "# Calculate correlation coefficient between product price and sales\n",
        "correlation_coefficient = np.corrcoef(df['actual_price'], df['rating'])[0, 1]\n",
        "\n",
        "# Print correlation coefficient\n",
        "print(correlation_coefficient)"
      ],
      "metadata": {
        "execution": {
          "iopub.status.busy": "2024-02-26T12:41:38.599885Z",
          "iopub.execute_input": "2024-02-26T12:41:38.600334Z",
          "iopub.status.idle": "2024-02-26T12:41:38.607949Z",
          "shell.execute_reply.started": "2024-02-26T12:41:38.600291Z",
          "shell.execute_reply": "2024-02-26T12:41:38.607155Z"
        },
        "trusted": true,
        "id": "TFFMqfpuk4pr",
        "colab": {
          "base_uri": "https://localhost:8080/"
        },
        "outputId": "6cd6dfb3-0b23-4c4f-bfaf-9bd527ce5d00"
      },
      "execution_count": 125,
      "outputs": [
        {
          "output_type": "stream",
          "name": "stdout",
          "text": [
            "nan\n"
          ]
        }
      ]
    },
    {
      "cell_type": "markdown",
      "source": [
        "# <p style=\"font-family:newtimeroman;font-size:150%;text-align:center;color:#06445e;\">Grouping and Aggregation</p>"
      ],
      "metadata": {
        "id": "7U8SbEM_k4ps"
      }
    },
    {
      "cell_type": "code",
      "source": [
        "# Calculate mean sales by product category\n",
        "grouped_df = df.groupby('category')['rating'].mean()\n",
        "\n",
        "# Print mean sales by product category\n",
        "print(grouped_df)"
      ],
      "metadata": {
        "execution": {
          "iopub.status.busy": "2024-02-26T12:41:38.609152Z",
          "iopub.execute_input": "2024-02-26T12:41:38.609487Z",
          "iopub.status.idle": "2024-02-26T12:41:38.628067Z",
          "shell.execute_reply.started": "2024-02-26T12:41:38.609459Z",
          "shell.execute_reply": "2024-02-26T12:41:38.6264Z"
        },
        "trusted": true,
        "id": "APBfs-2Ak4ps",
        "colab": {
          "base_uri": "https://localhost:8080/"
        },
        "collapsed": true,
        "outputId": "8b1afec2-58f4-40a5-e177-0d0ce3b5b649"
      },
      "execution_count": 126,
      "outputs": [
        {
          "output_type": "stream",
          "name": "stdout",
          "text": [
            "category\n",
            "0      3.800000\n",
            "1      4.150000\n",
            "2      3.500000\n",
            "3      3.600000\n",
            "4      4.050000\n",
            "         ...   \n",
            "206    4.250000\n",
            "207    4.150000\n",
            "208    4.300000\n",
            "209    4.133333\n",
            "210    4.300000\n",
            "Name: rating, Length: 211, dtype: float64\n"
          ]
        }
      ]
    },
    {
      "cell_type": "markdown",
      "source": [
        "#### **<h1 align=\"center\"><span style=\"color:#06445e;\">Calculate summary statistics for groups</span>**"
      ],
      "metadata": {
        "id": "uLVYBJCEk4pt"
      }
    },
    {
      "cell_type": "code",
      "source": [
        "# Mean rating by category\n",
        "mean_sales_by_category = df.groupby('category')['rating'].mean()\n",
        "print(mean_sales_by_category)\n",
        "\n",
        "# Median rating by review_content\n",
        "median_sales_by_age = df.groupby('review_content')['rating'].median()\n",
        "print(median_sales_by_age)\n",
        "\n",
        "# Standard deviation of actual_price by product_name\n",
        "std_price_by_brand = df.groupby('product_name')['actual_price'].std()\n",
        "print(std_price_by_brand)"
      ],
      "metadata": {
        "execution": {
          "iopub.status.busy": "2024-02-26T12:41:38.630528Z",
          "iopub.execute_input": "2024-02-26T12:41:38.631056Z",
          "iopub.status.idle": "2024-02-26T12:41:38.652399Z",
          "shell.execute_reply.started": "2024-02-26T12:41:38.631008Z",
          "shell.execute_reply": "2024-02-26T12:41:38.651359Z"
        },
        "trusted": true,
        "id": "CZWI3ZoNk4pt",
        "colab": {
          "base_uri": "https://localhost:8080/"
        },
        "collapsed": true,
        "outputId": "4e7490ab-3182-400e-dbe4-fcfac343c600"
      },
      "execution_count": 53,
      "outputs": [
        {
          "output_type": "stream",
          "name": "stdout",
          "text": [
            "category\n",
            "0      3.800000\n",
            "1      4.150000\n",
            "2      3.500000\n",
            "3      3.600000\n",
            "4      4.050000\n",
            "         ...   \n",
            "206    4.250000\n",
            "207    4.150000\n",
            "208    4.300000\n",
            "209    4.133333\n",
            "210    4.300000\n",
            "Name: rating, Length: 211, dtype: float64\n",
            "review_content\n",
            "0       4.1\n",
            "1       3.9\n",
            "2       4.3\n",
            "3       4.3\n",
            "4       3.8\n",
            "       ... \n",
            "1207    4.0\n",
            "1208    4.3\n",
            "1209    4.3\n",
            "1210    4.5\n",
            "1211    4.3\n",
            "Name: rating, Length: 1212, dtype: float64\n",
            "product_name\n",
            "0      NaN\n",
            "1      NaN\n",
            "2      NaN\n",
            "3      NaN\n",
            "4      NaN\n",
            "        ..\n",
            "1332   NaN\n",
            "1333   NaN\n",
            "1334   NaN\n",
            "1335   NaN\n",
            "1336   NaN\n",
            "Name: actual_price, Length: 1337, dtype: float64\n"
          ]
        }
      ]
    },
    {
      "cell_type": "markdown",
      "source": [
        "# <p style=\"font-family:newtimeroman;font-size:150%;text-align:center;color:#06445e;\">Statistical Tests:</p>"
      ],
      "metadata": {
        "id": "hXZn_g7rk4pv"
      }
    },
    {
      "cell_type": "code",
      "source": [
        "import scipy.stats as stats\n",
        "\n",
        "# Conduct t-test to compare rating between two categories\n",
        "t_statistic, p_value = stats.ttest_ind(df[df['category'] == 'electronics']['rating'], df[df['category'] == 'clothing']['rating'])\n",
        "\n",
        "# Print t-statistic and p-value\n",
        "print(t_statistic, p_value)"
      ],
      "metadata": {
        "execution": {
          "iopub.status.busy": "2024-02-26T12:41:39.311379Z",
          "iopub.execute_input": "2024-02-26T12:41:39.311707Z",
          "iopub.status.idle": "2024-02-26T12:41:39.322625Z",
          "shell.execute_reply.started": "2024-02-26T12:41:39.311678Z",
          "shell.execute_reply": "2024-02-26T12:41:39.321333Z"
        },
        "trusted": true,
        "id": "tRFkTVQWk4pw",
        "colab": {
          "base_uri": "https://localhost:8080/"
        },
        "outputId": "53215593-d104-439c-a03d-ec26c01a042c"
      },
      "execution_count": 55,
      "outputs": [
        {
          "output_type": "stream",
          "name": "stdout",
          "text": [
            "nan nan\n"
          ]
        }
      ]
    },
    {
      "cell_type": "code",
      "source": [
        "df.info()"
      ],
      "metadata": {
        "execution": {
          "iopub.status.busy": "2024-02-26T12:41:39.324124Z",
          "iopub.execute_input": "2024-02-26T12:41:39.324468Z",
          "iopub.status.idle": "2024-02-26T12:41:39.341822Z",
          "shell.execute_reply.started": "2024-02-26T12:41:39.32444Z",
          "shell.execute_reply": "2024-02-26T12:41:39.340623Z"
        },
        "trusted": true,
        "id": "N9SFibyak4px",
        "colab": {
          "base_uri": "https://localhost:8080/"
        },
        "collapsed": true,
        "outputId": "89058f56-8fbe-4fd7-b5ea-6f9b0ea3b7c2"
      },
      "execution_count": 63,
      "outputs": [
        {
          "output_type": "stream",
          "name": "stdout",
          "text": [
            "<class 'pandas.core.frame.DataFrame'>\n",
            "RangeIndex: 1465 entries, 0 to 1464\n",
            "Data columns (total 16 columns):\n",
            " #   Column               Non-Null Count  Dtype  \n",
            "---  ------               --------------  -----  \n",
            " 0   product_id           1465 non-null   int64  \n",
            " 1   product_name         1465 non-null   int64  \n",
            " 2   category             1465 non-null   int64  \n",
            " 3   discounted_price     0 non-null      float64\n",
            " 4   actual_price         0 non-null      float64\n",
            " 5   discount_percentage  1465 non-null   float64\n",
            " 6   rating               1465 non-null   float64\n",
            " 7   rating_count         1465 non-null   float64\n",
            " 8   about_product        1465 non-null   int64  \n",
            " 9   user_id              1465 non-null   int64  \n",
            " 10  user_name            1465 non-null   int64  \n",
            " 11  review_id            1465 non-null   int64  \n",
            " 12  review_title         1465 non-null   int64  \n",
            " 13  review_content       1465 non-null   int64  \n",
            " 14  img_link             1465 non-null   int64  \n",
            " 15  product_link         1465 non-null   int64  \n",
            "dtypes: float64(5), int64(11)\n",
            "memory usage: 183.3 KB\n"
          ]
        }
      ]
    },
    {
      "cell_type": "code",
      "source": [
        "contigency_table = pd.crosstab(df['category'], df['rating'])\n",
        "\n",
        "# Perform chi-square test\n",
        "chi2, p, dof, expected = stats.chi2_contingency(contigency_table)\n",
        "print(f\"Chi-square statistic: {chi2}\")\n",
        "print(f\"P-value: {p}\")\n",
        "print(f\"Degrees of freedom: {dof}\")\n",
        "print(\"Expected frequencies:\")\n",
        "expected\n"
      ],
      "metadata": {
        "colab": {
          "base_uri": "https://localhost:8080/"
        },
        "collapsed": true,
        "id": "eTLPVw6Ut8Xn",
        "outputId": "0c5d17c1-0829-4c4d-f00e-343bac53fa36"
      },
      "execution_count": 68,
      "outputs": [
        {
          "output_type": "stream",
          "name": "stdout",
          "text": [
            "Chi-square statistic: 4814.459358697762\n",
            "P-value: 0.9885225853908097\n",
            "Degrees of freedom: 5040\n",
            "Expected frequencies:\n"
          ]
        },
        {
          "output_type": "execute_result",
          "data": {
            "text/plain": [
              "array([[0.00068259, 0.00068259, 0.00068259, ..., 0.00409556, 0.00204778,\n",
              "        0.00204778],\n",
              "       [0.00136519, 0.00136519, 0.00136519, ..., 0.00819113, 0.00409556,\n",
              "        0.00409556],\n",
              "       [0.00068259, 0.00068259, 0.00068259, ..., 0.00409556, 0.00204778,\n",
              "        0.00204778],\n",
              "       ...,\n",
              "       [0.00136519, 0.00136519, 0.00136519, ..., 0.00819113, 0.00409556,\n",
              "        0.00409556],\n",
              "       [0.00204778, 0.00204778, 0.00204778, ..., 0.01228669, 0.00614334,\n",
              "        0.00614334],\n",
              "       [0.00068259, 0.00068259, 0.00068259, ..., 0.00409556, 0.00204778,\n",
              "        0.00204778]])"
            ]
          },
          "metadata": {},
          "execution_count": 68
        }
      ]
    },
    {
      "cell_type": "code",
      "source": [
        "# inverse transform the data\n",
        "\n",
        "df['product_id'] = le_product_id.inverse_transform(df['product_id'])\n",
        "df['category'] = le_category.inverse_transform(df['category'])\n",
        "df['review_id'] = le_review_id.inverse_transform(df['review_id'])\n",
        "df['review_content'] = le_review_content.inverse_transform(df['review_content'])\n",
        "df['product_name'] = le_product_name.inverse_transform(df['product_name'])\n",
        "df['user_name'] = le_user_name.inverse_transform(df['user_name'])\n",
        "df['about_product'] = le_about_product.inverse_transform(df['about_product'])\n",
        "df['user_id'] = le_user_id.inverse_transform(df['user_id'])\n",
        "df['review_title'] = le_review_title.inverse_transform(df['review_title'])\n",
        "df['img_link'] = le_img_link.inverse_transform(df['img_link'])\n",
        "df['product_link'] = le_product_link.inverse_transform(df['product_link'])"
      ],
      "metadata": {
        "execution": {
          "iopub.status.busy": "2024-02-26T12:41:39.419291Z",
          "iopub.execute_input": "2024-02-26T12:41:39.419618Z",
          "iopub.status.idle": "2024-02-26T12:41:39.439672Z",
          "shell.execute_reply.started": "2024-02-26T12:41:39.419591Z",
          "shell.execute_reply": "2024-02-26T12:41:39.438069Z"
        },
        "trusted": true,
        "id": "bLU1L6rak4pz"
      },
      "execution_count": 69,
      "outputs": []
    },
    {
      "cell_type": "markdown",
      "source": [
        "---"
      ],
      "metadata": {
        "id": "0dbPiFSjk4pz"
      }
    },
    {
      "cell_type": "markdown",
      "source": [
        "## ***Q1: What is the average rating for each product category?***"
      ],
      "metadata": {
        "id": "k4zfQv2Hk4p0"
      }
    },
    {
      "cell_type": "code",
      "source": [
        "# Check the data type of the \"rating\" column\n",
        "print(df[\"rating\"].dtype)\n",
        "\n",
        "# If the data type is not numeric, convert it to numeric\n",
        "if df[\"rating\"].dtype == \"object\":\n",
        "    df[\"rating\"] = pd.to_numeric(df[\"rating\"], errors=\"coerce\")  # Handle potential errors\n",
        "\n",
        "# Calculate the average ratings after ensuring numeric data type\n",
        "average_ratings = df.groupby(\"category\")[\"rating\"].mean().reset_index()\n",
        "\n",
        "print(average_ratings)"
      ],
      "metadata": {
        "execution": {
          "iopub.status.busy": "2024-02-26T12:41:39.441306Z",
          "iopub.execute_input": "2024-02-26T12:41:39.441727Z",
          "iopub.status.idle": "2024-02-26T12:41:39.456274Z",
          "shell.execute_reply.started": "2024-02-26T12:41:39.441687Z",
          "shell.execute_reply": "2024-02-26T12:41:39.45522Z"
        },
        "trusted": true,
        "id": "Ys5_HzQQk4p1",
        "colab": {
          "base_uri": "https://localhost:8080/"
        },
        "collapsed": true,
        "outputId": "72a0c6cb-0e11-496e-c379-90b1fd7ddb31"
      },
      "execution_count": 101,
      "outputs": [
        {
          "output_type": "stream",
          "name": "stdout",
          "text": [
            "float64\n",
            "     category    rating\n",
            "0           0  3.800000\n",
            "1           1  4.150000\n",
            "2           2  3.500000\n",
            "3           3  3.600000\n",
            "4           4  4.050000\n",
            "..        ...       ...\n",
            "206       206  4.250000\n",
            "207       207  4.150000\n",
            "208       208  4.300000\n",
            "209       209  4.133333\n",
            "210       210  4.300000\n",
            "\n",
            "[211 rows x 2 columns]\n"
          ]
        }
      ]
    },
    {
      "cell_type": "markdown",
      "source": [
        "### ***Answer 1:***\n",
        "- ***The output shows that most product `categories` have generally positive customer feedback, with `average ratings above 3.50`. However, some categories (e.g., 2 and 3) have lower ratings, suggesting potential areas for improvement. Further analysis of these categories could help identify specific reasons for lower feedback and identify potential solutions.***"
      ],
      "metadata": {
        "id": "5GWNGJKTk4p1"
      }
    },
    {
      "cell_type": "markdown",
      "source": [
        "## ***Q2: What are the top rating_count products by category?***"
      ],
      "metadata": {
        "id": "AX8WIZoLk4p2"
      }
    },
    {
      "cell_type": "code",
      "source": [
        "import pandas as pd\n",
        "\n",
        "top_reviewed_per_category = (\n",
        "    df.groupby(\"category\")\n",
        "    .apply(lambda x: x.nlargest(10, \"rating_count\"))\n",
        "    .reset_index(drop=True)\n",
        ")\n",
        "\n",
        "print(top_reviewed_per_category)"
      ],
      "metadata": {
        "_kg_hide-input": false,
        "_kg_hide-output": true,
        "execution": {
          "iopub.status.busy": "2024-02-26T12:41:39.457897Z",
          "iopub.execute_input": "2024-02-26T12:41:39.458267Z",
          "iopub.status.idle": "2024-02-26T12:41:39.823612Z",
          "shell.execute_reply.started": "2024-02-26T12:41:39.458235Z",
          "shell.execute_reply": "2024-02-26T12:41:39.822469Z"
        },
        "trusted": true,
        "id": "hKbMagcfk4p2",
        "colab": {
          "base_uri": "https://localhost:8080/"
        },
        "collapsed": true,
        "outputId": "b5591bb7-7e67-4e84-c434-d19e319e47dd"
      },
      "execution_count": 102,
      "outputs": [
        {
          "output_type": "stream",
          "name": "stdout",
          "text": [
            "     product_id  product_name  category  discounted_price  actual_price  \\\n",
            "0           788           915         0               NaN           NaN   \n",
            "1           830          1335         1               NaN           NaN   \n",
            "2           805           541         1               NaN           NaN   \n",
            "3            25           477         2               NaN           NaN   \n",
            "4           725           515         3               NaN           NaN   \n",
            "..          ...           ...       ...               ...           ...   \n",
            "815          74           819       208               NaN           NaN   \n",
            "816         412           786       209               NaN           NaN   \n",
            "817          84           785       209               NaN           NaN   \n",
            "818         239           784       209               NaN           NaN   \n",
            "819          43           377       210               NaN           NaN   \n",
            "\n",
            "     discount_percentage  rating  rating_count  about_product  user_id  \\\n",
            "0                   0.42     3.8        1118.0           1203      656   \n",
            "1                   0.94     4.3        4426.0           1284      788   \n",
            "2                   0.63     4.0        1540.0           1286      363   \n",
            "3                   0.35     3.5        7222.0            778      451   \n",
            "4                   0.53     3.9       14969.0            681      528   \n",
            "..                   ...     ...           ...            ...      ...   \n",
            "815                 0.15     4.3        2450.0           1104      625   \n",
            "816                 0.00     4.1        4308.0              9      754   \n",
            "817                 0.15     4.0        3686.0            140       18   \n",
            "818                 0.24     4.3        2493.0           1048      567   \n",
            "819                 0.00     4.3       15867.0            922       36   \n",
            "\n",
            "     user_name  review_id  review_title  review_content  img_link  \\\n",
            "0          210        911           637              83      1244   \n",
            "1          573        774           959             968      1171   \n",
            "2           41        252           277            1029      1387   \n",
            "3          306        744           540             668       201   \n",
            "4          193        335           601             501       511   \n",
            "..         ...        ...           ...             ...       ...   \n",
            "815        511        100           598             175       251   \n",
            "816        628        155            51             536       315   \n",
            "817        351       1002           784             130      1380   \n",
            "818        367        736           473             292      1025   \n",
            "819        204        748            46            1000       686   \n",
            "\n",
            "     product_link  \n",
            "0            1015  \n",
            "1            1464  \n",
            "2             615  \n",
            "3             506  \n",
            "4             603  \n",
            "..            ...  \n",
            "815           896  \n",
            "816           705  \n",
            "817           864  \n",
            "818           863  \n",
            "819           449  \n",
            "\n",
            "[820 rows x 16 columns]\n"
          ]
        }
      ]
    },
    {
      "cell_type": "markdown",
      "source": [
        "### ***Answer 2:***\n",
        "- ***The output highlights products likely to be popular within their categories based on high `review counts`, suggesting customer interest and engagement.***\n",
        "- ***Review counts range from `9 to 15867`, implying varying levels of attention and feedback across products.***\n",
        "- ***Most listed products have `ratings above 3.5`, indicating a generally positive customer experience.***\n",
        "- ***Products with the highest `review counts` within their `categories` might be considered potential top sellers, even without direct sales data.***"
      ],
      "metadata": {
        "id": "-VA_7Qzvk4p3"
      }
    },
    {
      "cell_type": "markdown",
      "source": [
        "## ***Q3: What is the distribution of discounted prices vs. actual prices?***"
      ],
      "metadata": {
        "id": "K9QP9rfQk4p3"
      }
    },
    {
      "cell_type": "code",
      "source": [
        "import pandas as pd\n",
        "\n",
        "# Create histograms\n",
        "df[\"discounted_price\"].hist(label=\"Discounted Price\")\n",
        "df[\"actual_price\"].hist(label=\"Actual Price\")\n",
        "\n",
        "# Calculate and analyze discount percentages\n",
        "df[\"discount_percentage\"] = (df[\"actual_price\"] - df[\"discounted_price\"]) / df[\"actual_price\"] * 100\n",
        "df[\"discount_percentage\"].describe()\n",
        "df[\"discount_percentage\"].hist(label=\"Discount Percentage\")\n"
      ],
      "metadata": {
        "execution": {
          "iopub.status.busy": "2024-02-26T12:41:39.82532Z",
          "iopub.execute_input": "2024-02-26T12:41:39.826747Z",
          "iopub.status.idle": "2024-02-26T12:41:40.134283Z",
          "shell.execute_reply.started": "2024-02-26T12:41:39.826705Z",
          "shell.execute_reply": "2024-02-26T12:41:40.132778Z"
        },
        "trusted": true,
        "id": "4M31X7f9k4p3",
        "colab": {
          "base_uri": "https://localhost:8080/",
          "height": 448
        },
        "collapsed": true,
        "outputId": "b98071e0-fbc6-4b4d-9d36-8993bce6c2c8"
      },
      "execution_count": 103,
      "outputs": [
        {
          "output_type": "execute_result",
          "data": {
            "text/plain": [
              "<Axes: >"
            ]
          },
          "metadata": {},
          "execution_count": 103
        },
        {
          "output_type": "display_data",
          "data": {
            "text/plain": [
              "<Figure size 640x480 with 1 Axes>"
            ],
            "image/png": "[encoded data removed]"
          },
          "metadata": {}
        }
      ]
    },
    {
      "cell_type": "markdown",
      "source": [
        "### ***Answer 3:***\n",
        "- ***The output shows that `discounted prices` are generally lower than `actual prices`, with a `median discounted price of $200` and a `median actual price of $400`.***\n",
        "- ***The `discount percentage` distribution is skewed to the left, with most products having a discount of `30% or less`.***\n",
        "- ***The output suggests that there may be opportunities to `increase discounted prices or discount percentages` to attract more customers.***"
      ],
      "metadata": {
        "id": "70ZoF_oDk4p4"
      }
    },
    {
      "cell_type": "markdown",
      "source": [
        "## ***Q4: How does the average discount percentage vary across categories?***"
      ],
      "metadata": {
        "id": "_EFA3EEck4p4"
      }
    },
    {
      "cell_type": "code",
      "source": [
        "# Calculate average discount percentage per category\n",
        "avg_discount_per_category = df.groupby('category')['discount_percentage'].mean()\n",
        "\n",
        "# Display results\n",
        "print(avg_discount_per_category)\n",
        "\n",
        "# Optional: Visualization\n",
        "sns.barplot(x=avg_discount_per_category.index, y=avg_discount_per_category.values)\n",
        "plt.xlabel(\"Category\")\n",
        "plt.ylabel(\"Average Discount Percentage\")\n",
        "plt.show()"
      ],
      "metadata": {
        "execution": {
          "iopub.status.busy": "2024-02-26T12:41:40.136096Z",
          "iopub.execute_input": "2024-02-26T12:41:40.136474Z",
          "iopub.status.idle": "2024-02-26T12:41:43.519923Z",
          "shell.execute_reply.started": "2024-02-26T12:41:40.136443Z",
          "shell.execute_reply": "2024-02-26T12:41:43.51854Z"
        },
        "trusted": true,
        "id": "3QEu49cyk4p4",
        "colab": {
          "base_uri": "https://localhost:8080/",
          "height": 685
        },
        "outputId": "a1879701-7d26-45f6-ab63-aaac7f856886"
      },
      "execution_count": 104,
      "outputs": [
        {
          "output_type": "stream",
          "name": "stdout",
          "text": [
            "category\n",
            "0     NaN\n",
            "1     NaN\n",
            "2     NaN\n",
            "3     NaN\n",
            "4     NaN\n",
            "       ..\n",
            "206   NaN\n",
            "207   NaN\n",
            "208   NaN\n",
            "209   NaN\n",
            "210   NaN\n",
            "Name: discount_percentage, Length: 211, dtype: float64\n"
          ]
        },
        {
          "output_type": "display_data",
          "data": {
            "text/plain": [
              "<Figure size 640x480 with 1 Axes>"
            ],
            "image/png": "[encoded data removed]"
          },
          "metadata": {}
        }
      ]
    },
    {
      "cell_type": "markdown",
      "source": [
        "### ***Answer 4:***\n",
        "- ***`Average discount percentages` vary widely across categories, ranging from `0% to 78.39%`.***\n",
        "- ***Categories 1 and 3 stand out with notably higher `average discounts (78.39% and 56.34%)`, suggesting potential factors like clearance efforts, high competition, or lower-profit margins.***\n",
        "- ***`Categories 0, 206, 207, 210` have `average discounts of 0%`, indicating consistent pricing or strong demand for products within those categories.***\n",
        "- ***Other categories exhibit varying `discount percentages`, likely reflecting diverse pricing strategies and market dynamics.***"
      ],
      "metadata": {
        "id": "NPrXy0Yzk4p5"
      }
    },
    {
      "cell_type": "markdown",
      "source": [
        "## ***Q5: What are the most popular product name?***"
      ],
      "metadata": {
        "id": "g5jbAn0Sk4p5"
      }
    },
    {
      "cell_type": "code",
      "source": [
        "# Count occurrences of product names\n",
        "product_counts = df[\"product_name\"].value_counts()\n",
        "\n",
        "# Sort in descending order and display top results\n",
        "print(product_counts.sort_values(ascending=False).head(10))"
      ],
      "metadata": {
        "execution": {
          "iopub.status.busy": "2024-02-26T12:41:43.521306Z",
          "iopub.execute_input": "2024-02-26T12:41:43.521632Z",
          "iopub.status.idle": "2024-02-26T12:41:43.531473Z",
          "shell.execute_reply.started": "2024-02-26T12:41:43.521605Z",
          "shell.execute_reply": "2024-02-26T12:41:43.530271Z"
        },
        "trusted": true,
        "id": "py6J_GSmk4p6",
        "colab": {
          "base_uri": "https://localhost:8080/"
        },
        "collapsed": true,
        "outputId": "00e4ae64-65a0-4c0d-f6e1-8e8807ea6a91"
      },
      "execution_count": 105,
      "outputs": [
        {
          "output_type": "stream",
          "name": "stdout",
          "text": [
            "product_name\n",
            "384     5\n",
            "386     4\n",
            "125     3\n",
            "324     3\n",
            "380     3\n",
            "107     3\n",
            "134     3\n",
            "1158    3\n",
            "84      3\n",
            "820     3\n",
            "Name: count, dtype: int64\n"
          ]
        }
      ]
    },
    {
      "cell_type": "markdown",
      "source": [
        "### ***Answer 5:***\n",
        "- ***Fire-Boltt Ninja Call Pro Plus Smart Watch is the most popular product, followed by Fire-Boltt Phoenix Smart Watch.***\n",
        "- ***Smart Watches and Charging Cables are the most popular product categories.***\n",
        "- ***Multiple brands are represented, with boAt appearing twice.***\n",
        "- ***Fast charging, durability, and functionality are key features.***\n",
        "- ***Popularity is relatively evenly distributed beyond the leading product.***"
      ],
      "metadata": {
        "id": "XQjIZmF9k4p6"
      }
    },
    {
      "cell_type": "markdown",
      "source": [
        "## ***Q6: What are the most popular product keywords?***"
      ],
      "metadata": {
        "id": "MeLIVBlyk4p7"
      }
    },
    {
      "cell_type": "code",
      "source": [
        "def extract_keywords(product_name):\n",
        "  \"\"\"Extracts keywords from a product name, handling potential numbers.\"\"\"\n",
        "  if isinstance(product_name, str):  # Check if it's a string\n",
        "    keywords = product_name.lower().split()  # Split into words and lowercase\n",
        "    keywords = [word for word in keywords if word.isalpha()]  # Remove non-alphabetical characters\n",
        "  else:\n",
        "    keywords = []  # Handle non-string values (e.g., integers) by returning an empty list\n",
        "  return keywords\n",
        "\n",
        "# Apply the function to extract keywords\n",
        "df[\"keywords\"] = df[\"product_name\"].apply(extract_keywords)\n",
        "\n",
        "# Flatten the list of keywords\n",
        "all_keywords = [keyword for keywords in df[\"keywords\"] for keyword in keywords]\n",
        "\n",
        "# Count keyword occurrences\n",
        "keyword_counts = pd.Series(all_keywords).value_counts()\n",
        "\n",
        "# Display the top 10 most popular keywords\n",
        "print(keyword_counts.head(10))"
      ],
      "metadata": {
        "execution": {
          "iopub.status.busy": "2024-02-26T12:41:43.532827Z",
          "iopub.execute_input": "2024-02-26T12:41:43.533212Z",
          "iopub.status.idle": "2024-02-26T12:41:43.565766Z",
          "shell.execute_reply.started": "2024-02-26T12:41:43.53318Z",
          "shell.execute_reply": "2024-02-26T12:41:43.564333Z"
        },
        "trusted": true,
        "id": "CG7ihyCGk4p7",
        "colab": {
          "base_uri": "https://localhost:8080/"
        },
        "outputId": "02890813-f8ad-4273-dc43-cda005e5f586"
      },
      "execution_count": 106,
      "outputs": [
        {
          "output_type": "stream",
          "name": "stdout",
          "text": [
            "Series([], Name: count, dtype: int64)\n"
          ]
        }
      ]
    },
    {
      "cell_type": "markdown",
      "source": [
        "### ***Answer 6:***\n",
        "- ***`USB` connectivity, `charging (especially fast charging)`, and `cables` are prominent product features.***\n",
        "- ***`Prepositions and conjunctions` like `\"with\", \"for\", \"and\", \"to\"` suggest a focus on explaining product compatibility and usage scenarios.***\n",
        "- ***`Cables and smart devices` are likely well-represented in the dataset.***\n",
        "- ***`Product names` tend to be concise and use `common words`, potentially benefiting from refined keyword extraction techniques.***"
      ],
      "metadata": {
        "id": "JDy7ntqvk4p8"
      }
    },
    {
      "cell_type": "markdown",
      "source": [
        "## ***Q7: What is the correlation between discounted_price and rating?***"
      ],
      "metadata": {
        "id": "dtBKXXU3k4p-"
      }
    },
    {
      "cell_type": "code",
      "source": [
        "# Calculate the correlation coefficient\n",
        "correlation_coefficient = df[\"discounted_price\"].corr(df[\"rating\"])\n",
        "\n",
        "# Print the correlation coefficient with two decimal places\n",
        "print(f\"Correlation between discounted_price and rating: {correlation_coefficient:.2f}\")"
      ],
      "metadata": {
        "execution": {
          "iopub.status.busy": "2024-02-26T12:41:47.884301Z",
          "iopub.execute_input": "2024-02-26T12:41:47.885255Z",
          "iopub.status.idle": "2024-02-26T12:41:47.894126Z",
          "shell.execute_reply.started": "2024-02-26T12:41:47.88521Z",
          "shell.execute_reply": "2024-02-26T12:41:47.892674Z"
        },
        "trusted": true,
        "id": "N7NZUMG9k4p_",
        "colab": {
          "base_uri": "https://localhost:8080/"
        },
        "outputId": "f5ac2d5f-8f8e-4870-9a65-108871260e72"
      },
      "execution_count": 108,
      "outputs": [
        {
          "output_type": "stream",
          "name": "stdout",
          "text": [
            "Correlation between discounted_price and rating: nan\n"
          ]
        }
      ]
    },
    {
      "cell_type": "markdown",
      "source": [
        "### ***Answer 7:***\n",
        "***`Discounted price` and `rating` have a `weak positive correlation`. This means that products with higher discounted prices tend to have slightly higher ratings, but the relationship is not very strong.***"
      ],
      "metadata": {
        "id": "dO6l1Zfxk4qA"
      }
    },
    {
      "cell_type": "markdown",
      "source": [
        "## ***Q8: What are the Top 5 categories based with highest ratings?***"
      ],
      "metadata": {
        "id": "3DUD0QX7k4qA"
      }
    },
    {
      "cell_type": "code",
      "source": [
        "# Group data by category and calculate average rating\n",
        "average_ratings = df.groupby(\"category\")[\"rating\"].mean().reset_index()\n",
        "\n",
        "# Sort by average rating in descending order\n",
        "average_ratings = average_ratings.sort_values(by=\"rating\", ascending=False)\n",
        "\n",
        "# Print the top 5 categories\n",
        "print(\"Top 5 categories with highest average ratings:\")\n",
        "for i in range(5):\n",
        "    category = average_ratings.iloc[i][\"category\"]\n",
        "    average_rating = average_ratings.iloc[i][\"rating\"]\n",
        "    print(f\"{i+1}. {category}: {average_rating:.2f}\")"
      ],
      "metadata": {
        "execution": {
          "iopub.status.busy": "2024-02-26T12:41:47.895943Z",
          "iopub.execute_input": "2024-02-26T12:41:47.89646Z",
          "iopub.status.idle": "2024-02-26T12:41:47.911793Z",
          "shell.execute_reply.started": "2024-02-26T12:41:47.896428Z",
          "shell.execute_reply": "2024-02-26T12:41:47.910205Z"
        },
        "trusted": true,
        "id": "_MEtY6ACk4qB",
        "colab": {
          "base_uri": "https://localhost:8080/"
        },
        "collapsed": true,
        "outputId": "6bac4c3e-1470-4056-f299-7b0406352a0c"
      },
      "execution_count": 109,
      "outputs": [
        {
          "output_type": "stream",
          "name": "stdout",
          "text": [
            "Top 5 categories with highest average ratings:\n",
            "1. 57.0: 4.60\n",
            "2. 48.0: 4.50\n",
            "3. 62.0: 4.50\n",
            "4. 38.0: 4.50\n",
            "5. 81.0: 4.50\n"
          ]
        }
      ]
    },
    {
      "cell_type": "markdown",
      "source": [
        "* ***Answer 8:***\n",
        "- ***The `top 5 categories` have `average ratings` between `4.50 and 4.60`, indicating overall positive customer satisfaction within these areas.***\n",
        "- ***Most of the top-rated categories fall within technology-related domains, including `tablets, networking devices, photography accessories, media streaming devices, and calculators`.***\n",
        "- ***Within broader categories like `\"Computers & Accessories\" and \"Electronics,\"` specific subcategories emerge as particularly well-rated, such as `tablets, powerline adapters, film accessories, and streaming clients`.***\n",
        "- ***`Four categories` share a `rating of 4.50`, suggesting similar levels of customer satisfaction across these areas.***\n",
        "- ***The `presence of \"Basic Calculators\"` in the top 5 suggests that even relatively simple products can `achieve high ratings` if they meet customer needs effectively.***"
      ],
      "metadata": {
        "id": "K3Kf6otMk4qC"
      }
    },
    {
      "cell_type": "markdown",
      "source": [
        "# <p style=\"font-family:newtimeroman;font-size:150%;text-align:center;color:#06445e;\">Summary</p>\n",
        "### ***Our insightful exploration of the Amazon Sales dataset, characterized by its remarkable cleanliness and consistency, yielded a treasure trove of findings. Through a series of targeted inquiries, we unlocked detailed answers and shed light on previously veiled aspects of the data and findings as follows:***"
      ],
      "metadata": {
        "id": "s0XQS_OBk4qC"
      }
    },
    {
      "cell_type": "markdown",
      "source": [
        "## ***Q1: What is the average rating for each product category?***\n",
        "### ***Answer 1:***\n",
        "#### ***The output shows that most product `categories` have generally positive customer feedback, with `average ratings above 3.50`. However, some categories (e.g., 2 and 3) have lower ratings, suggesting potential areas for improvement. Further analysis of these categories could help identify specific reasons for lower feedback and identify potential solutions.***\n",
        "\n",
        "## ***Q2: What are the top rating_count products by category?***\n",
        "### ***Answer 2:***\n",
        "#### - ***The output highlights products likely to be popular within their categories based on high `review counts`, suggesting customer interest and engagement.***\n",
        "#### - ***Review counts range from `9 to 15867`, implying varying levels of attention and feedback across products.***\n",
        "#### - ***Most listed products have `ratings above 3.5`, indicating a generally positive customer experience.***\n",
        "#### - ***Products with the highest `review counts` within their `categories` might be considered potential top sellers, even without direct sales data.***\n",
        "  \n",
        "## ***Q3: What is the distribution of discounted prices vs. actual prices?***\n",
        "### ***Answer 3:***\n",
        "#### - ***The output shows that `discounted prices` are generally lower than `actual prices`, with a `median discounted price of $200` and a `median actual price of $400`.***\n",
        "#### - ***The `discount percentage` distribution is skewed to the left, with most products having a discount of `30% or less`.***\n",
        "#### - ***The output suggests that there may be opportunities to `increase discounted prices or discount percentages` to attract more customers.***\n",
        "  \n",
        "## ***Q4: How does the average discount percentage vary across categories?***\n",
        "### ***Answer 4:***\n",
        "#### - ***`Average discount percentages` vary widely across categories, ranging from `0% to 78.39%`.***\n",
        "#### - ***Categories 1 and 3 stand out with notably higher `average discounts (78.39% and 56.34%)`, suggesting potential factors like clearance efforts, high competition, or lower-profit margins.***\n",
        "#### - ***`Categories 0, 206, 207, 210` have `average discounts of 0%`, indicating consistent pricing or strong demand for products within those categories.***\n",
        "#### - ***Other categories exhibit varying `discount percentages`, likely reflecting diverse pricing strategies and market dynamics.***\n",
        "  \n",
        "## ***Q5: What are the most popular product name?***\n",
        "### ***Answer 5:***\n",
        "#### - ***Fire-Boltt Ninja Call Pro Plus Smart Watch is the most popular product, followed by Fire-Boltt Phoenix Smart Watch.***\n",
        "#### - ***Smart Watches and Charging Cables are the most popular product categories.***\n",
        "#### - ***Multiple brands are represented, with boAt appearing twice.***\n",
        "#### - ***Fast charging, durability, and functionality are key features.***\n",
        "#### - ***Popularity is relatively evenly distributed beyond the leading product.***\n",
        "  \n",
        "## ***Q6: What are the most popular product keywords?***\n",
        "### ***Answer 6:***\n",
        "#### - ***`USB` connectivity, `charging (especially fast charging)`, and `cables` are prominent product features.***\n",
        "#### - ***`Prepositions and conjunctions` like `\"with\", \"for\", \"and\", \"to\"` suggest a focus on explaining product compatibility and usage scenarios.***\n",
        "#### - ***`Cables and smart devices` are likely well-represented in the dataset.***\n",
        "#### - ***`Product names` tend to be concise and use `common words`, potentially benefiting from refined keyword extraction techniques.***\n",
        "  \n",
        "## ***Q8: What is the correlation between discounted_price and rating?***\n",
        "### ***Answer 8:***\n",
        "#### ***`Discounted price` and `rating` have a `weak positive correlation`. This means that products with higher discounted prices tend to have slightly higher ratings, but the relationship is not very strong.***\n",
        "\n",
        "## ***Q9: What are the Top 5 categories based with highest ratings?***\n",
        "### ***Answer 9:***\n",
        "#### - ***The `top 5 categories` have `average ratings` between `4.50 and 4.60`, indicating overall positive customer satisfaction within these areas.***\n",
        "#### - ***Most of the top-rated categories fall within technology-related domains, including `tablets, networking devices, photography accessories, media streaming devices, and calculators`.***\n",
        "#### - ***Within broader categories like `\"Computers & Accessories\" and \"Electronics,\"` specific subcategories emerge as particularly well-rated, such as `tablets, powerline adapters, film accessories, and streaming clients`.***\n",
        "#### - ***`Four categories` share a `rating of 4.50`, suggesting similar levels of customer satisfaction across these areas.***\n",
        "#### - ***The `presence of \"Basic Calculators\"` in the top 5 suggests that even relatively simple products can `achieve high ratings` if they meet customer needs effectively.***"
      ],
      "metadata": {
        "id": "mmXj9rLuk4qC"
      }
    },
    {
      "cell_type": "markdown",
      "source": [
        "---"
      ],
      "metadata": {
        "id": "sZgDfmYTk4qD"
      }
    },
    {
      "cell_type": "markdown",
      "source": [
        "# <p style=\"font-family:newtimeroman;font-size:150%;text-align:center;color:#06445e;\"> Conclusion</p>\n",
        "### ***The primary goal of this project is to analyze the Amazon Sales dataset and identify insights based on the data. The Amazon Sales dataset is a valuable resource for businesses and researchers alike. It provides a wealth of information about customer behavior, product trends, and market conditions. By conducting exploratory data analysis (EDA) on this dataset, businesses can gain valuable insights that can help them make better decisions about their products, marketing, and operations.***"
      ],
      "metadata": {
        "id": "sxDG7ndBk4qE"
      }
    }
  ]
}