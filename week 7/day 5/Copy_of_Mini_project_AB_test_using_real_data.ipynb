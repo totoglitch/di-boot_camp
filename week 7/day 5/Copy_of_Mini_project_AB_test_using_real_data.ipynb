{
  "metadata": {
    "kernelspec": {
      "language": "python",
      "display_name": "Python 3",
      "name": "python3"
    },
    "language_info": {
      "pygments_lexer": "ipython3",
      "nbconvert_exporter": "python",
      "version": "3.6.4",
      "file_extension": ".py",
      "codemirror_mode": {
        "name": "ipython",
        "version": 3
      },
      "name": "python",
      "mimetype": "text/x-python"
    },
    "kaggle": {
      "accelerator": "none",
      "dataSources": [
        {
          "sourceId": 1643659,
          "sourceType": "datasetVersion",
          "datasetId": 971923
        }
      ],
      "dockerImageVersionId": 30028,
      "isInternetEnabled": false,
      "language": "python",
      "sourceType": "notebook",
      "isGpuEnabled": false
    },
    "colab": {
      "provenance": []
    }
  },
  "nbformat_minor": 0,
  "nbformat": 4,
  "cells": [
    {
      "cell_type": "markdown",
      "source": [
        "# Data Science Analyze and Present A/B Test Results\n",
        "\n",
        "X company recently introduced a new bidding type, “average bidding”, as an alternative to its exisiting bidding\n",
        "type, called “maximum bidding”. One of our clients, X.com, has decided to test this new feature\n",
        "and wants to conduct an A/B test to understand if average bidding brings more conversions than maximum\n",
        "bidding.\n",
        "\n",
        "In this A/B test, X.com randomly splits its audience into two equally sized groups, e.g. the test\n",
        "and the control group. A X company ad campaign with “maximum bidding” is served to “control group” and\n",
        "another campaign with “average bidding” is served to the “test group”.\n",
        "\n",
        "The A/B test has run for 1 month and X.com now expects you to analyze and present the results\n",
        "of this A/B test.\n",
        "\n",
        "\n",
        "\n",
        "##### You should answer the following questions in this notebook\n",
        "\n",
        "1. How would you define the hypothesis of this A/B test?\n",
        "2. Can we conclude statistically significant results?\n",
        "3. Which statistical test did you use, and why?\n",
        "4. Based on your answer to Question 2, what would be your recommendation to client?\n",
        "\n",
        "\n",
        "##### Hints:\n",
        "\n",
        "1. The customer journey for this campaign is:\n",
        "    1. User sees an ad (Impression)\n",
        "    2. User clicks on the website link on the ad (Website Click)\n",
        "    3. User makes a search on the website (Search)\n",
        "    4. User views details of a product (View Content)\n",
        "    5. User adds the product to the cart (Add to Cart)\n",
        "    6. User purchases the product (Purchase)\n",
        "2. Use visualizations to compare test and control group metrics, such as Website Click Through Rate, Cost per Action, and Conversion Rates in addition to Purchase numbers.\n",
        "3. If you see trends, anomalies or other patterns, discuss these in your notebool.\n",
        "4. You can make assumptions if needed.\n"
      ],
      "metadata": {
        "id": "nbo-72ZODKz2"
      }
    },
    {
      "cell_type": "markdown",
      "source": [
        "## 1. Import libraries"
      ],
      "metadata": {
        "id": "1nq1PmtlDKz5"
      }
    },
    {
      "cell_type": "code",
      "source": [
        "import pandas as pd\n",
        "import numpy as np\n",
        "import seaborn as sns\n",
        "import matplotlib.pyplot as plt\n",
        "from scipy import stats\n",
        "from scipy.stats import skewtest\n",
        "from scipy.stats import median_test\n",
        "from scipy.stats import shapiro\n",
        "import pylab\n",
        "from sklearn.neighbors import LocalOutlierFactor\n",
        "from scipy.stats import levene\n",
        "from statsmodels.stats.proportion import proportions_ztest\n",
        "from sklearn.impute import KNNImputer\n",
        "\n",
        "pd.set_option(\"display.max_columns\",None);\n",
        "pd.set_option(\"display.max_rows\",None);"
      ],
      "metadata": {
        "trusted": true,
        "id": "ZsKzhELSDKz5"
      },
      "execution_count": 51,
      "outputs": []
    },
    {
      "cell_type": "markdown",
      "source": [
        "## 2. Functions"
      ],
      "metadata": {
        "id": "AMaVKs7CDKz6"
      }
    },
    {
      "cell_type": "code",
      "source": [
        "def read_data() :\n",
        "    \"\"\"\n",
        "      Reads and loads control and test group data from an Excel file.\n",
        "    - **Control group** (Maximum Bidding): Existing campaign data.\n",
        "    - **Test group** (Average Bidding): Data from the new bidding strategy.\n",
        "    The function removes rows with NaN values that originated from notes in the Excel file for the control group.\n",
        "    \"\"\"\n",
        "    #Maximum Bidding(Existing)\n",
        "    control = pd.read_excel(\"../input/ab-test-dataset/AB_Case_Study.xlsx\", sheet_name=\"Control Group\")\n",
        "    #Average Bidding(New)\n",
        "    test = pd.read_excel(\"../input/ab-test-dataset/AB_Case_Study.xlsx\", sheet_name=\"Test Group\")\n",
        "\n",
        "    #In the control dataframe, the rows containing NaN values from the 'note' column (imported from Excel) were removed\n",
        "    control.drop(control.index[[30,31]], inplace = True)\n",
        "\n",
        "    return control, test\n",
        "\n",
        "def get_catvar(df) :\n",
        "    \"\"\"\n",
        "    Identifies and extracts categorical variables from a DataFrame.\n",
        "    - Returns the original DataFrame, a DataFrame of only categorical variables, and the names of the categorical columns.\n",
        "    \"\"\"\n",
        "    cat_col = [col for col in df.columns if ( (df[col].dtype == 'object') | (df[col].dtype == 'bool'))]\n",
        "    kat_df = pd.DataFrame(df[cat_col], index = df[cat_col].index)\n",
        "    return df, kat_df, cat_col\n",
        "\n",
        "def get_numvar(cat_col,df):\n",
        "    \"\"\"\n",
        "    Identifies and extracts numerical variables from a DataFrame, excluding those specified as categorical.\n",
        "    - Returns the original DataFrame, a DataFrame of only numerical variables, and the names of the numerical columns.\n",
        "    \"\"\"\n",
        "    num_col = [c for c in df.columns if c not in cat_col]\n",
        "    num_df = pd.DataFrame(df[num_col], index = df[num_col].index)\n",
        "    return df, num_df, num_col\n",
        "\n",
        "def fill_NaNValue(num_control) :\n",
        "    \"\"\"\n",
        "    Implements K-Nearest Neighbors Imputation to fill in missing values in numerical columns of the control group.\n",
        "    - Returns a DataFrame with missing values filled.\n",
        "    \"\"\"\n",
        "    cols = num_control.columns\n",
        "    imputer = KNNImputer(n_neighbors=8)\n",
        "    num_control = imputer.fit_transform(num_control)\n",
        "    num_control=pd.DataFrame(num_control,columns=cols)\n",
        "    return num_control\n",
        "\n",
        "def convert_datatype(control):\n",
        "    \"\"\"\n",
        "      Converts specified columns in the control group DataFrame to integer data types.\n",
        "    - This is important for ensuring data consistency and correctness in calculations.\n",
        "    \"\"\"\n",
        "    control = control.astype({'# of Impressions' : 'int64',\n",
        "                        'Reach': 'int64',\n",
        "                        '# of Website Clicks' : 'int64',\n",
        "                        '# of Searches': 'int64',\n",
        "                        '# of View Content': 'int64',\n",
        "                        '# of Add to Cart': 'int64',\n",
        "                        '# of Purchase' : 'int64'})\n",
        "    return control\n",
        "\n",
        "def outliers(control, test):\n",
        "    \"\"\"\n",
        "    Detects and handles outliers in the test group data using Local Outlier Factor (LOF).\n",
        "    - Prints scores of the detected outliers and modifies extreme outlier values based on a specified threshold.\n",
        "    \"\"\"\n",
        "    clf= LocalOutlierFactor(n_neighbors = 20, contamination = 0.1)\n",
        "    clf.fit_predict(test.iloc[:,2:])[0:10]\n",
        "\n",
        "    test_scores=clf.negative_outlier_factor_\n",
        "    print(\"Test Score: \" , np.sort(test_scores)[0:20])\n",
        "    sns.boxplot(test_scores);\n",
        "\n",
        "    threshold=np.sort(test_scores)[4]\n",
        "    print(\"Threshold score: \", threshold)\n",
        "\n",
        "    test.loc[test_scores < -1.50].index\n",
        "    test.loc[test_scores == threshold]\n",
        "\n",
        "    test.iloc[0,2:]=[2742.245945,79574,57168,3086,1263,1098,226,277]\n",
        "    sns.boxplot(x=\"variable\", y=\"value\", data=pd.melt(test.iloc[:,3:5]));\n",
        "    sns.boxplot(x=\"variable\", y=\"value\", data=pd.melt(test.iloc[:,5:6]));\n",
        "    sns.boxplot(x=\"variable\", y=\"value\", data=pd.melt(test.iloc[:,6:]));\n",
        "\n",
        "\n",
        "def feature_engineering(control, test):\n",
        "    \"\"\"\n",
        "    Creates new features for both control and test groups to aid in analysis:\n",
        "    - Website Click Through Rate: The percentage of clicks per number of impressions.\n",
        "    - Number of Action: Sum of various engagement metrics like impressions, clicks, etc.\n",
        "    - Cost per Action: The spend divided by the number of actions.\n",
        "    - Conversion Rate: The number of actions divided by the number of clicks, expressed as a percentage.\n",
        "    \"\"\"\n",
        "    control[\"Website Click Through Rate\"] = control[\"# of Website Clicks\"] / control[\"# of Impressions\"] * 100\n",
        "    test[\"Website Click Through Rate\"] = test[\"# of Website Clicks\"] / test[\"# of Impressions\"] * 100\n",
        "\n",
        "    control[\"Number of Action\"] = control[\"# of Impressions\"] + control[\"# of Website Clicks\"] + control[\"# of Searches\"] + control[\"# of View Content\"] + control[\"# of Add to Cart\"] + control[\"# of Purchase\"]\n",
        "    test[\"Number of Action\"] = test[\"# of Impressions\"] + test[\"# of Website Clicks\"] + test[\"# of Searches\"] + test[\"# of View Content\"] + test[\"# of Add to Cart\"] + test[\"# of Purchase\"]\n",
        "\n",
        "    control[\"Cost per Action\"] = control[\"Spend [USD]\"] / control[\"Number of Action\"]\n",
        "    test[\"Cost per Action\"] = test[\"Spend [USD]\"] / test[\"Number of Action\"]\n",
        "\n",
        "    control[\"Conversion Rate\"] = control[\"Number of Action\"] / control[\"# of Website Clicks\"] * 100\n",
        "    test[\"Conversion Rate\"] = test[\"Number of Action\"] / test[\"# of Website Clicks\"] * 100\n",
        "\n",
        "    return control, test\n",
        "\n",
        "def data_prepare_for_visualization(control,test):\n",
        "    \"\"\"\n",
        "    Prepares control and test group data for visualization by extracting specific metrics and labeling them for group comparison.\n",
        "    - Returns a consolidated DataFrame of both groups for visualization purposes.\n",
        "    \"\"\"\n",
        "    control_nop = pd.DataFrame(control[\"# of Purchase\"])\n",
        "    test_nop = pd.DataFrame(test[\"# of Purchase\"])\n",
        "\n",
        "    control_wctr= pd.DataFrame(control[\"Website Click Through Rate\"])\n",
        "    test_wctr= pd.DataFrame(test[\"Website Click Through Rate\"])\n",
        "\n",
        "    control_cpa= pd.DataFrame(control[\"Cost per Action\"])\n",
        "    test_cpa= pd.DataFrame(test[\"Cost per Action\"])\n",
        "\n",
        "    control_cr= pd.DataFrame(control[\"Conversion Rate\"])\n",
        "    test_cr= pd.DataFrame(test[\"Conversion Rate\"])\n",
        "\n",
        "    Group_A = pd.concat([control_nop, control_wctr, control_cpa, control_cr], axis = 1)\n",
        "    Group_A[\"Group\"] = \"A (MaximumBidding)\"\n",
        "\n",
        "    Group_B = pd.concat([test_nop, test_wctr, test_cpa, test_cr], axis = 1)\n",
        "    Group_B[\"Group\"] = \"B (AverageBidding)\"\n",
        "\n",
        "    #Tum veri\n",
        "    AB = pd.concat([Group_A, Group_B])\n",
        "    AB\n",
        "    return AB, control_nop, test_nop\n",
        "\n",
        "def data_prepare_for_hypothesis_testing(control_nop, test_nop):\n",
        "    \"\"\"\n",
        "    Prepares control and test group data for hypothesis testing by combining \"# of Purchase\" data into a single DataFrame.\n",
        "    - The resulting DataFrame is structured for direct comparison between groups.\n",
        "    \"\"\"\n",
        "    controlB = pd.concat([control_nop, test_nop], axis = 1)\n",
        "    controlB.columns = [\"A\",\"B\"]\n",
        "    return controlB\n",
        "\n",
        "def num_boxplot(fig, axarr, dimension, cols, hue):\n",
        "    \"\"\"\n",
        "    A helper function for plotting boxplots of numerical data, categorized by the experiment group.\n",
        "    - It iterates over specified dimensions and columns to generate boxplots for visual analysis.\n",
        "    \"\"\"\n",
        "    for i in dimension :\n",
        "        for j in dimension :\n",
        "            for c in cols :\n",
        "                sns.boxplot(y=c, x = hue, hue = hue, data = AB, ax=axarr[i][j])\n",
        "                cols.remove(c)\n",
        "                break\n",
        "\n",
        "def show_boxplot(nrows, ncols, boyut, cols, figsize):\n",
        "    \"\"\"\n",
        "    Generates boxplots for the specified columns and groups, utilizing `num_boxplot`.\n",
        "    - Allows specification of the number of rows and columns in the figure, and figure size.\n",
        "    \"\"\"\n",
        "    fig, axarr = plt.subplots(nrows, ncols, figsize=figsize)\n",
        "    num_boxplot(fig, axarr, boyut, cols, \"Group\")\n",
        "\n",
        "\n",
        "def checkReject(p_value, alpha = 0.05):\n",
        "    \"\"\"\n",
        "    Checks whether the p-value from hypothesis testing is significant enough to reject the null hypothesis, given an alpha level (default 0.05).\n",
        "    - Prints the outcome of the hypothesis test in the context of rejecting or not rejecting the null hypothesis.\n",
        "    \"\"\"\n",
        "    if p_value < alpha :\n",
        "        print(f'{p_value} < alpha(0.05) so >>> H0 REJECTED')\n",
        "\n",
        "    elif p_value > alpha :\n",
        "        print(f'{p_value} > alpha(0.05) so >>> H0 CAN\\'T BE REJECTED')"
      ],
      "metadata": {
        "trusted": true,
        "id": "bwPNKkN3DKz7"
      },
      "execution_count": 52,
      "outputs": []
    },
    {
      "cell_type": "markdown",
      "source": [
        "## 3. Data Preparation"
      ],
      "metadata": {
        "id": "eTVHnvKUDKz8"
      }
    },
    {
      "cell_type": "code",
      "source": [
        "# TODO : Import the dataset available here : https://www.kaggle.com/code/dillonmyrick/a-b-test-hypothesis-testing-for-e-commerce/input"
      ],
      "metadata": {
        "id": "gi6ROl-bpgDK"
      },
      "execution_count": 53,
      "outputs": []
    },
    {
      "cell_type": "code",
      "source": [
        "df1=pd.read_csv('control.csv')\n",
        "df=pd.read_csv(\"test.csv\")"
      ],
      "metadata": {
        "id": "N9P-bunIWcIZ"
      },
      "execution_count": 54,
      "outputs": []
    },
    {
      "cell_type": "code",
      "source": [
        "#TODO : print what is control"
      ],
      "metadata": {
        "trusted": true,
        "id": "A7ip7bmEDKz9"
      },
      "execution_count": 55,
      "outputs": []
    },
    {
      "cell_type": "code",
      "source": [
        "df1.head()"
      ],
      "metadata": {
        "colab": {
          "base_uri": "https://localhost:8080/",
          "height": 223
        },
        "collapsed": true,
        "id": "if1_JdkEYXsA",
        "outputId": "67371311-274d-4bcd-b80b-328ec64d1b83"
      },
      "execution_count": 56,
      "outputs": [
        {
          "output_type": "execute_result",
          "data": {
            "text/plain": [
              "  Campaign Name;Date;Spend [USD];# of Impressions;Reach;# of Website Clicks;# of Searches;# of View Content;# of Add to Cart;# of Purchase\n",
              "0  Control Campaign;1.08.2019;2280;82702;56930;70...                                                                                      \n",
              "1  Control Campaign;2.08.2019;1757;121040;102513;...                                                                                      \n",
              "2  Control Campaign;3.08.2019;2343;131711;110862;...                                                                                      \n",
              "3  Control Campaign;4.08.2019;1940;72878;61235;30...                                                                                      \n",
              "4             Control Campaign;5.08.2019;1835;;;;;;;                                                                                      "
            ],
            "text/html": [
              "\n",
              "  <div id=\"df-77817f6e-8532-4310-b402-96de9231b1a6\" class=\"colab-df-container\">\n",
              "    <div>\n",
              "<style scoped>\n",
              "    .dataframe tbody tr th:only-of-type {\n",
              "        vertical-align: middle;\n",
              "    }\n",
              "\n",
              "    .dataframe tbody tr th {\n",
              "        vertical-align: top;\n",
              "    }\n",
              "\n",
              "    .dataframe thead th {\n",
              "        text-align: right;\n",
              "    }\n",
              "</style>\n",
              "<table border=\"1\" class=\"dataframe\">\n",
              "  <thead>\n",
              "    <tr style=\"text-align: right;\">\n",
              "      <th></th>\n",
              "      <th>Campaign Name;Date;Spend [USD];# of Impressions;Reach;# of Website Clicks;# of Searches;# of View Content;# of Add to Cart;# of Purchase</th>\n",
              "    </tr>\n",
              "  </thead>\n",
              "  <tbody>\n",
              "    <tr>\n",
              "      <th>0</th>\n",
              "      <td>Control Campaign;1.08.2019;2280;82702;56930;70...</td>\n",
              "    </tr>\n",
              "    <tr>\n",
              "      <th>1</th>\n",
              "      <td>Control Campaign;2.08.2019;1757;121040;102513;...</td>\n",
              "    </tr>\n",
              "    <tr>\n",
              "      <th>2</th>\n",
              "      <td>Control Campaign;3.08.2019;2343;131711;110862;...</td>\n",
              "    </tr>\n",
              "    <tr>\n",
              "      <th>3</th>\n",
              "      <td>Control Campaign;4.08.2019;1940;72878;61235;30...</td>\n",
              "    </tr>\n",
              "    <tr>\n",
              "      <th>4</th>\n",
              "      <td>Control Campaign;5.08.2019;1835;;;;;;;</td>\n",
              "    </tr>\n",
              "  </tbody>\n",
              "</table>\n",
              "</div>\n",
              "    <div class=\"colab-df-buttons\">\n",
              "\n",
              "  <div class=\"colab-df-container\">\n",
              "    <button class=\"colab-df-convert\" onclick=\"convertToInteractive('df-77817f6e-8532-4310-b402-96de9231b1a6')\"\n",
              "            title=\"Convert this dataframe to an interactive table.\"\n",
              "            style=\"display:none;\">\n",
              "\n",
              "  <svg xmlns=\"http://www.w3.org/2000/svg\" height=\"24px\" viewBox=\"0 -960 960 960\">\n",
              "    <path d=\"M120-120v-720h720v720H120Zm60-500h600v-160H180v160Zm220 220h160v-160H400v160Zm0 220h160v-160H400v160ZM180-400h160v-160H180v160Zm440 0h160v-160H620v160ZM180-180h160v-160H180v160Zm440 0h160v-160H620v160Z\"/>\n",
              "  </svg>\n",
              "    </button>\n",
              "\n",
              "  <style>\n",
              "    .colab-df-container {\n",
              "      display:flex;\n",
              "      gap: 12px;\n",
              "    }\n",
              "\n",
              "    .colab-df-convert {\n",
              "      background-color: #E8F0FE;\n",
              "      border: none;\n",
              "      border-radius: 50%;\n",
              "      cursor: pointer;\n",
              "      display: none;\n",
              "      fill: #1967D2;\n",
              "      height: 32px;\n",
              "      padding: 0 0 0 0;\n",
              "      width: 32px;\n",
              "    }\n",
              "\n",
              "    .colab-df-convert:hover {\n",
              "      background-color: #E2EBFA;\n",
              "      box-shadow: 0px 1px 2px rgba(60, 64, 67, 0.3), 0px 1px 3px 1px rgba(60, 64, 67, 0.15);\n",
              "      fill: #174EA6;\n",
              "    }\n",
              "\n",
              "    .colab-df-buttons div {\n",
              "      margin-bottom: 4px;\n",
              "    }\n",
              "\n",
              "    [theme=dark] .colab-df-convert {\n",
              "      background-color: #3B4455;\n",
              "      fill: #D2E3FC;\n",
              "    }\n",
              "\n",
              "    [theme=dark] .colab-df-convert:hover {\n",
              "      background-color: #434B5C;\n",
              "      box-shadow: 0px 1px 3px 1px rgba(0, 0, 0, 0.15);\n",
              "      filter: drop-shadow(0px 1px 2px rgba(0, 0, 0, 0.3));\n",
              "      fill: #FFFFFF;\n",
              "    }\n",
              "  </style>\n",
              "\n",
              "    <script>\n",
              "      const buttonEl =\n",
              "        document.querySelector('#df-77817f6e-8532-4310-b402-96de9231b1a6 button.colab-df-convert');\n",
              "      buttonEl.style.display =\n",
              "        google.colab.kernel.accessAllowed ? 'block' : 'none';\n",
              "\n",
              "      async function convertToInteractive(key) {\n",
              "        const element = document.querySelector('#df-77817f6e-8532-4310-b402-96de9231b1a6');\n",
              "        const dataTable =\n",
              "          await google.colab.kernel.invokeFunction('convertToInteractive',\n",
              "                                                    [key], {});\n",
              "        if (!dataTable) return;\n",
              "\n",
              "        const docLinkHtml = 'Like what you see? Visit the ' +\n",
              "          '<a target=\"_blank\" href=https://colab.research.google.com/notebooks/data_table.ipynb>data table notebook</a>'\n",
              "          + ' to learn more about interactive tables.';\n",
              "        element.innerHTML = '';\n",
              "        dataTable['output_type'] = 'display_data';\n",
              "        await google.colab.output.renderOutput(dataTable, element);\n",
              "        const docLink = document.createElement('div');\n",
              "        docLink.innerHTML = docLinkHtml;\n",
              "        element.appendChild(docLink);\n",
              "      }\n",
              "    </script>\n",
              "  </div>\n",
              "\n",
              "\n",
              "    <div id=\"df-bfa08e42-348c-4304-8d87-a8ccbb16c396\">\n",
              "      <button class=\"colab-df-quickchart\" onclick=\"quickchart('df-bfa08e42-348c-4304-8d87-a8ccbb16c396')\"\n",
              "                title=\"Suggest charts\"\n",
              "                style=\"display:none;\">\n",
              "\n",
              "<svg xmlns=\"http://www.w3.org/2000/svg\" height=\"24px\"viewBox=\"0 0 24 24\"\n",
              "     width=\"24px\">\n",
              "    <g>\n",
              "        <path d=\"M19 3H5c-1.1 0-2 .9-2 2v14c0 1.1.9 2 2 2h14c1.1 0 2-.9 2-2V5c0-1.1-.9-2-2-2zM9 17H7v-7h2v7zm4 0h-2V7h2v10zm4 0h-2v-4h2v4z\"/>\n",
              "    </g>\n",
              "</svg>\n",
              "      </button>\n",
              "\n",
              "<style>\n",
              "  .colab-df-quickchart {\n",
              "      --bg-color: #E8F0FE;\n",
              "      --fill-color: #1967D2;\n",
              "      --hover-bg-color: #E2EBFA;\n",
              "      --hover-fill-color: #174EA6;\n",
              "      --disabled-fill-color: #AAA;\n",
              "      --disabled-bg-color: #DDD;\n",
              "  }\n",
              "\n",
              "  [theme=dark] .colab-df-quickchart {\n",
              "      --bg-color: #3B4455;\n",
              "      --fill-color: #D2E3FC;\n",
              "      --hover-bg-color: #434B5C;\n",
              "      --hover-fill-color: #FFFFFF;\n",
              "      --disabled-bg-color: #3B4455;\n",
              "      --disabled-fill-color: #666;\n",
              "  }\n",
              "\n",
              "  .colab-df-quickchart {\n",
              "    background-color: var(--bg-color);\n",
              "    border: none;\n",
              "    border-radius: 50%;\n",
              "    cursor: pointer;\n",
              "    display: none;\n",
              "    fill: var(--fill-color);\n",
              "    height: 32px;\n",
              "    padding: 0;\n",
              "    width: 32px;\n",
              "  }\n",
              "\n",
              "  .colab-df-quickchart:hover {\n",
              "    background-color: var(--hover-bg-color);\n",
              "    box-shadow: 0 1px 2px rgba(60, 64, 67, 0.3), 0 1px 3px 1px rgba(60, 64, 67, 0.15);\n",
              "    fill: var(--button-hover-fill-color);\n",
              "  }\n",
              "\n",
              "  .colab-df-quickchart-complete:disabled,\n",
              "  .colab-df-quickchart-complete:disabled:hover {\n",
              "    background-color: var(--disabled-bg-color);\n",
              "    fill: var(--disabled-fill-color);\n",
              "    box-shadow: none;\n",
              "  }\n",
              "\n",
              "  .colab-df-spinner {\n",
              "    border: 2px solid var(--fill-color);\n",
              "    border-color: transparent;\n",
              "    border-bottom-color: var(--fill-color);\n",
              "    animation:\n",
              "      spin 1s steps(1) infinite;\n",
              "  }\n",
              "\n",
              "  @keyframes spin {\n",
              "    0% {\n",
              "      border-color: transparent;\n",
              "      border-bottom-color: var(--fill-color);\n",
              "      border-left-color: var(--fill-color);\n",
              "    }\n",
              "    20% {\n",
              "      border-color: transparent;\n",
              "      border-left-color: var(--fill-color);\n",
              "      border-top-color: var(--fill-color);\n",
              "    }\n",
              "    30% {\n",
              "      border-color: transparent;\n",
              "      border-left-color: var(--fill-color);\n",
              "      border-top-color: var(--fill-color);\n",
              "      border-right-color: var(--fill-color);\n",
              "    }\n",
              "    40% {\n",
              "      border-color: transparent;\n",
              "      border-right-color: var(--fill-color);\n",
              "      border-top-color: var(--fill-color);\n",
              "    }\n",
              "    60% {\n",
              "      border-color: transparent;\n",
              "      border-right-color: var(--fill-color);\n",
              "    }\n",
              "    80% {\n",
              "      border-color: transparent;\n",
              "      border-right-color: var(--fill-color);\n",
              "      border-bottom-color: var(--fill-color);\n",
              "    }\n",
              "    90% {\n",
              "      border-color: transparent;\n",
              "      border-bottom-color: var(--fill-color);\n",
              "    }\n",
              "  }\n",
              "</style>\n",
              "\n",
              "      <script>\n",
              "        async function quickchart(key) {\n",
              "          const quickchartButtonEl =\n",
              "            document.querySelector('#' + key + ' button');\n",
              "          quickchartButtonEl.disabled = true;  // To prevent multiple clicks.\n",
              "          quickchartButtonEl.classList.add('colab-df-spinner');\n",
              "          try {\n",
              "            const charts = await google.colab.kernel.invokeFunction(\n",
              "                'suggestCharts', [key], {});\n",
              "          } catch (error) {\n",
              "            console.error('Error during call to suggestCharts:', error);\n",
              "          }\n",
              "          quickchartButtonEl.classList.remove('colab-df-spinner');\n",
              "          quickchartButtonEl.classList.add('colab-df-quickchart-complete');\n",
              "        }\n",
              "        (() => {\n",
              "          let quickchartButtonEl =\n",
              "            document.querySelector('#df-bfa08e42-348c-4304-8d87-a8ccbb16c396 button');\n",
              "          quickchartButtonEl.style.display =\n",
              "            google.colab.kernel.accessAllowed ? 'block' : 'none';\n",
              "        })();\n",
              "      </script>\n",
              "    </div>\n",
              "\n",
              "    </div>\n",
              "  </div>\n"
            ],
            "application/vnd.google.colaboratory.intrinsic+json": {
              "type": "dataframe",
              "variable_name": "df1",
              "summary": "{\n  \"name\": \"df1\",\n  \"rows\": 30,\n  \"fields\": [\n    {\n      \"column\": \"Campaign Name;Date;Spend [USD];# of Impressions;Reach;# of Website Clicks;# of Searches;# of View Content;# of Add to Cart;# of Purchase\",\n      \"properties\": {\n        \"dtype\": \"string\",\n        \"num_unique_values\": 30,\n        \"samples\": [\n          \"Control Campaign;28.08.2019;2421;141654;125874;6287;1672;1589;1711;643\",\n          \"Control Campaign;16.08.2019;2024;71274;42859;5224;2427;2158;1613;438\",\n          \"Control Campaign;24.08.2019;1892;72515;51987;4085;1274;1149;1146;585\"\n        ],\n        \"semantic_type\": \"\",\n        \"description\": \"\"\n      }\n    }\n  ]\n}"
            }
          },
          "metadata": {},
          "execution_count": 56
        }
      ]
    },
    {
      "cell_type": "code",
      "source": [
        "#TODO : print what is test"
      ],
      "metadata": {
        "trusted": true,
        "id": "i5g2eQGeDKz9"
      },
      "execution_count": 57,
      "outputs": []
    },
    {
      "cell_type": "code",
      "source": [
        "df.head()"
      ],
      "metadata": {
        "collapsed": true,
        "colab": {
          "base_uri": "https://localhost:8080/",
          "height": 223
        },
        "id": "HGOn0DmeY6kd",
        "outputId": "4e524fb4-aa08-4599-e89c-c996b61f2c42"
      },
      "execution_count": 58,
      "outputs": [
        {
          "output_type": "execute_result",
          "data": {
            "text/plain": [
              "  Campaign Name;Date;Spend [USD];# of Impressions;Reach;# of Website Clicks;# of Searches;# of View Content;# of Add to Cart;# of Purchase\n",
              "0  Test Campaign;1.08.2019;3008;39550;35820;3038;...                                                                                      \n",
              "1  Test Campaign;2.08.2019;2542;100719;91236;4657...                                                                                      \n",
              "2  Test Campaign;3.08.2019;2365;70263;45198;7885;...                                                                                      \n",
              "3  Test Campaign;4.08.2019;2710;78451;25937;4216;...                                                                                      \n",
              "4  Test Campaign;5.08.2019;2297;114295;95138;5863...                                                                                      "
            ],
            "text/html": [
              "\n",
              "  <div id=\"df-a35bcfd1-d751-4f23-9860-8af4fdb76825\" class=\"colab-df-container\">\n",
              "    <div>\n",
              "<style scoped>\n",
              "    .dataframe tbody tr th:only-of-type {\n",
              "        vertical-align: middle;\n",
              "    }\n",
              "\n",
              "    .dataframe tbody tr th {\n",
              "        vertical-align: top;\n",
              "    }\n",
              "\n",
              "    .dataframe thead th {\n",
              "        text-align: right;\n",
              "    }\n",
              "</style>\n",
              "<table border=\"1\" class=\"dataframe\">\n",
              "  <thead>\n",
              "    <tr style=\"text-align: right;\">\n",
              "      <th></th>\n",
              "      <th>Campaign Name;Date;Spend [USD];# of Impressions;Reach;# of Website Clicks;# of Searches;# of View Content;# of Add to Cart;# of Purchase</th>\n",
              "    </tr>\n",
              "  </thead>\n",
              "  <tbody>\n",
              "    <tr>\n",
              "      <th>0</th>\n",
              "      <td>Test Campaign;1.08.2019;3008;39550;35820;3038;...</td>\n",
              "    </tr>\n",
              "    <tr>\n",
              "      <th>1</th>\n",
              "      <td>Test Campaign;2.08.2019;2542;100719;91236;4657...</td>\n",
              "    </tr>\n",
              "    <tr>\n",
              "      <th>2</th>\n",
              "      <td>Test Campaign;3.08.2019;2365;70263;45198;7885;...</td>\n",
              "    </tr>\n",
              "    <tr>\n",
              "      <th>3</th>\n",
              "      <td>Test Campaign;4.08.2019;2710;78451;25937;4216;...</td>\n",
              "    </tr>\n",
              "    <tr>\n",
              "      <th>4</th>\n",
              "      <td>Test Campaign;5.08.2019;2297;114295;95138;5863...</td>\n",
              "    </tr>\n",
              "  </tbody>\n",
              "</table>\n",
              "</div>\n",
              "    <div class=\"colab-df-buttons\">\n",
              "\n",
              "  <div class=\"colab-df-container\">\n",
              "    <button class=\"colab-df-convert\" onclick=\"convertToInteractive('df-a35bcfd1-d751-4f23-9860-8af4fdb76825')\"\n",
              "            title=\"Convert this dataframe to an interactive table.\"\n",
              "            style=\"display:none;\">\n",
              "\n",
              "  <svg xmlns=\"http://www.w3.org/2000/svg\" height=\"24px\" viewBox=\"0 -960 960 960\">\n",
              "    <path d=\"M120-120v-720h720v720H120Zm60-500h600v-160H180v160Zm220 220h160v-160H400v160Zm0 220h160v-160H400v160ZM180-400h160v-160H180v160Zm440 0h160v-160H620v160ZM180-180h160v-160H180v160Zm440 0h160v-160H620v160Z\"/>\n",
              "  </svg>\n",
              "    </button>\n",
              "\n",
              "  <style>\n",
              "    .colab-df-container {\n",
              "      display:flex;\n",
              "      gap: 12px;\n",
              "    }\n",
              "\n",
              "    .colab-df-convert {\n",
              "      background-color: #E8F0FE;\n",
              "      border: none;\n",
              "      border-radius: 50%;\n",
              "      cursor: pointer;\n",
              "      display: none;\n",
              "      fill: #1967D2;\n",
              "      height: 32px;\n",
              "      padding: 0 0 0 0;\n",
              "      width: 32px;\n",
              "    }\n",
              "\n",
              "    .colab-df-convert:hover {\n",
              "      background-color: #E2EBFA;\n",
              "      box-shadow: 0px 1px 2px rgba(60, 64, 67, 0.3), 0px 1px 3px 1px rgba(60, 64, 67, 0.15);\n",
              "      fill: #174EA6;\n",
              "    }\n",
              "\n",
              "    .colab-df-buttons div {\n",
              "      margin-bottom: 4px;\n",
              "    }\n",
              "\n",
              "    [theme=dark] .colab-df-convert {\n",
              "      background-color: #3B4455;\n",
              "      fill: #D2E3FC;\n",
              "    }\n",
              "\n",
              "    [theme=dark] .colab-df-convert:hover {\n",
              "      background-color: #434B5C;\n",
              "      box-shadow: 0px 1px 3px 1px rgba(0, 0, 0, 0.15);\n",
              "      filter: drop-shadow(0px 1px 2px rgba(0, 0, 0, 0.3));\n",
              "      fill: #FFFFFF;\n",
              "    }\n",
              "  </style>\n",
              "\n",
              "    <script>\n",
              "      const buttonEl =\n",
              "        document.querySelector('#df-a35bcfd1-d751-4f23-9860-8af4fdb76825 button.colab-df-convert');\n",
              "      buttonEl.style.display =\n",
              "        google.colab.kernel.accessAllowed ? 'block' : 'none';\n",
              "\n",
              "      async function convertToInteractive(key) {\n",
              "        const element = document.querySelector('#df-a35bcfd1-d751-4f23-9860-8af4fdb76825');\n",
              "        const dataTable =\n",
              "          await google.colab.kernel.invokeFunction('convertToInteractive',\n",
              "                                                    [key], {});\n",
              "        if (!dataTable) return;\n",
              "\n",
              "        const docLinkHtml = 'Like what you see? Visit the ' +\n",
              "          '<a target=\"_blank\" href=https://colab.research.google.com/notebooks/data_table.ipynb>data table notebook</a>'\n",
              "          + ' to learn more about interactive tables.';\n",
              "        element.innerHTML = '';\n",
              "        dataTable['output_type'] = 'display_data';\n",
              "        await google.colab.output.renderOutput(dataTable, element);\n",
              "        const docLink = document.createElement('div');\n",
              "        docLink.innerHTML = docLinkHtml;\n",
              "        element.appendChild(docLink);\n",
              "      }\n",
              "    </script>\n",
              "  </div>\n",
              "\n",
              "\n",
              "    <div id=\"df-edefe941-02f2-4504-b8c2-37d719b1cc2c\">\n",
              "      <button class=\"colab-df-quickchart\" onclick=\"quickchart('df-edefe941-02f2-4504-b8c2-37d719b1cc2c')\"\n",
              "                title=\"Suggest charts\"\n",
              "                style=\"display:none;\">\n",
              "\n",
              "<svg xmlns=\"http://www.w3.org/2000/svg\" height=\"24px\"viewBox=\"0 0 24 24\"\n",
              "     width=\"24px\">\n",
              "    <g>\n",
              "        <path d=\"M19 3H5c-1.1 0-2 .9-2 2v14c0 1.1.9 2 2 2h14c1.1 0 2-.9 2-2V5c0-1.1-.9-2-2-2zM9 17H7v-7h2v7zm4 0h-2V7h2v10zm4 0h-2v-4h2v4z\"/>\n",
              "    </g>\n",
              "</svg>\n",
              "      </button>\n",
              "\n",
              "<style>\n",
              "  .colab-df-quickchart {\n",
              "      --bg-color: #E8F0FE;\n",
              "      --fill-color: #1967D2;\n",
              "      --hover-bg-color: #E2EBFA;\n",
              "      --hover-fill-color: #174EA6;\n",
              "      --disabled-fill-color: #AAA;\n",
              "      --disabled-bg-color: #DDD;\n",
              "  }\n",
              "\n",
              "  [theme=dark] .colab-df-quickchart {\n",
              "      --bg-color: #3B4455;\n",
              "      --fill-color: #D2E3FC;\n",
              "      --hover-bg-color: #434B5C;\n",
              "      --hover-fill-color: #FFFFFF;\n",
              "      --disabled-bg-color: #3B4455;\n",
              "      --disabled-fill-color: #666;\n",
              "  }\n",
              "\n",
              "  .colab-df-quickchart {\n",
              "    background-color: var(--bg-color);\n",
              "    border: none;\n",
              "    border-radius: 50%;\n",
              "    cursor: pointer;\n",
              "    display: none;\n",
              "    fill: var(--fill-color);\n",
              "    height: 32px;\n",
              "    padding: 0;\n",
              "    width: 32px;\n",
              "  }\n",
              "\n",
              "  .colab-df-quickchart:hover {\n",
              "    background-color: var(--hover-bg-color);\n",
              "    box-shadow: 0 1px 2px rgba(60, 64, 67, 0.3), 0 1px 3px 1px rgba(60, 64, 67, 0.15);\n",
              "    fill: var(--button-hover-fill-color);\n",
              "  }\n",
              "\n",
              "  .colab-df-quickchart-complete:disabled,\n",
              "  .colab-df-quickchart-complete:disabled:hover {\n",
              "    background-color: var(--disabled-bg-color);\n",
              "    fill: var(--disabled-fill-color);\n",
              "    box-shadow: none;\n",
              "  }\n",
              "\n",
              "  .colab-df-spinner {\n",
              "    border: 2px solid var(--fill-color);\n",
              "    border-color: transparent;\n",
              "    border-bottom-color: var(--fill-color);\n",
              "    animation:\n",
              "      spin 1s steps(1) infinite;\n",
              "  }\n",
              "\n",
              "  @keyframes spin {\n",
              "    0% {\n",
              "      border-color: transparent;\n",
              "      border-bottom-color: var(--fill-color);\n",
              "      border-left-color: var(--fill-color);\n",
              "    }\n",
              "    20% {\n",
              "      border-color: transparent;\n",
              "      border-left-color: var(--fill-color);\n",
              "      border-top-color: var(--fill-color);\n",
              "    }\n",
              "    30% {\n",
              "      border-color: transparent;\n",
              "      border-left-color: var(--fill-color);\n",
              "      border-top-color: var(--fill-color);\n",
              "      border-right-color: var(--fill-color);\n",
              "    }\n",
              "    40% {\n",
              "      border-color: transparent;\n",
              "      border-right-color: var(--fill-color);\n",
              "      border-top-color: var(--fill-color);\n",
              "    }\n",
              "    60% {\n",
              "      border-color: transparent;\n",
              "      border-right-color: var(--fill-color);\n",
              "    }\n",
              "    80% {\n",
              "      border-color: transparent;\n",
              "      border-right-color: var(--fill-color);\n",
              "      border-bottom-color: var(--fill-color);\n",
              "    }\n",
              "    90% {\n",
              "      border-color: transparent;\n",
              "      border-bottom-color: var(--fill-color);\n",
              "    }\n",
              "  }\n",
              "</style>\n",
              "\n",
              "      <script>\n",
              "        async function quickchart(key) {\n",
              "          const quickchartButtonEl =\n",
              "            document.querySelector('#' + key + ' button');\n",
              "          quickchartButtonEl.disabled = true;  // To prevent multiple clicks.\n",
              "          quickchartButtonEl.classList.add('colab-df-spinner');\n",
              "          try {\n",
              "            const charts = await google.colab.kernel.invokeFunction(\n",
              "                'suggestCharts', [key], {});\n",
              "          } catch (error) {\n",
              "            console.error('Error during call to suggestCharts:', error);\n",
              "          }\n",
              "          quickchartButtonEl.classList.remove('colab-df-spinner');\n",
              "          quickchartButtonEl.classList.add('colab-df-quickchart-complete');\n",
              "        }\n",
              "        (() => {\n",
              "          let quickchartButtonEl =\n",
              "            document.querySelector('#df-edefe941-02f2-4504-b8c2-37d719b1cc2c button');\n",
              "          quickchartButtonEl.style.display =\n",
              "            google.colab.kernel.accessAllowed ? 'block' : 'none';\n",
              "        })();\n",
              "      </script>\n",
              "    </div>\n",
              "\n",
              "    </div>\n",
              "  </div>\n"
            ],
            "application/vnd.google.colaboratory.intrinsic+json": {
              "type": "dataframe",
              "variable_name": "df",
              "summary": "{\n  \"name\": \"df\",\n  \"rows\": 30,\n  \"fields\": [\n    {\n      \"column\": \"Campaign Name;Date;Spend [USD];# of Impressions;Reach;# of Website Clicks;# of Searches;# of View Content;# of Add to Cart;# of Purchase\",\n      \"properties\": {\n        \"dtype\": \"string\",\n        \"num_unique_values\": 30,\n        \"samples\": [\n          \"Test Campaign;28.08.2019;2247;54627;41267;8144;2432;1281;1009;721\",\n          \"Test Campaign;16.08.2019;3076;106584;81389;6800;2661;2594;1059;487\",\n          \"Test Campaign;24.08.2019;2078;36650;30489;7156;2687;2427;327;269\"\n        ],\n        \"semantic_type\": \"\",\n        \"description\": \"\"\n      }\n    }\n  ]\n}"
            }
          },
          "metadata": {},
          "execution_count": 58
        }
      ]
    },
    {
      "cell_type": "code",
      "source": [
        "#TODO : check for null values in control"
      ],
      "metadata": {
        "trusted": true,
        "id": "VSQKSys2DKz-"
      },
      "execution_count": 59,
      "outputs": []
    },
    {
      "cell_type": "code",
      "source": [
        "df1.isnull().sum()"
      ],
      "metadata": {
        "colab": {
          "base_uri": "https://localhost:8080/",
          "height": 115
        },
        "collapsed": true,
        "id": "yJmjyrN2ZCmi",
        "outputId": "e59e448d-d5c8-4470-fde9-34aef28cc6ab"
      },
      "execution_count": 60,
      "outputs": [
        {
          "output_type": "execute_result",
          "data": {
            "text/plain": [
              "Campaign Name;Date;Spend [USD];# of Impressions;Reach;# of Website Clicks;# of Searches;# of View Content;# of Add to Cart;# of Purchase    0\n",
              "dtype: int64"
            ],
            "text/html": [
              "<div>\n",
              "<style scoped>\n",
              "    .dataframe tbody tr th:only-of-type {\n",
              "        vertical-align: middle;\n",
              "    }\n",
              "\n",
              "    .dataframe tbody tr th {\n",
              "        vertical-align: top;\n",
              "    }\n",
              "\n",
              "    .dataframe thead th {\n",
              "        text-align: right;\n",
              "    }\n",
              "</style>\n",
              "<table border=\"1\" class=\"dataframe\">\n",
              "  <thead>\n",
              "    <tr style=\"text-align: right;\">\n",
              "      <th></th>\n",
              "      <th>0</th>\n",
              "    </tr>\n",
              "  </thead>\n",
              "  <tbody>\n",
              "    <tr>\n",
              "      <th>Campaign Name;Date;Spend [USD];# of Impressions;Reach;# of Website Clicks;# of Searches;# of View Content;# of Add to Cart;# of Purchase</th>\n",
              "      <td>0</td>\n",
              "    </tr>\n",
              "  </tbody>\n",
              "</table>\n",
              "</div><br><label><b>dtype:</b> int64</label>"
            ]
          },
          "metadata": {},
          "execution_count": 60
        }
      ]
    },
    {
      "cell_type": "code",
      "source": [
        "#TODO : segment the control DataFrame into two separate DataFrames based on data type: one for categorical variables (kat_control) and one for numerical variables (num_control).\n",
        "#TODO :produces lists of column names for both categories for further use or reference."
      ],
      "metadata": {
        "trusted": true,
        "id": "XUBSKm7dDKz_"
      },
      "execution_count": 61,
      "outputs": []
    },
    {
      "cell_type": "code",
      "source": [
        "control, kat_control, cat_col_control = get_catvar(df1)\n",
        "control, num_control, num_col_control = get_numvar(cat_col_control, df1)\n",
        "print(\"Numerical Control Data:\")\n",
        "print(num_control.head())\n",
        "\n",
        "print(\"\\nCategorical Control Data:\")\n",
        "print(kat_control.head())"
      ],
      "metadata": {
        "colab": {
          "base_uri": "https://localhost:8080/"
        },
        "collapsed": true,
        "id": "D1oml17tZOE4",
        "outputId": "9f31bf2b-a34d-4e32-ed4b-94b040dc658f"
      },
      "execution_count": 67,
      "outputs": [
        {
          "output_type": "stream",
          "name": "stdout",
          "text": [
            "Numerical Control Data:\n",
            "Empty DataFrame\n",
            "Columns: []\n",
            "Index: [0, 1, 2, 3, 4]\n",
            "\n",
            "Categorical Control Data:\n",
            "  Campaign Name;Date;Spend [USD];# of Impressions;Reach;# of Website Clicks;# of Searches;# of View Content;# of Add to Cart;# of Purchase\n",
            "0  Control Campaign;1.08.2019;2280;82702;56930;70...                                                                                      \n",
            "1  Control Campaign;2.08.2019;1757;121040;102513;...                                                                                      \n",
            "2  Control Campaign;3.08.2019;2343;131711;110862;...                                                                                      \n",
            "3  Control Campaign;4.08.2019;1940;72878;61235;30...                                                                                      \n",
            "4             Control Campaign;5.08.2019;1835;;;;;;;                                                                                      \n"
          ]
        }
      ]
    },
    {
      "cell_type": "code",
      "source": [
        "# TODO : Fill the control dataframe values NaN value with KNNImputer."
      ],
      "metadata": {
        "trusted": true,
        "id": "0JmqqTWJDKz_"
      },
      "execution_count": 63,
      "outputs": []
    },
    {
      "cell_type": "code",
      "source": [
        "num_control = fill_NaNValue(num_control)\n",
        "print(num_control.head())"
      ],
      "metadata": {
        "colab": {
          "base_uri": "https://localhost:8080/",
          "height": 351
        },
        "collapsed": true,
        "id": "0xTd5LhxZ680",
        "outputId": "887c8260-c044-473d-8c53-1f457a7df8d8"
      },
      "execution_count": 64,
      "outputs": [
        {
          "output_type": "error",
          "ename": "ValueError",
          "evalue": "at least one array or dtype is required",
          "traceback": [
            "\u001b[0;31m---------------------------------------------------------------------------\u001b[0m",
            "\u001b[0;31mValueError\u001b[0m                                Traceback (most recent call last)",
            "\u001b[0;32m<ipython-input-64-3209d315d4d2>\u001b[0m in \u001b[0;36m<cell line: 0>\u001b[0;34m()\u001b[0m\n\u001b[0;32m----> 1\u001b[0;31m \u001b[0mnum_control\u001b[0m \u001b[0;34m=\u001b[0m \u001b[0mfill_NaNValue\u001b[0m\u001b[0;34m(\u001b[0m\u001b[0mnum_control\u001b[0m\u001b[0;34m)\u001b[0m\u001b[0;34m\u001b[0m\u001b[0;34m\u001b[0m\u001b[0m\n\u001b[0m\u001b[1;32m      2\u001b[0m \u001b[0mprint\u001b[0m\u001b[0;34m(\u001b[0m\u001b[0mnum_control\u001b[0m\u001b[0;34m.\u001b[0m\u001b[0mhead\u001b[0m\u001b[0;34m(\u001b[0m\u001b[0;34m)\u001b[0m\u001b[0;34m)\u001b[0m\u001b[0;34m\u001b[0m\u001b[0;34m\u001b[0m\u001b[0m\n",
            "\u001b[0;32m<ipython-input-52-13e127ba5016>\u001b[0m in \u001b[0;36mfill_NaNValue\u001b[0;34m(num_control)\u001b[0m\n\u001b[1;32m     41\u001b[0m     \u001b[0mcols\u001b[0m \u001b[0;34m=\u001b[0m \u001b[0mnum_control\u001b[0m\u001b[0;34m.\u001b[0m\u001b[0mcolumns\u001b[0m\u001b[0;34m\u001b[0m\u001b[0;34m\u001b[0m\u001b[0m\n\u001b[1;32m     42\u001b[0m     \u001b[0mimputer\u001b[0m \u001b[0;34m=\u001b[0m \u001b[0mKNNImputer\u001b[0m\u001b[0;34m(\u001b[0m\u001b[0mn_neighbors\u001b[0m\u001b[0;34m=\u001b[0m\u001b[0;36m8\u001b[0m\u001b[0;34m)\u001b[0m\u001b[0;34m\u001b[0m\u001b[0;34m\u001b[0m\u001b[0m\n\u001b[0;32m---> 43\u001b[0;31m     \u001b[0mnum_control\u001b[0m \u001b[0;34m=\u001b[0m \u001b[0mimputer\u001b[0m\u001b[0;34m.\u001b[0m\u001b[0mfit_transform\u001b[0m\u001b[0;34m(\u001b[0m\u001b[0mnum_control\u001b[0m\u001b[0;34m)\u001b[0m\u001b[0;34m\u001b[0m\u001b[0;34m\u001b[0m\u001b[0m\n\u001b[0m\u001b[1;32m     44\u001b[0m     \u001b[0mnum_control\u001b[0m\u001b[0;34m=\u001b[0m\u001b[0mpd\u001b[0m\u001b[0;34m.\u001b[0m\u001b[0mDataFrame\u001b[0m\u001b[0;34m(\u001b[0m\u001b[0mnum_control\u001b[0m\u001b[0;34m,\u001b[0m\u001b[0mcolumns\u001b[0m\u001b[0;34m=\u001b[0m\u001b[0mcols\u001b[0m\u001b[0;34m)\u001b[0m\u001b[0;34m\u001b[0m\u001b[0;34m\u001b[0m\u001b[0m\n\u001b[1;32m     45\u001b[0m     \u001b[0;32mreturn\u001b[0m \u001b[0mnum_control\u001b[0m\u001b[0;34m\u001b[0m\u001b[0;34m\u001b[0m\u001b[0m\n",
            "\u001b[0;32m/usr/local/lib/python3.11/dist-packages/sklearn/utils/_set_output.py\u001b[0m in \u001b[0;36mwrapped\u001b[0;34m(self, X, *args, **kwargs)\u001b[0m\n\u001b[1;32m    317\u001b[0m     \u001b[0;34m@\u001b[0m\u001b[0mwraps\u001b[0m\u001b[0;34m(\u001b[0m\u001b[0mf\u001b[0m\u001b[0;34m)\u001b[0m\u001b[0;34m\u001b[0m\u001b[0;34m\u001b[0m\u001b[0m\n\u001b[1;32m    318\u001b[0m     \u001b[0;32mdef\u001b[0m \u001b[0mwrapped\u001b[0m\u001b[0;34m(\u001b[0m\u001b[0mself\u001b[0m\u001b[0;34m,\u001b[0m \u001b[0mX\u001b[0m\u001b[0;34m,\u001b[0m \u001b[0;34m*\u001b[0m\u001b[0margs\u001b[0m\u001b[0;34m,\u001b[0m \u001b[0;34m**\u001b[0m\u001b[0mkwargs\u001b[0m\u001b[0;34m)\u001b[0m\u001b[0;34m:\u001b[0m\u001b[0;34m\u001b[0m\u001b[0;34m\u001b[0m\u001b[0m\n\u001b[0;32m--> 319\u001b[0;31m         \u001b[0mdata_to_wrap\u001b[0m \u001b[0;34m=\u001b[0m \u001b[0mf\u001b[0m\u001b[0;34m(\u001b[0m\u001b[0mself\u001b[0m\u001b[0;34m,\u001b[0m \u001b[0mX\u001b[0m\u001b[0;34m,\u001b[0m \u001b[0;34m*\u001b[0m\u001b[0margs\u001b[0m\u001b[0;34m,\u001b[0m \u001b[0;34m**\u001b[0m\u001b[0mkwargs\u001b[0m\u001b[0;34m)\u001b[0m\u001b[0;34m\u001b[0m\u001b[0;34m\u001b[0m\u001b[0m\n\u001b[0m\u001b[1;32m    320\u001b[0m         \u001b[0;32mif\u001b[0m \u001b[0misinstance\u001b[0m\u001b[0;34m(\u001b[0m\u001b[0mdata_to_wrap\u001b[0m\u001b[0;34m,\u001b[0m \u001b[0mtuple\u001b[0m\u001b[0;34m)\u001b[0m\u001b[0;34m:\u001b[0m\u001b[0;34m\u001b[0m\u001b[0;34m\u001b[0m\u001b[0m\n\u001b[1;32m    321\u001b[0m             \u001b[0;31m# only wrap the first output for cross decomposition\u001b[0m\u001b[0;34m\u001b[0m\u001b[0;34m\u001b[0m\u001b[0m\n",
            "\u001b[0;32m/usr/local/lib/python3.11/dist-packages/sklearn/base.py\u001b[0m in \u001b[0;36mfit_transform\u001b[0;34m(self, X, y, **fit_params)\u001b[0m\n\u001b[1;32m    916\u001b[0m         \u001b[0;32mif\u001b[0m \u001b[0my\u001b[0m \u001b[0;32mis\u001b[0m \u001b[0;32mNone\u001b[0m\u001b[0;34m:\u001b[0m\u001b[0;34m\u001b[0m\u001b[0;34m\u001b[0m\u001b[0m\n\u001b[1;32m    917\u001b[0m             \u001b[0;31m# fit method of arity 1 (unsupervised transformation)\u001b[0m\u001b[0;34m\u001b[0m\u001b[0;34m\u001b[0m\u001b[0m\n\u001b[0;32m--> 918\u001b[0;31m             \u001b[0;32mreturn\u001b[0m \u001b[0mself\u001b[0m\u001b[0;34m.\u001b[0m\u001b[0mfit\u001b[0m\u001b[0;34m(\u001b[0m\u001b[0mX\u001b[0m\u001b[0;34m,\u001b[0m \u001b[0;34m**\u001b[0m\u001b[0mfit_params\u001b[0m\u001b[0;34m)\u001b[0m\u001b[0;34m.\u001b[0m\u001b[0mtransform\u001b[0m\u001b[0;34m(\u001b[0m\u001b[0mX\u001b[0m\u001b[0;34m)\u001b[0m\u001b[0;34m\u001b[0m\u001b[0;34m\u001b[0m\u001b[0m\n\u001b[0m\u001b[1;32m    919\u001b[0m         \u001b[0;32melse\u001b[0m\u001b[0;34m:\u001b[0m\u001b[0;34m\u001b[0m\u001b[0;34m\u001b[0m\u001b[0m\n\u001b[1;32m    920\u001b[0m             \u001b[0;31m# fit method of arity 2 (supervised transformation)\u001b[0m\u001b[0;34m\u001b[0m\u001b[0;34m\u001b[0m\u001b[0m\n",
            "\u001b[0;32m/usr/local/lib/python3.11/dist-packages/sklearn/base.py\u001b[0m in \u001b[0;36mwrapper\u001b[0;34m(estimator, *args, **kwargs)\u001b[0m\n\u001b[1;32m   1387\u001b[0m                 )\n\u001b[1;32m   1388\u001b[0m             ):\n\u001b[0;32m-> 1389\u001b[0;31m                 \u001b[0;32mreturn\u001b[0m \u001b[0mfit_method\u001b[0m\u001b[0;34m(\u001b[0m\u001b[0mestimator\u001b[0m\u001b[0;34m,\u001b[0m \u001b[0;34m*\u001b[0m\u001b[0margs\u001b[0m\u001b[0;34m,\u001b[0m \u001b[0;34m**\u001b[0m\u001b[0mkwargs\u001b[0m\u001b[0;34m)\u001b[0m\u001b[0;34m\u001b[0m\u001b[0;34m\u001b[0m\u001b[0m\n\u001b[0m\u001b[1;32m   1390\u001b[0m \u001b[0;34m\u001b[0m\u001b[0m\n\u001b[1;32m   1391\u001b[0m         \u001b[0;32mreturn\u001b[0m \u001b[0mwrapper\u001b[0m\u001b[0;34m\u001b[0m\u001b[0;34m\u001b[0m\u001b[0m\n",
            "\u001b[0;32m/usr/local/lib/python3.11/dist-packages/sklearn/impute/_knn.py\u001b[0m in \u001b[0;36mfit\u001b[0;34m(self, X, y)\u001b[0m\n\u001b[1;32m    235\u001b[0m             \u001b[0mensure_all_finite\u001b[0m \u001b[0;34m=\u001b[0m \u001b[0;34m\"allow-nan\"\u001b[0m\u001b[0;34m\u001b[0m\u001b[0;34m\u001b[0m\u001b[0m\n\u001b[1;32m    236\u001b[0m \u001b[0;34m\u001b[0m\u001b[0m\n\u001b[0;32m--> 237\u001b[0;31m         X = validate_data(\n\u001b[0m\u001b[1;32m    238\u001b[0m             \u001b[0mself\u001b[0m\u001b[0;34m,\u001b[0m\u001b[0;34m\u001b[0m\u001b[0;34m\u001b[0m\u001b[0m\n\u001b[1;32m    239\u001b[0m             \u001b[0mX\u001b[0m\u001b[0;34m,\u001b[0m\u001b[0;34m\u001b[0m\u001b[0;34m\u001b[0m\u001b[0m\n",
            "\u001b[0;32m/usr/local/lib/python3.11/dist-packages/sklearn/utils/validation.py\u001b[0m in \u001b[0;36mvalidate_data\u001b[0;34m(_estimator, X, y, reset, validate_separately, skip_check_array, **check_params)\u001b[0m\n\u001b[1;32m   2942\u001b[0m             \u001b[0mout\u001b[0m \u001b[0;34m=\u001b[0m \u001b[0mX\u001b[0m\u001b[0;34m,\u001b[0m \u001b[0my\u001b[0m\u001b[0;34m\u001b[0m\u001b[0;34m\u001b[0m\u001b[0m\n\u001b[1;32m   2943\u001b[0m     \u001b[0;32melif\u001b[0m \u001b[0;32mnot\u001b[0m \u001b[0mno_val_X\u001b[0m \u001b[0;32mand\u001b[0m \u001b[0mno_val_y\u001b[0m\u001b[0;34m:\u001b[0m\u001b[0;34m\u001b[0m\u001b[0;34m\u001b[0m\u001b[0m\n\u001b[0;32m-> 2944\u001b[0;31m         \u001b[0mout\u001b[0m \u001b[0;34m=\u001b[0m \u001b[0mcheck_array\u001b[0m\u001b[0;34m(\u001b[0m\u001b[0mX\u001b[0m\u001b[0;34m,\u001b[0m \u001b[0minput_name\u001b[0m\u001b[0;34m=\u001b[0m\u001b[0;34m\"X\"\u001b[0m\u001b[0;34m,\u001b[0m \u001b[0;34m**\u001b[0m\u001b[0mcheck_params\u001b[0m\u001b[0;34m)\u001b[0m\u001b[0;34m\u001b[0m\u001b[0;34m\u001b[0m\u001b[0m\n\u001b[0m\u001b[1;32m   2945\u001b[0m     \u001b[0;32melif\u001b[0m \u001b[0mno_val_X\u001b[0m \u001b[0;32mand\u001b[0m \u001b[0;32mnot\u001b[0m \u001b[0mno_val_y\u001b[0m\u001b[0;34m:\u001b[0m\u001b[0;34m\u001b[0m\u001b[0;34m\u001b[0m\u001b[0m\n\u001b[1;32m   2946\u001b[0m         \u001b[0mout\u001b[0m \u001b[0;34m=\u001b[0m \u001b[0m_check_y\u001b[0m\u001b[0;34m(\u001b[0m\u001b[0my\u001b[0m\u001b[0;34m,\u001b[0m \u001b[0;34m**\u001b[0m\u001b[0mcheck_params\u001b[0m\u001b[0;34m)\u001b[0m\u001b[0;34m\u001b[0m\u001b[0;34m\u001b[0m\u001b[0m\n",
            "\u001b[0;32m/usr/local/lib/python3.11/dist-packages/sklearn/utils/validation.py\u001b[0m in \u001b[0;36mcheck_array\u001b[0;34m(array, accept_sparse, accept_large_sparse, dtype, order, copy, force_writeable, force_all_finite, ensure_all_finite, ensure_non_negative, ensure_2d, allow_nd, ensure_min_samples, ensure_min_features, estimator, input_name)\u001b[0m\n\u001b[1;32m    929\u001b[0m         )\n\u001b[1;32m    930\u001b[0m         \u001b[0;32mif\u001b[0m \u001b[0mall\u001b[0m\u001b[0;34m(\u001b[0m\u001b[0misinstance\u001b[0m\u001b[0;34m(\u001b[0m\u001b[0mdtype_iter\u001b[0m\u001b[0;34m,\u001b[0m \u001b[0mnp\u001b[0m\u001b[0;34m.\u001b[0m\u001b[0mdtype\u001b[0m\u001b[0;34m)\u001b[0m \u001b[0;32mfor\u001b[0m \u001b[0mdtype_iter\u001b[0m \u001b[0;32min\u001b[0m \u001b[0mdtypes_orig\u001b[0m\u001b[0;34m)\u001b[0m\u001b[0;34m:\u001b[0m\u001b[0;34m\u001b[0m\u001b[0;34m\u001b[0m\u001b[0m\n\u001b[0;32m--> 931\u001b[0;31m             \u001b[0mdtype_orig\u001b[0m \u001b[0;34m=\u001b[0m \u001b[0mnp\u001b[0m\u001b[0;34m.\u001b[0m\u001b[0mresult_type\u001b[0m\u001b[0;34m(\u001b[0m\u001b[0;34m*\u001b[0m\u001b[0mdtypes_orig\u001b[0m\u001b[0;34m)\u001b[0m\u001b[0;34m\u001b[0m\u001b[0;34m\u001b[0m\u001b[0m\n\u001b[0m\u001b[1;32m    932\u001b[0m         \u001b[0;32melif\u001b[0m \u001b[0mpandas_requires_conversion\u001b[0m \u001b[0;32mand\u001b[0m \u001b[0many\u001b[0m\u001b[0;34m(\u001b[0m\u001b[0md\u001b[0m \u001b[0;34m==\u001b[0m \u001b[0mobject\u001b[0m \u001b[0;32mfor\u001b[0m \u001b[0md\u001b[0m \u001b[0;32min\u001b[0m \u001b[0mdtypes_orig\u001b[0m\u001b[0;34m)\u001b[0m\u001b[0;34m:\u001b[0m\u001b[0;34m\u001b[0m\u001b[0;34m\u001b[0m\u001b[0m\n\u001b[1;32m    933\u001b[0m             \u001b[0;31m# Force object if any of the dtypes is an object\u001b[0m\u001b[0;34m\u001b[0m\u001b[0;34m\u001b[0m\u001b[0m\n",
            "\u001b[0;31mValueError\u001b[0m: at least one array or dtype is required"
          ]
        }
      ]
    },
    {
      "cell_type": "code",
      "source": [
        "# TODO : Combine categorical and numerical variables with the concept."
      ],
      "metadata": {
        "trusted": true,
        "id": "fvBuwD66DK0B"
      },
      "execution_count": null,
      "outputs": []
    },
    {
      "cell_type": "code",
      "source": [
        "control = pd.concat([num_control, kat_control], axis=1)\n",
        "\n",
        "print(control.head())"
      ],
      "metadata": {
        "colab": {
          "base_uri": "https://localhost:8080/"
        },
        "collapsed": true,
        "id": "D4EPT-U4bV1n",
        "outputId": "faf8fa46-79cb-418c-faa1-7c76a53cb064"
      },
      "execution_count": 68,
      "outputs": [
        {
          "output_type": "stream",
          "name": "stdout",
          "text": [
            "  Campaign Name;Date;Spend [USD];# of Impressions;Reach;# of Website Clicks;# of Searches;# of View Content;# of Add to Cart;# of Purchase\n",
            "0  Control Campaign;1.08.2019;2280;82702;56930;70...                                                                                      \n",
            "1  Control Campaign;2.08.2019;1757;121040;102513;...                                                                                      \n",
            "2  Control Campaign;3.08.2019;2343;131711;110862;...                                                                                      \n",
            "3  Control Campaign;4.08.2019;1940;72878;61235;30...                                                                                      \n",
            "4             Control Campaign;5.08.2019;1835;;;;;;;                                                                                      \n"
          ]
        }
      ]
    },
    {
      "cell_type": "code",
      "source": [
        "# Let's do a data type conversion.\n",
        "\n",
        "control = convert_datatype(control)\n",
        "\n",
        "print(control.shape)\n",
        "print(test.shape)"
      ],
      "metadata": {
        "trusted": true,
        "id": "upfhU8BZDK0C",
        "colab": {
          "base_uri": "https://localhost:8080/",
          "height": 370
        },
        "collapsed": true,
        "outputId": "6b14ac02-abf8-4eee-d521-8a7b2588d697"
      },
      "execution_count": 69,
      "outputs": [
        {
          "output_type": "error",
          "ename": "KeyError",
          "evalue": "\"Only a column name can be used for the key in a dtype mappings argument. '# of Impressions' not found in columns.\"",
          "traceback": [
            "\u001b[0;31m---------------------------------------------------------------------------\u001b[0m",
            "\u001b[0;31mKeyError\u001b[0m                                  Traceback (most recent call last)",
            "\u001b[0;32m<ipython-input-69-bc034d37f4db>\u001b[0m in \u001b[0;36m<cell line: 0>\u001b[0;34m()\u001b[0m\n\u001b[1;32m      1\u001b[0m \u001b[0;31m# Let's do a data type conversion.\u001b[0m\u001b[0;34m\u001b[0m\u001b[0;34m\u001b[0m\u001b[0m\n\u001b[1;32m      2\u001b[0m \u001b[0;34m\u001b[0m\u001b[0m\n\u001b[0;32m----> 3\u001b[0;31m \u001b[0mcontrol\u001b[0m \u001b[0;34m=\u001b[0m \u001b[0mconvert_datatype\u001b[0m\u001b[0;34m(\u001b[0m\u001b[0mcontrol\u001b[0m\u001b[0;34m)\u001b[0m\u001b[0;34m\u001b[0m\u001b[0;34m\u001b[0m\u001b[0m\n\u001b[0m\u001b[1;32m      4\u001b[0m \u001b[0;34m\u001b[0m\u001b[0m\n\u001b[1;32m      5\u001b[0m \u001b[0mprint\u001b[0m\u001b[0;34m(\u001b[0m\u001b[0mcontrol\u001b[0m\u001b[0;34m.\u001b[0m\u001b[0mshape\u001b[0m\u001b[0;34m)\u001b[0m\u001b[0;34m\u001b[0m\u001b[0;34m\u001b[0m\u001b[0m\n",
            "\u001b[0;32m<ipython-input-52-13e127ba5016>\u001b[0m in \u001b[0;36mconvert_datatype\u001b[0;34m(control)\u001b[0m\n\u001b[1;32m     50\u001b[0m     \u001b[0;34m-\u001b[0m \u001b[0mThis\u001b[0m \u001b[0;32mis\u001b[0m \u001b[0mimportant\u001b[0m \u001b[0;32mfor\u001b[0m \u001b[0mensuring\u001b[0m \u001b[0mdata\u001b[0m \u001b[0mconsistency\u001b[0m \u001b[0;32mand\u001b[0m \u001b[0mcorrectness\u001b[0m \u001b[0;32min\u001b[0m \u001b[0mcalculations\u001b[0m\u001b[0;34m.\u001b[0m\u001b[0;34m\u001b[0m\u001b[0;34m\u001b[0m\u001b[0m\n\u001b[1;32m     51\u001b[0m     \"\"\"\n\u001b[0;32m---> 52\u001b[0;31m     control = control.astype({'# of Impressions' : 'int64',\n\u001b[0m\u001b[1;32m     53\u001b[0m                         \u001b[0;34m'Reach'\u001b[0m\u001b[0;34m:\u001b[0m \u001b[0;34m'int64'\u001b[0m\u001b[0;34m,\u001b[0m\u001b[0;34m\u001b[0m\u001b[0;34m\u001b[0m\u001b[0m\n\u001b[1;32m     54\u001b[0m                         \u001b[0;34m'# of Website Clicks'\u001b[0m \u001b[0;34m:\u001b[0m \u001b[0;34m'int64'\u001b[0m\u001b[0;34m,\u001b[0m\u001b[0;34m\u001b[0m\u001b[0;34m\u001b[0m\u001b[0m\n",
            "\u001b[0;32m/usr/local/lib/python3.11/dist-packages/pandas/core/generic.py\u001b[0m in \u001b[0;36mastype\u001b[0;34m(self, dtype, copy, errors)\u001b[0m\n\u001b[1;32m   6603\u001b[0m             \u001b[0;32mfor\u001b[0m \u001b[0mcol_name\u001b[0m \u001b[0;32min\u001b[0m \u001b[0mdtype_ser\u001b[0m\u001b[0;34m.\u001b[0m\u001b[0mindex\u001b[0m\u001b[0;34m:\u001b[0m\u001b[0;34m\u001b[0m\u001b[0;34m\u001b[0m\u001b[0m\n\u001b[1;32m   6604\u001b[0m                 \u001b[0;32mif\u001b[0m \u001b[0mcol_name\u001b[0m \u001b[0;32mnot\u001b[0m \u001b[0;32min\u001b[0m \u001b[0mself\u001b[0m\u001b[0;34m:\u001b[0m\u001b[0;34m\u001b[0m\u001b[0;34m\u001b[0m\u001b[0m\n\u001b[0;32m-> 6605\u001b[0;31m                     raise KeyError(\n\u001b[0m\u001b[1;32m   6606\u001b[0m                         \u001b[0;34m\"Only a column name can be used for the \"\u001b[0m\u001b[0;34m\u001b[0m\u001b[0;34m\u001b[0m\u001b[0m\n\u001b[1;32m   6607\u001b[0m                         \u001b[0;34m\"key in a dtype mappings argument. \"\u001b[0m\u001b[0;34m\u001b[0m\u001b[0;34m\u001b[0m\u001b[0m\n",
            "\u001b[0;31mKeyError\u001b[0m: \"Only a column name can be used for the key in a dtype mappings argument. '# of Impressions' not found in columns.\""
          ]
        }
      ]
    },
    {
      "cell_type": "code",
      "source": [
        "# Check your dataframes\n",
        "\n",
        "print(control.info())\n",
        "print(test.info())"
      ],
      "metadata": {
        "trusted": true,
        "id": "FsNo0ySmDK0C",
        "colab": {
          "base_uri": "https://localhost:8080/"
        },
        "collapsed": true,
        "outputId": "68de1b64-1719-43e5-ac75-af78b1e97eba"
      },
      "execution_count": 70,
      "outputs": [
        {
          "output_type": "stream",
          "name": "stdout",
          "text": [
            "<class 'pandas.core.frame.DataFrame'>\n",
            "RangeIndex: 30 entries, 0 to 29\n",
            "Data columns (total 1 columns):\n",
            " #   Column                                                                                                                                    Non-Null Count  Dtype \n",
            "---  ------                                                                                                                                    --------------  ----- \n",
            " 0   Campaign Name;Date;Spend [USD];# of Impressions;Reach;# of Website Clicks;# of Searches;# of View Content;# of Add to Cart;# of Purchase  30 non-null     object\n",
            "dtypes: object(1)\n",
            "memory usage: 372.0+ bytes\n",
            "None\n",
            "<class 'pandas.core.frame.DataFrame'>\n",
            "RangeIndex: 30 entries, 0 to 29\n",
            "Data columns (total 1 columns):\n",
            " #   Column                                                                                                                                    Non-Null Count  Dtype \n",
            "---  ------                                                                                                                                    --------------  ----- \n",
            " 0   Campaign Name;Date;Spend [USD];# of Impressions;Reach;# of Website Clicks;# of Searches;# of View Content;# of Add to Cart;# of Purchase  30 non-null     object\n",
            "dtypes: object(1)\n",
            "memory usage: 372.0+ bytes\n",
            "None\n"
          ]
        }
      ]
    },
    {
      "cell_type": "markdown",
      "source": [
        "## 4. Preparing Data for Hypothesis Testing (A/B Test)\n",
        "\n"
      ],
      "metadata": {
        "id": "3fgAFAElDK0C"
      }
    },
    {
      "cell_type": "code",
      "source": [
        "#TODO : Apply the feature engineering on control and test, what does the function do exactly ?\n",
        "\n",
        "#TODO : Prepare and generate features for visualization with the help of a function"
      ],
      "metadata": {
        "trusted": true,
        "id": "dGIMTMSVDK0C"
      },
      "execution_count": null,
      "outputs": []
    },
    {
      "cell_type": "code",
      "source": [
        "control, test = feature_engineering(df1, df)"
      ],
      "metadata": {
        "id": "psOcLNHfcCiZ"
      },
      "execution_count": null,
      "outputs": []
    },
    {
      "cell_type": "markdown",
      "source": [
        "Let's look at the numbers A and B."
      ],
      "metadata": {
        "id": "zWhSa2gMDK0D"
      }
    },
    {
      "cell_type": "code",
      "source": [
        "AB[\"Group\"].value_counts()"
      ],
      "metadata": {
        "trusted": true,
        "id": "kqButFScDK0D",
        "colab": {
          "base_uri": "https://localhost:8080/",
          "height": 146
        },
        "collapsed": true,
        "outputId": "b0c5170f-6b1c-4258-dbdc-17e3793641e1"
      },
      "execution_count": 71,
      "outputs": [
        {
          "output_type": "error",
          "ename": "NameError",
          "evalue": "name 'AB' is not defined",
          "traceback": [
            "\u001b[0;31m---------------------------------------------------------------------------\u001b[0m",
            "\u001b[0;31mNameError\u001b[0m                                 Traceback (most recent call last)",
            "\u001b[0;32m<ipython-input-71-c24a65570b63>\u001b[0m in \u001b[0;36m<cell line: 0>\u001b[0;34m()\u001b[0m\n\u001b[0;32m----> 1\u001b[0;31m \u001b[0mAB\u001b[0m\u001b[0;34m[\u001b[0m\u001b[0;34m\"Group\"\u001b[0m\u001b[0;34m]\u001b[0m\u001b[0;34m.\u001b[0m\u001b[0mvalue_counts\u001b[0m\u001b[0;34m(\u001b[0m\u001b[0;34m)\u001b[0m\u001b[0;34m\u001b[0m\u001b[0;34m\u001b[0m\u001b[0m\n\u001b[0m",
            "\u001b[0;31mNameError\u001b[0m: name 'AB' is not defined"
          ]
        }
      ]
    },
    {
      "cell_type": "markdown",
      "source": [
        "### 4.1. Website Click Through Rate (CTR)\n",
        "Review :\n",
        "- It is a rate that shows how often the users who saw the ad CLICK the ad.\n",
        "- Number of Ad Clicks / Number of Ad Displays\n",
        "- Example: 5 clicks, CTR at 100 impressions = 5%\n",
        "\n",
        "- ##### Use visualizations to compare test and control group metrics, such as Website Click Through Rate, Cost per Action, and Conversion Rates in addition to Purchase numbers."
      ],
      "metadata": {
        "id": "LcQoKNZfDK0D"
      }
    },
    {
      "cell_type": "code",
      "source": [
        "cols = [\"Website Click Through Rate\",\"Cost per Action\",\"Conversion Rate\",\"# of Purchase\"]\n",
        "show_boxplot(2,2,[0,1],cols,(18,9))"
      ],
      "metadata": {
        "trusted": true,
        "id": "sWYF0FWdDK0D",
        "colab": {
          "base_uri": "https://localhost:8080/",
          "height": 878
        },
        "collapsed": true,
        "outputId": "b15625c7-e8b3-43aa-94a1-9317690f5aa2"
      },
      "execution_count": 72,
      "outputs": [
        {
          "output_type": "error",
          "ename": "NameError",
          "evalue": "name 'AB' is not defined",
          "traceback": [
            "\u001b[0;31m---------------------------------------------------------------------------\u001b[0m",
            "\u001b[0;31mNameError\u001b[0m                                 Traceback (most recent call last)",
            "\u001b[0;32m<ipython-input-72-a033f12c116c>\u001b[0m in \u001b[0;36m<cell line: 0>\u001b[0;34m()\u001b[0m\n\u001b[1;32m      1\u001b[0m \u001b[0mcols\u001b[0m \u001b[0;34m=\u001b[0m \u001b[0;34m[\u001b[0m\u001b[0;34m\"Website Click Through Rate\"\u001b[0m\u001b[0;34m,\u001b[0m\u001b[0;34m\"Cost per Action\"\u001b[0m\u001b[0;34m,\u001b[0m\u001b[0;34m\"Conversion Rate\"\u001b[0m\u001b[0;34m,\u001b[0m\u001b[0;34m\"# of Purchase\"\u001b[0m\u001b[0;34m]\u001b[0m\u001b[0;34m\u001b[0m\u001b[0;34m\u001b[0m\u001b[0m\n\u001b[0;32m----> 2\u001b[0;31m \u001b[0mshow_boxplot\u001b[0m\u001b[0;34m(\u001b[0m\u001b[0;36m2\u001b[0m\u001b[0;34m,\u001b[0m\u001b[0;36m2\u001b[0m\u001b[0;34m,\u001b[0m\u001b[0;34m[\u001b[0m\u001b[0;36m0\u001b[0m\u001b[0;34m,\u001b[0m\u001b[0;36m1\u001b[0m\u001b[0;34m]\u001b[0m\u001b[0;34m,\u001b[0m\u001b[0mcols\u001b[0m\u001b[0;34m,\u001b[0m\u001b[0;34m(\u001b[0m\u001b[0;36m18\u001b[0m\u001b[0;34m,\u001b[0m\u001b[0;36m9\u001b[0m\u001b[0;34m)\u001b[0m\u001b[0;34m)\u001b[0m\u001b[0;34m\u001b[0m\u001b[0;34m\u001b[0m\u001b[0m\n\u001b[0m",
            "\u001b[0;32m<ipython-input-52-13e127ba5016>\u001b[0m in \u001b[0;36mshow_boxplot\u001b[0;34m(nrows, ncols, boyut, cols, figsize)\u001b[0m\n\u001b[1;32m    160\u001b[0m     \"\"\"\n\u001b[1;32m    161\u001b[0m     \u001b[0mfig\u001b[0m\u001b[0;34m,\u001b[0m \u001b[0maxarr\u001b[0m \u001b[0;34m=\u001b[0m \u001b[0mplt\u001b[0m\u001b[0;34m.\u001b[0m\u001b[0msubplots\u001b[0m\u001b[0;34m(\u001b[0m\u001b[0mnrows\u001b[0m\u001b[0;34m,\u001b[0m \u001b[0mncols\u001b[0m\u001b[0;34m,\u001b[0m \u001b[0mfigsize\u001b[0m\u001b[0;34m=\u001b[0m\u001b[0mfigsize\u001b[0m\u001b[0;34m)\u001b[0m\u001b[0;34m\u001b[0m\u001b[0;34m\u001b[0m\u001b[0m\n\u001b[0;32m--> 162\u001b[0;31m     \u001b[0mnum_boxplot\u001b[0m\u001b[0;34m(\u001b[0m\u001b[0mfig\u001b[0m\u001b[0;34m,\u001b[0m \u001b[0maxarr\u001b[0m\u001b[0;34m,\u001b[0m \u001b[0mboyut\u001b[0m\u001b[0;34m,\u001b[0m \u001b[0mcols\u001b[0m\u001b[0;34m,\u001b[0m \u001b[0;34m\"Group\"\u001b[0m\u001b[0;34m)\u001b[0m\u001b[0;34m\u001b[0m\u001b[0;34m\u001b[0m\u001b[0m\n\u001b[0m\u001b[1;32m    163\u001b[0m \u001b[0;34m\u001b[0m\u001b[0m\n\u001b[1;32m    164\u001b[0m \u001b[0;34m\u001b[0m\u001b[0m\n",
            "\u001b[0;32m<ipython-input-52-13e127ba5016>\u001b[0m in \u001b[0;36mnum_boxplot\u001b[0;34m(fig, axarr, dimension, cols, hue)\u001b[0m\n\u001b[1;32m    150\u001b[0m         \u001b[0;32mfor\u001b[0m \u001b[0mj\u001b[0m \u001b[0;32min\u001b[0m \u001b[0mdimension\u001b[0m \u001b[0;34m:\u001b[0m\u001b[0;34m\u001b[0m\u001b[0;34m\u001b[0m\u001b[0m\n\u001b[1;32m    151\u001b[0m             \u001b[0;32mfor\u001b[0m \u001b[0mc\u001b[0m \u001b[0;32min\u001b[0m \u001b[0mcols\u001b[0m \u001b[0;34m:\u001b[0m\u001b[0;34m\u001b[0m\u001b[0;34m\u001b[0m\u001b[0m\n\u001b[0;32m--> 152\u001b[0;31m                 \u001b[0msns\u001b[0m\u001b[0;34m.\u001b[0m\u001b[0mboxplot\u001b[0m\u001b[0;34m(\u001b[0m\u001b[0my\u001b[0m\u001b[0;34m=\u001b[0m\u001b[0mc\u001b[0m\u001b[0;34m,\u001b[0m \u001b[0mx\u001b[0m \u001b[0;34m=\u001b[0m \u001b[0mhue\u001b[0m\u001b[0;34m,\u001b[0m \u001b[0mhue\u001b[0m \u001b[0;34m=\u001b[0m \u001b[0mhue\u001b[0m\u001b[0;34m,\u001b[0m \u001b[0mdata\u001b[0m \u001b[0;34m=\u001b[0m \u001b[0mAB\u001b[0m\u001b[0;34m,\u001b[0m \u001b[0max\u001b[0m\u001b[0;34m=\u001b[0m\u001b[0maxarr\u001b[0m\u001b[0;34m[\u001b[0m\u001b[0mi\u001b[0m\u001b[0;34m]\u001b[0m\u001b[0;34m[\u001b[0m\u001b[0mj\u001b[0m\u001b[0;34m]\u001b[0m\u001b[0;34m)\u001b[0m\u001b[0;34m\u001b[0m\u001b[0;34m\u001b[0m\u001b[0m\n\u001b[0m\u001b[1;32m    153\u001b[0m                 \u001b[0mcols\u001b[0m\u001b[0;34m.\u001b[0m\u001b[0mremove\u001b[0m\u001b[0;34m(\u001b[0m\u001b[0mc\u001b[0m\u001b[0;34m)\u001b[0m\u001b[0;34m\u001b[0m\u001b[0;34m\u001b[0m\u001b[0m\n\u001b[1;32m    154\u001b[0m                 \u001b[0;32mbreak\u001b[0m\u001b[0;34m\u001b[0m\u001b[0;34m\u001b[0m\u001b[0m\n",
            "\u001b[0;31mNameError\u001b[0m: name 'AB' is not defined"
          ]
        },
        {
          "output_type": "display_data",
          "data": {
            "text/plain": [
              "<Figure size 1800x900 with 4 Axes>"
            ],
            "image/png": "[encoded data removed]"
          },
          "metadata": {}
        }
      ]
    },
    {
      "cell_type": "code",
      "source": [
        "#TODO : create your dataframe for AB test and print the first 3 rows of it.\n"
      ],
      "metadata": {
        "trusted": true,
        "id": "J2o5A1f1DK0D"
      },
      "execution_count": 73,
      "outputs": []
    },
    {
      "cell_type": "markdown",
      "source": [
        "## 5. Two Independent Sample T-Test\n",
        "### 5.1. Assumption Check\n",
        "#### 5.1.1. Normality Assumption (shapiro test)\n",
        "\n",
        " * **H0**: Normal distribution assumption is provided.\n",
        " * **H1**: ... not provided."
      ],
      "metadata": {
        "id": "yoYPauAlDK0E"
      }
    },
    {
      "cell_type": "code",
      "source": [
        "#TODO : Aply the normality assumption of the dataframe for A\n"
      ],
      "metadata": {
        "trusted": true,
        "id": "4xMzj7PtDK0E"
      },
      "execution_count": null,
      "outputs": []
    },
    {
      "cell_type": "code",
      "source": [
        "#TODO : compute p_value for normality on group A from the df_AB dataframe and round it to three decimal places.\n",
        "#TODO : pass it to a function checkReject to determine if the null hypothesis of normality should be rejected."
      ],
      "metadata": {
        "trusted": true,
        "id": "xGiKQEHrDK0E"
      },
      "execution_count": null,
      "outputs": []
    },
    {
      "cell_type": "markdown",
      "source": [
        "Does the HO hypothesis get rejected ? why ?"
      ],
      "metadata": {
        "id": "87fl16JsiHQE"
      }
    },
    {
      "cell_type": "code",
      "source": [
        "#TODO : Aply the normality assumption of the dataframe for B\n"
      ],
      "metadata": {
        "trusted": true,
        "id": "JTIwYUqvDK0E"
      },
      "execution_count": null,
      "outputs": []
    },
    {
      "cell_type": "code",
      "source": [
        "#TODO : compute p_value for normality on group B from the df_AB dataframe and round it to three decimal places.\n",
        "#TODO : pass it to a function checkReject to determine if the null hypothesis of normality should be rejected."
      ],
      "metadata": {
        "trusted": true,
        "id": "ZA0hl-TSDK0F"
      },
      "execution_count": null,
      "outputs": []
    },
    {
      "cell_type": "markdown",
      "source": [
        "Does the HO hypothesis get rejected ? why ?"
      ],
      "metadata": {
        "id": "vsUYfCduDK0F"
      }
    },
    {
      "cell_type": "markdown",
      "source": [
        "### 5.1.2. Variance Homogeneity Assumption\n",
        " * **H0** : Variances are homogeneous.\n",
        " * **H1** : Variances are not homogeneous.\n",
        "\n",
        "We want to assess if A and B have equal variances, which is a common assumption for various statistical tests :"
      ],
      "metadata": {
        "id": "oCfcl_20DK0F"
      }
    },
    {
      "cell_type": "code",
      "source": [
        "#TODO : Performs the Levene test for equality of variances on two groups, A and B, from the df_AB dataframe"
      ],
      "metadata": {
        "trusted": true,
        "id": "s6bpC7E_DK0F"
      },
      "execution_count": null,
      "outputs": []
    },
    {
      "cell_type": "code",
      "source": [
        "#TODO : compute the p_value of the df_AB dataframe and round it to three decimal places.\n",
        "#TODO : pass it to a function checkReject to determine if the null hypothesis of normality should be rejected."
      ],
      "metadata": {
        "trusted": true,
        "id": "Ev9jAkruDK0F"
      },
      "execution_count": 65,
      "outputs": []
    },
    {
      "cell_type": "markdown",
      "source": [
        "\n",
        "Conclude about the variances, are they homogeneous ?"
      ],
      "metadata": {
        "id": "jvKow9iTDK0F"
      }
    },
    {
      "cell_type": "markdown",
      "source": [
        "### 5.1.3. Nonparametric Independent Two-Sample T-Test\n",
        "\n",
        "- Since the normality of the distribution of the data set in which Average Bidding (Test Group) was measured was rejected, the NonParametric Independent Two-Sample T Test was applied for the Hypothesis Test.\n",
        "\n",
        "**Hypothesis:**\n",
        "\n",
        " * **H0** : When it comes to Maximum Bidding and Average Bidding, there is no statistically significant difference between the purchasing amounts of the two groups. ($\\mu_1 = \\mu_2$)\n",
        "\n",
        " * **H1** : ... there is a difference ($\\mu_1 \\neq \\mu_2$)"
      ],
      "metadata": {
        "id": "fs4VQn0sDK0G"
      }
    },
    {
      "cell_type": "code",
      "source": [
        "# Average Biddingin (Test Group)\n",
        "stats.mannwhitneyu(df_AB[\"A\"], df_AB[\"B\"])"
      ],
      "metadata": {
        "trusted": true,
        "id": "b0SwcIuwDK0G",
        "colab": {
          "base_uri": "https://localhost:8080/",
          "height": 164
        },
        "outputId": "1c28dc80-392d-4f96-ea16-b033188bac1a"
      },
      "execution_count": 66,
      "outputs": [
        {
          "output_type": "error",
          "ename": "NameError",
          "evalue": "name 'df_AB' is not defined",
          "traceback": [
            "\u001b[0;31m---------------------------------------------------------------------------\u001b[0m",
            "\u001b[0;31mNameError\u001b[0m                                 Traceback (most recent call last)",
            "\u001b[0;32m<ipython-input-66-1c194be19c8b>\u001b[0m in \u001b[0;36m<cell line: 0>\u001b[0;34m()\u001b[0m\n\u001b[1;32m      1\u001b[0m \u001b[0;31m# Average Biddingin (Test Group)\u001b[0m\u001b[0;34m\u001b[0m\u001b[0;34m\u001b[0m\u001b[0m\n\u001b[0;32m----> 2\u001b[0;31m \u001b[0mstats\u001b[0m\u001b[0;34m.\u001b[0m\u001b[0mmannwhitneyu\u001b[0m\u001b[0;34m(\u001b[0m\u001b[0mdf_AB\u001b[0m\u001b[0;34m[\u001b[0m\u001b[0;34m\"A\"\u001b[0m\u001b[0;34m]\u001b[0m\u001b[0;34m,\u001b[0m \u001b[0mdf_AB\u001b[0m\u001b[0;34m[\u001b[0m\u001b[0;34m\"B\"\u001b[0m\u001b[0;34m]\u001b[0m\u001b[0;34m)\u001b[0m\u001b[0;34m\u001b[0m\u001b[0;34m\u001b[0m\u001b[0m\n\u001b[0m",
            "\u001b[0;31mNameError\u001b[0m: name 'df_AB' is not defined"
          ]
        }
      ]
    },
    {
      "cell_type": "code",
      "source": [
        "#TODO : compute the p_value of the df_AB dataframe and round it to three decimal places.\n",
        "#TODO : pass it to a function checkReject to determine if the null hypothesis of normality should be rejected."
      ],
      "metadata": {
        "trusted": true,
        "id": "t_QXVREQDK0G"
      },
      "execution_count": null,
      "outputs": []
    },
    {
      "cell_type": "markdown",
      "source": [
        "Should the H0 hypothesis be rejected ? Why ? What can you conclude ?"
      ],
      "metadata": {
        "id": "FlZXI66ODK0G"
      }
    },
    {
      "cell_type": "markdown",
      "source": [
        "## 6. Conclusion and Evaluation\n",
        "\n",
        "\n",
        "##### You should answer the following questions :\n",
        "\n",
        "\n",
        "**1. How would you define the hypothesis of this A/B test ?**\n",
        "\n",
        "\n",
        "   \n",
        "**2. Can we conclude statistically significant results?**\n",
        "\n",
        "  \n",
        "\n",
        "\n",
        "**3. Which statistical test did you use, and why?**\n",
        "   \n",
        "    \n",
        "**4. Based on your answer to Question 2, what would be your recommendation to client?**\n",
        "\n",
        "   "
      ],
      "metadata": {
        "id": "G5x0g1X1DK0G"
      }
    }
  ]
}