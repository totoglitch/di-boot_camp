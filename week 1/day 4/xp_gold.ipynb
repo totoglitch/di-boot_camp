{
  "nbformat": 4,
  "nbformat_minor": 0,
  "metadata": {
    "colab": {
      "provenance": []
    },
    "kernelspec": {
      "name": "python3",
      "display_name": "Python 3"
    },
    "language_info": {
      "name": "python"
    }
  },
  "cells": [
    {
      "cell_type": "markdown",
      "source": [
        "Exercise 1 : When will I retire ?\n",
        "Instructions\n",
        "The point of the exercise is to check if a person can retire depending on their age and their gender.\n",
        "Note : Let’s say retirement age is 67 for men, and 62 for women (born after April, 1947).\n",
        "\n",
        "Create a function get_age(year, month, day)\n",
        "Hard-code the current year and month in your code (there are better ways of doing this, but for now it will be enough.)\n",
        "After calculating the age of a person, the function should return the age (the age is an integer).\n",
        "Create a function can_retire(gender, date_of_birth).\n",
        "It should call the get_age function (with what arguments?) in order to receive an age.\n",
        "Now it has all the information it needs in order to determine if the person with the given gender and date of birth is able to retire or not.\n",
        "Calculate. You may need to do a little more hard-coding here.\n",
        "Return True if the person can retire, and False if he/she can’t.\n",
        "Some Hints\n",
        "\n",
        "Ask for the user’s gender as “m” or “f”.\n",
        "Ask for the user’s date of birth in the form of “yyyy/mm/dd”, eg. “1993/09/21”.\n",
        "Call can_retire to get a definite value for whether the person can or can’t retire.\n",
        "Display a message informing the user whether they can retire or not.\n",
        "As always, test your code to ensure it works.\n"
      ],
      "metadata": {
        "id": "t4qn_CnbK0eK"
      }
    },
    {
      "cell_type": "code",
      "source": [
        "import datetime\n",
        "\n",
        "def get_age(year, month, day):\n",
        "    today = datetime.date.today()\n",
        "    birthdate = datetime.date(year, month, day)\n",
        "    age = today.year - birthdate.year - ((today.month, today.day) < (birthdate.month, birthdate.day))\n",
        "    return age\n",
        "\n",
        "def can_retire(gender, date_of_birth):\n",
        "    year, month, day = map(int, date_of_birth.split('/'))\n",
        "    age = get_age(year, month, day)\n",
        "\n",
        "    if gender == 'm':\n",
        "        return age >= 70\n",
        "    elif gender == 'f':\n",
        "        if year > 1947 or (year == 1947 and month > 4):\n",
        "            return age >= 62\n",
        "        else:\n",
        "            return age >= 70\n",
        "    else:\n",
        "        return False\n",
        "\n",
        "gender = input(\"Enter your gender (m/f): \")\n",
        "date_of_birth = input(\"Enter your date of birth (yyyy/mm/dd): \")\n",
        "\n",
        "# Check if the person can retire\n",
        "if can_retire(gender, date_of_birth):\n",
        "    print(\"You can retire!\")\n",
        "else:\n",
        "    print(\"You cannot retire yet.\")\n"
      ],
      "metadata": {
        "colab": {
          "base_uri": "https://localhost:8080/"
        },
        "id": "zl-nP0haK5KS",
        "outputId": "17d62174-c752-4a11-f341-c09ac629d3f5"
      },
      "execution_count": 4,
      "outputs": [
        {
          "output_type": "stream",
          "name": "stdout",
          "text": [
            "Enter your gender (m/f): m\n",
            "Enter your date of birth (yyyy/mm/dd): 1995/01/23\n",
            "You cannot retire yet.\n"
          ]
        }
      ]
    },
    {
      "cell_type": "markdown",
      "source": [
        "Exercise 2 : Sum\n",
        "Instructions\n",
        "Write a function that accepts one parameter (an int: X) and returns the value of X+XX+XXX+XXXX.\n",
        "Example:\n",
        "If X=3, the output when calling our function should be 3702 (3 + 33 + 333 + 3333)\n",
        "\n",
        "Hint: treating our number as a int or a str at different points in our code may be helpful\n",
        "\n"
      ],
      "metadata": {
        "id": "E3CGUj9xLi0x"
      }
    },
    {
      "cell_type": "code",
      "source": [
        "def sum_numbers(x):\n",
        "   num_map = {\n",
        "        \"one\": 1,\n",
        "        \"two\": 2,\n",
        "        \"three\": 3,\n",
        "        \"four\": 4,\n",
        "        \"five\": 5,\n",
        "        \"six\": 6,\n",
        "        \"seven\": 7,\n",
        "        \"eight\": 8,\n",
        "        \"nine\": 9,\n",
        "        \"ten\": 10\n",
        "    }\n",
        "   try:\n",
        "        x = int(x)\n",
        "   except ValueError:\n",
        "    num=num_map.get(x.lower())\n",
        "    if num is None:\n",
        "        raise ValueError\n",
        "    x=num\n",
        "    x_str = str(x)\n",
        "    result = int(x_str) + int(x_str * 2) + int(x_str * 3) + int(x_str * 4)\n",
        "    return result\n",
        "    print(result)\n",
        "x=input(\"enter a number\")\n",
        "print(sum_numbers(x))"
      ],
      "metadata": {
        "colab": {
          "base_uri": "https://localhost:8080/"
        },
        "id": "CzpLaHvdLqms",
        "outputId": "404f20bc-20fd-4729-a98a-57ed0717bad2"
      },
      "execution_count": 25,
      "outputs": [
        {
          "output_type": "stream",
          "name": "stdout",
          "text": [
            "enter a numbersix\n",
            "7404\n"
          ]
        }
      ]
    },
    {
      "cell_type": "markdown",
      "source": [
        "Exercise 3 : Double Dice\n",
        "Instructions\n",
        "Create a function that will simulate the rolling of a dice. Call it throw_dice. It should return an integer between 1 and 6.\n",
        "Create a function called throw_until_doubles.\n",
        "It should keep throwing 2 dice (using your throw_dice function) until they both land on the same number, ie. until we reach doubles.\n",
        "For example: (1, 2), (3, 1), (5,5) → then stop throwing, because doubles were reached.\n",
        "This function should return the number of times it threw the dice in total. In the example above, it should return 3.\n",
        "\n",
        "Create a main function.\n",
        "It should throw doubles 100 times (ie. call your throw_until_doubles function 100 times), and store the results of those function calls (in other words, how many throws it took until doubles were thrown, each time) in a collection. (What kind of collection? Read below to understand what we will need the data for, and this should help you decide which data structure to use).\n",
        "\n",
        "After the 100 doubles are thrown, print out a message telling the user how many throws it took in total to reach 100 doubles.\n",
        "Also print out a message telling the user the average amount of throws it took to reach doubles. Round this off to 2 decimal places.\n",
        "For example:\n",
        "\n",
        "If the results of the throws were as follows (your code would do 100 doubles, not just 3):\n",
        "(1, 2), (3, 1), (5, 5)\n",
        "(3, 3)\n",
        "(2, 4), (1, 2), (3, 4), (2, 2)\n",
        "\n",
        "Then my output would show something like this:\n",
        "Total throws: 8\n",
        "Average throws to reach doubles: 2.67.\n"
      ],
      "metadata": {
        "id": "R8z8194oQLda"
      }
    },
    {
      "cell_type": "code",
      "source": [
        "import random\n",
        "\n",
        "def throw_dice():\n",
        "    return random.randint(1, 6)\n",
        "\n",
        "def throw_until_doubles():\n",
        "    count = 0\n",
        "    while True:\n",
        "        count += 1\n",
        "        dice1 = throw_dice()\n",
        "        dice2 = throw_dice()\n",
        "        if dice1 == dice2:\n",
        "            return count\n",
        "\n",
        "def main():\n",
        "    results = []\n",
        "    total_throws = 0\n",
        "    for _ in range(100):\n",
        "        throws = throw_until_doubles()\n",
        "        results.append(throws)\n",
        "        total_throws += throws\n",
        "\n",
        "    print(\"Total throws:\", total_throws)\n",
        "    print(f\"Average throws to reach doubles: {total_throws / 100:.2f}\")\n",
        "\n",
        "if __name__ == \"__main__\":\n",
        "    main()\n"
      ],
      "metadata": {
        "colab": {
          "base_uri": "https://localhost:8080/"
        },
        "id": "NO1d4cMFQSA-",
        "outputId": "5668bced-c783-41a6-f0fa-cb2554cabef7"
      },
      "execution_count": 26,
      "outputs": [
        {
          "output_type": "stream",
          "name": "stdout",
          "text": [
            "Total throws: 682\n",
            "Average throws to reach doubles: 6.82\n"
          ]
        }
      ]
    }
  ]
}