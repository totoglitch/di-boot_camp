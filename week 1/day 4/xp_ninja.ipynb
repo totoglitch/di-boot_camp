{
  "nbformat": 4,
  "nbformat_minor": 0,
  "metadata": {
    "colab": {
      "provenance": []
    },
    "kernelspec": {
      "name": "python3",
      "display_name": "Python 3"
    },
    "language_info": {
      "name": "python"
    }
  },
  "cells": [
    {
      "cell_type": "markdown",
      "source": [
        "Count occurence\n",
        "Write a program which takes a string and a character as an input, and finds out the number of occurrences the character has in the string.\n",
        "\n",
        "String: Programming is cool!\n",
        "Character: o\n",
        "3\n",
        "\n",
        "\n",
        "String: This is a great example\n",
        "Character: y\n",
        "0\n"
      ],
      "metadata": {
        "id": "MgyLSuzccGj5"
      }
    },
    {
      "cell_type": "code",
      "execution_count": 1,
      "metadata": {
        "colab": {
          "base_uri": "https://localhost:8080/"
        },
        "id": "mCeFIDzrby0X",
        "outputId": "87f99426-5716-4fd9-9439-e002d9a8ad4e"
      },
      "outputs": [
        {
          "output_type": "stream",
          "name": "stdout",
          "text": [
            "3\n",
            "0\n"
          ]
        }
      ],
      "source": [
        "# prompt: count occurnce\n",
        "\n",
        "def count_occurence(string, char):\n",
        "    count = 0\n",
        "    for c in string:\n",
        "        if c == char:\n",
        "            count += 1\n",
        "    return count\n",
        "string = \"Programming is cool!\"\n",
        "char = \"o\"\n",
        "print(count_occurence(string, char))\n",
        "\n",
        "string = \"This is a great example\"\n",
        "char = \"y\"\n",
        "print(count_occurence(string, char))\n"
      ]
    },
    {
      "cell_type": "markdown",
      "source": [
        "Exercise 1 : What’s your name ?\n",
        "Instructions\n",
        "Write a function called get_full_name() that takes three arguments: 1: first_name, 2: middle_name 3: last_name.\n",
        "middle_name should be optional, if it’s omitted by the user, the name returned should only contain the first and the last name.\n",
        "For example, get_full_name(first_name=\"john\", middle_name=\"hooker\", last_name=\"lee\") will return John Hooker Lee.\n",
        "But get_full_name(first_name=\"bruce\", last_name=\"lee\") will return Bruce Lee.\n",
        "\n"
      ],
      "metadata": {
        "id": "7w055dilcYyF"
      }
    },
    {
      "cell_type": "code",
      "source": [
        "def get_full_name(first_name, last_name, middle_name=\"\"):\n",
        "  if middle_name:\n",
        "    return f\"{first_name} {middle_name} {last_name}\"\n",
        "  else:\n",
        "    return f\"{first_name} {last_name}\"\n",
        "user_name =input(\"Enter your name: \")\n",
        "print(user_name)"
      ],
      "metadata": {
        "colab": {
          "base_uri": "https://localhost:8080/"
        },
        "id": "9Sy7KjLnc0M1",
        "outputId": "142e599f-45b4-454c-d49e-2048ff5529eb"
      },
      "execution_count": 8,
      "outputs": [
        {
          "output_type": "stream",
          "name": "stdout",
          "text": [
            "Enter your name: john whick\n",
            "john whick\n"
          ]
        }
      ]
    },
    {
      "cell_type": "markdown",
      "source": [
        "Exercise 2 : From English to Morse\n",
        "Instructions\n",
        "Write a function that converts English text to morse code and another one that does the opposite.\n",
        "Hint: Check the internet for a translation table, every letter is separated with a space and every word is separated with a slash /.\n",
        "\n"
      ],
      "metadata": {
        "id": "iRRVH9v5ddbD"
      }
    },
    {
      "cell_type": "code",
      "source": [
        "def english_to_morse(text):\n",
        "    \"\"\"Converts English text to Morse code.\"\"\"\n",
        "    MORSE_CODE_DICT = { 'A':'.-', 'B':'-...',\n",
        "                    'C':'-.-.', 'D':'-..', 'E':'.',\n",
        "                    'F':'..-.', 'G':'--.', 'H':'....',\n",
        "                    'I':'..', 'J':'.---', 'K':'-.-',\n",
        "                    'L':'.-..', 'M':'--', 'N':'-.',\n",
        "                    'O':'---', 'P':'.--.', 'Q':'--.-',\n",
        "                    'R':'.-.', 'S':'...', 'T':'-',\n",
        "                    'U':'..-', 'V':'...-', 'W':'.--',\n",
        "                    'X':'-..-', 'Y':'-.--', 'Z':'--..',\n",
        "                    '1':'.----', '2':'..---', '3':'...--',\n",
        "                    '4':'....-', '5':'.....', '6':'-....',\n",
        "                    '7':'--...', '8':'---..', '9':'----.',\n",
        "                    '0':'-----', ', ':'--..--', '.':'.-.-.-',\n",
        "                    '?':'..--..', '/':'-..-.', '-':'-....-',\n",
        "                    '(':'-.--.', ')':'-.--.-'}\n",
        "    morse_code = \"\"\n",
        "    for char in text.upper():\n",
        "        if char != \" \":\n",
        "            try:\n",
        "                morse_code += MORSE_CODE_DICT[char] + \" \"\n",
        "            except KeyError:\n",
        "\n",
        "                morse_code += char + \" \"\n",
        "        else:\n",
        "            morse_code += \"/ \"\n",
        "    return morse_code.strip()\n",
        "\n",
        "\n",
        "def morse_to_english(morse_code):\n",
        "    \"\"\"Converts Morse code to English text.\"\"\"\n",
        "\n",
        "    MORSE_CODE_DICT = { 'A':'.-', 'B':'-...',\n",
        "                    'C':'-.-.', 'D':'-..', 'E':'.',\n",
        "                    'F':'..-.', 'G':'--.', 'H':'....',\n",
        "                    'I':'..', 'J':'.---', 'K':'-.-',\n",
        "                    'L':'.-..', 'M':'--', 'N':'-.',\n",
        "                    'O':'---', 'P':'.--.', 'Q':'--.-',\n",
        "                    'R':'.-.', 'S':'...', 'T':'-',\n",
        "                    'U':'..-', 'V':'...-', 'W':'.--',\n",
        "                    'X':'-..-', 'Y':'-.--', 'Z':'--..',\n",
        "                    '1':'.----', '2':'..---', '3':'...--',\n",
        "                    '4':'....-', '5':'.....', '6':'-....',\n",
        "                    '7':'--...', '8':'---..', '9':'----.',\n",
        "                    '0':'-----', ', ':'--..--', '.':'.-.-.-',\n",
        "                    '?':'..--..', '/':'-..-.', '-':'-....-',\n",
        "                    '(':'-.--.', ')':'-.--.-'}\n",
        "\n",
        "    reverse_morse_dict = {value: key for key, value in MORSE_CODE_DICT.items()}\n",
        "\n",
        "    english_text = \"\"\n",
        "    words = morse_code.split(\"/ \")\n",
        "    for word in words:\n",
        "        letters = word.strip().split(\" \")\n",
        "        for letter in letters:\n",
        "            if letter in reverse_morse_dict:\n",
        "                english_text += reverse_morse_dict[letter]\n",
        "            else:\n",
        "                english_text += letter\n",
        "        english_text += \" \"\n",
        "    return english_text.strip()\n",
        "\n",
        "english_text = \"Hello World\"\n",
        "morse_code = english_to_morse(english_text)\n",
        "print(f\"English: {english_text}\")\n",
        "print(f\"Morse Code: {morse_code}\")\n",
        "\n",
        "decoded_text = morse_to_english(morse_code)\n",
        "print(f\"Decoded English: {decoded_text}\")\n"
      ],
      "metadata": {
        "colab": {
          "base_uri": "https://localhost:8080/"
        },
        "id": "HhZ9Ij_CdgGo",
        "outputId": "4c2b5222-5a52-4465-90fd-9763b1d241f3"
      },
      "execution_count": 9,
      "outputs": [
        {
          "output_type": "stream",
          "name": "stdout",
          "text": [
            "English: Hello World\n",
            "Morse Code: .... . .-.. .-.. --- / .-- --- .-. .-.. -..\n",
            "Decoded English: HELLO WORLD\n"
          ]
        }
      ]
    },
    {
      "cell_type": "markdown",
      "source": [
        "Exercise 3 : Box of stars\n",
        "Instructions\n",
        "Write a function named box_printer that takes any amount of strings (not in a list) and prints them, one per line, in a rectangular frame.\n",
        "For example calling box_printer(\"Hello\", \"World\", \"in\", \"reallylongword\", \"a\", \"frame\") will result as:\n",
        "\n",
        "******************\n",
        "* Hello          *\n",
        "* World          *\n",
        "* in             *\n",
        "* reallylongword *\n",
        "* a              *\n",
        "* frame          *\n",
        "******************\n"
      ],
      "metadata": {
        "id": "uOa_yu2Wd3vF"
      }
    },
    {
      "cell_type": "code",
      "source": [
        "def box_printer(*args):\n",
        "    \"\"\"Prints strings in a rectangular frame.\"\"\"\n",
        "\n",
        "    max_len = 0\n",
        "    for arg in args:\n",
        "        max_len = max(max_len, len(arg))\n",
        "\n",
        "    border_len = max_len + 4\n",
        "    print(\"*\" * border_len)\n",
        "\n",
        "    for arg in args:\n",
        "        padding = \" \" * (max_len - len(arg))\n",
        "        print(\"* \" + arg + padding + \" *\")\n",
        "\n",
        "    print(\"*\" * border_len)\n",
        "box_printer(\"Hello\", \"World\", \"in\", \"reallylongword\", \"a\", \"frame\")\n"
      ],
      "metadata": {
        "colab": {
          "base_uri": "https://localhost:8080/"
        },
        "collapsed": true,
        "id": "oraqMAp8d7D2",
        "outputId": "cc77f078-2a80-4c40-d0d8-9dd94ba8db71"
      },
      "execution_count": 10,
      "outputs": [
        {
          "output_type": "stream",
          "name": "stdout",
          "text": [
            "******************\n",
            "* Hello          *\n",
            "* World          *\n",
            "* in             *\n",
            "* reallylongword *\n",
            "* a              *\n",
            "* frame          *\n",
            "******************\n"
          ]
        }
      ]
    },
    {
      "cell_type": "markdown",
      "source": [
        "Exercise 4 : What is the purpose of this code?\n",
        "Analyse this code before executing it. What is the purpose of this code?\n",
        "\n",
        "def insertion_sort(alist):\n",
        "   for index in range(1,len(alist)):\n",
        "\n",
        "     currentvalue = alist[index]\n",
        "     position = index\n",
        "\n",
        "     while position>0 and alist[position-1]>currentvalue:\n",
        "         alist[position]=alist[position-1]\n",
        "         position = position-1\n",
        "\n",
        "     alist[position]=currentvalue\n",
        "\n",
        "alist = [54,26,93,17,77,31,44,55,20]\n",
        "insertion_sort(alist)\n",
        "print(alist)\n"
      ],
      "metadata": {
        "id": "vVDODqd_eEUY"
      }
    },
    {
      "cell_type": "code",
      "source": [
        "def insertion_sort(alist):\n",
        "   for index in range(1,len(alist)):\n",
        "\n",
        "     currentvalue = alist[index]\n",
        "     position = index\n",
        "\n",
        "     while position>0 and alist[position-1]>currentvalue:\n",
        "         alist[position]=alist[position-1]\n",
        "         position = position-1\n",
        "\n",
        "     alist[position]=currentvalue\n",
        "\n",
        "alist = [54,26,93,17,77,31,44,55,20]\n",
        "insertion_sort(alist)\n",
        "print(alist)"
      ],
      "metadata": {
        "colab": {
          "base_uri": "https://localhost:8080/"
        },
        "id": "G5j0-ZlBeXPX",
        "outputId": "020f7788-4169-499f-d2d8-b8a8d1cfd499"
      },
      "execution_count": 12,
      "outputs": [
        {
          "output_type": "stream",
          "name": "stdout",
          "text": [
            "[17, 20, 26, 31, 44, 54, 55, 77, 93]\n"
          ]
        }
      ]
    },
    {
      "cell_type": "code",
      "source": [
        "#insertion_sort(alist):  This function implements the insertion sort algorithm.\n",
        "# Insertion sort works by iterating through the list, picking an element, and placing it in its correct position within the already-sorted portion of the list.\n",
        "# The purpose of this code is to sort the provided list `alist` in ascending order."
      ],
      "metadata": {
        "id": "BVdQVHBJfoew"
      },
      "execution_count": null,
      "outputs": []
    }
  ]
}