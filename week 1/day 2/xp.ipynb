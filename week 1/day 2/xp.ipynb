{
  "nbformat": 4,
  "nbformat_minor": 0,
  "metadata": {
    "colab": {
      "provenance": []
    },
    "kernelspec": {
      "name": "python3",
      "display_name": "Python 3"
    },
    "language_info": {
      "name": "python"
    }
  },
  "cells": [
    {
      "cell_type": "markdown",
      "source": [
        " Exercise 1: Favorite Numbers\n",
        "Key Python Topics:\n",
        "\n",
        "Sets\n",
        "Adding/removing items in a set\n",
        "Set concatenation (using union)\n",
        "\n",
        "\n",
        "Instructions:\n",
        "\n",
        "Create a set called my_fav_numbers and populate it with your favorite numbers.\n",
        "Add two new numbers to the set.\n",
        "Remove the last number you added to the set.\n",
        "Create another set called friend_fav_numbers and populate it with your friend’s favorite numbers.\n",
        "Concatenate my_fav_numbers and friend_fav_numbers to create a new set called our_fav_numbers.\n",
        "Note: Sets are unordered collections, so ensure no duplicate numbers are added.\n"
      ],
      "metadata": {
        "id": "BpvYl5h8PZRS"
      }
    },
    {
      "cell_type": "code",
      "source": [
        "my_fav_numbers = {2, 4, 6, 8}\n",
        "my_fav_numbers.add(10)\n",
        "my_fav_numbers.add(18)\n",
        "my_fav_numbers.remove(18)\n",
        "friend_fav_numbers = {2, 8, 16, 34}\n",
        "our_fav_numbers = my_fav_numbers.union(friend_fav_numbers)\n",
        "print(our_fav_numbers)"
      ],
      "metadata": {
        "colab": {
          "base_uri": "https://localhost:8080/"
        },
        "id": "74coFfOLP6m3",
        "outputId": "d09496e0-7ad0-4ee1-9961-efa9d6692a66"
      },
      "execution_count": 6,
      "outputs": [
        {
          "output_type": "stream",
          "name": "stdout",
          "text": [
            "{2, 34, 4, 6, 8, 10, 16}\n"
          ]
        }
      ]
    },
    {
      "cell_type": "markdown",
      "source": [
        "Exercise 2: Tuple\n",
        "Key Python Topics:\n",
        "\n",
        "Tuples (immutability)\n",
        "\n",
        "\n",
        "Instructions:\n",
        "\n",
        "Given a tuple of integers, try to add more integers to the tuple.\n",
        "Hint: Tuples are immutable, meaning they cannot be changed after creation. Think about why you can’t add more integers to a tuple.\n"
      ],
      "metadata": {
        "id": "OqyA7UD4R2wj"
      }
    },
    {
      "cell_type": "code",
      "source": [
        "my_tuple = (1, 2, 5)\n",
        "#my_tuple.append(4)\n",
        "#my_tuple[0] = 8\n",
        "#beacuse tuples are immutables and it will raise an error if you try to add int to it"
      ],
      "metadata": {
        "collapsed": true,
        "id": "NZ1L-C7pSuAV"
      },
      "execution_count": 9,
      "outputs": []
    },
    {
      "cell_type": "markdown",
      "source": [
        "Exercise 3: List Manipulation\n",
        "Key Python Topics:\n",
        "\n",
        "Lists\n",
        "List methods: append, remove, insert, count, clear\n",
        "\n",
        "\n",
        "Instructions:\n",
        "\n",
        "You have a list: basket = [\"Banana\", \"Apples\", \"Oranges\", \"Blueberries\"]\n",
        "Remove \"Banana\" from the list.\n",
        "Remove \"Blueberries\" from the list.\n",
        "Add \"Kiwi\" to the end of the list.\n",
        "Add \"Apples\" to the beginning of the list.\n",
        "Count how many times \"Apples\" appear in the list.\n",
        "Empty the list.\n",
        "Print the fin"
      ],
      "metadata": {
        "id": "lNRQ4nulU9Du"
      }
    },
    {
      "cell_type": "code",
      "source": [
        "my_list = [\"Banana\", \"Apples\", \"Oranges\", \"Blueberries\"]\n",
        "my_list.remove(\"Banana\")\n",
        "my_list.remove(\"Blueberries\")\n",
        "my_list.append(\"Kiwi\")\n",
        "my_list.insert(0, \"Apples\")\n",
        "print(my_list.count(\"Apples\"))\n",
        "my_list.clear()\n",
        "print(my_list)"
      ],
      "metadata": {
        "id": "3bopEzN6VFRe"
      },
      "execution_count": null,
      "outputs": []
    },
    {
      "cell_type": "markdown",
      "source": [
        " Exercise 4: Floats\n",
        "Key Python Topics:\n",
        "\n",
        "Lists\n",
        "Floats and integers\n",
        "Range generation\n",
        "\n",
        "\n",
        "Instructions:\n",
        "\n",
        "Recap: What is a float? What’s the difference between a float and an integer?\n",
        "Create a list containing the following sequence of mixed floats and integers:\n",
        "1.5, 2, 2.5, 3, 3.5, 4, 4.5, 5.\n",
        "Avoid hard-coding each number manually.\n",
        "Think: Can you generate this sequence using a loop or another method?\n"
      ],
      "metadata": {
        "id": "9Ppr1NKcVak1"
      }
    },
    {
      "cell_type": "code",
      "source": [
        "# a float is not a whole number like : 1.2 , 3.6 , 5.7 while integer is a whole number like : 7,4,12\n",
        "my_list = [1.5, 2, 2.5, 3, 3.5, 4, 4.5, 5]\n",
        "print(my_list)\n",
        "my_list = []\n",
        "for i in range(1, 6):\n",
        "  my_list.append(i + 0.5)\n",
        "print(my_list)\n",
        "import numpy as np\n",
        "my_list = np.arange(1.5, 6.5, 0.5).tolist()\n",
        "print(my_list)"
      ],
      "metadata": {
        "colab": {
          "base_uri": "https://localhost:8080/"
        },
        "id": "UbfJ2K-pVgA7",
        "outputId": "77d9f024-a6bc-404c-b883-5f58b9cf7a4b"
      },
      "execution_count": 13,
      "outputs": [
        {
          "output_type": "stream",
          "name": "stdout",
          "text": [
            "[1.5, 2, 2.5, 3, 3.5, 4, 4.5, 5]\n"
          ]
        }
      ]
    },
    {
      "cell_type": "markdown",
      "source": [
        " Exercise 5: For Loop\n",
        "Key Python Topics:\n",
        "\n",
        "Loops (for)\n",
        "Range and indexing\n",
        "\n",
        "\n",
        "Instructions:\n",
        "\n",
        "Write a for loop to print all numbers from 1 to 20, inclusive.\n",
        "Write another for loop that prints every number from 1 to 20 where the index is even.\n"
      ],
      "metadata": {
        "id": "NmxoLO8tXP1h"
      }
    },
    {
      "cell_type": "code",
      "source": [
        "for i in range(1, 21):\n",
        "  print(i)\n",
        "for i in range(2, 21, 2):\n",
        "  print(i)\n"
      ],
      "metadata": {
        "colab": {
          "base_uri": "https://localhost:8080/"
        },
        "collapsed": true,
        "id": "y8WrNMkOXWgx",
        "outputId": "1fe42b1f-03c3-4251-de12-e06bacb5c6a3"
      },
      "execution_count": 21,
      "outputs": [
        {
          "output_type": "stream",
          "name": "stdout",
          "text": [
            "1\n",
            "2\n",
            "3\n",
            "4\n",
            "5\n",
            "6\n",
            "7\n",
            "8\n",
            "9\n",
            "10\n",
            "11\n",
            "12\n",
            "13\n",
            "14\n",
            "15\n",
            "16\n",
            "17\n",
            "18\n",
            "19\n",
            "20\n",
            "2\n",
            "4\n",
            "6\n",
            "8\n",
            "10\n",
            "12\n",
            "14\n",
            "16\n",
            "18\n",
            "20\n"
          ]
        }
      ]
    },
    {
      "cell_type": "markdown",
      "source": [
        " Exercise 6: While Loop\n",
        "Key Python Topics:\n",
        "\n",
        "Loops (while)\n",
        "Conditionals\n",
        "\n",
        "\n",
        "Instructions:\n",
        "\n",
        "Write a while loop that keeps asking the user to enter their name.\n",
        "Stop the loop if the user’s input is your name.\n"
      ],
      "metadata": {
        "id": "kkbjsmQzYMfm"
      }
    },
    {
      "cell_type": "code",
      "source": [
        "user_name = input(\"enter your name\")\n",
        "while user_name != \"tarek\":\n",
        "  user_name =input(\"enter your name\")\n",
        "  if user_name == \"tarek\":\n",
        "    break"
      ],
      "metadata": {
        "colab": {
          "base_uri": "https://localhost:8080/"
        },
        "collapsed": true,
        "id": "mGt0qzB5YQq1",
        "outputId": "5b3d7c4c-caa1-4f66-9db4-49dc451bf471"
      },
      "execution_count": 23,
      "outputs": [
        {
          "name": "stdout",
          "output_type": "stream",
          "text": [
            "enter your namemomo\n",
            "enter your namemama\n",
            "enter your namenada\n",
            "enter your nametarek\n"
          ]
        }
      ]
    },
    {
      "cell_type": "markdown",
      "source": [
        "\n",
        "🌟 Exercise 7: Favorite Fruits\n",
        "Key Python Topics:\n",
        "\n",
        "Input/output\n",
        "Strings and lists\n",
        "Conditionals\n",
        "\n",
        "\n",
        "Instructions:\n",
        "\n",
        "Ask the user to input their favorite fruits (they can input several fruits, separated by spaces).\n",
        "Store these fruits in a list.\n",
        "Ask the user to input the name of any fruit.\n",
        "If the fruit is in their list of favorite fruits, print:\n",
        "\"You chose one of your favorite fruits! Enjoy!\"\n",
        "If not, print:\n",
        "\"You chose a new fruit. I hope you enjoy it!\"\n"
      ],
      "metadata": {
        "id": "o7KSObC7ZDXu"
      }
    },
    {
      "cell_type": "code",
      "source": [
        "fav_fruits=input(\"put your fav fruits seperated by space\")\n",
        "user_fruit=input(\"enter your fruit\")\n",
        "if user_fruit in fav_fruits:\n",
        "  print(\"yay you chose one of your fav fruits\")\n",
        "else:\n",
        "  print(\"you chose a new fruit\")"
      ],
      "metadata": {
        "colab": {
          "base_uri": "https://localhost:8080/"
        },
        "id": "eV_aAwyMaY1m",
        "outputId": "d19e2962-8b00-4144-bb41-a5d273e90faa"
      },
      "execution_count": 29,
      "outputs": [
        {
          "output_type": "stream",
          "name": "stdout",
          "text": [
            "put your fav fruits seperated by spacemana,kokok,lop\n",
            "enter your fruitmana\n",
            "yay you chose one of your fav fruits\n"
          ]
        }
      ]
    },
    {
      "cell_type": "markdown",
      "source": [
        "\n",
        "🌟 Exercise 8: Pizza Toppings\n",
        "Key Python Topics:\n",
        "\n",
        "Loops\n",
        "Lists\n",
        "String formatting\n",
        "\n",
        "\n",
        "Instructions:\n",
        "\n",
        "Write a loop that asks the user to enter pizza toppings one by one.\n",
        "Stop the loop when the user types 'quit'.\n",
        "For each topping entered, print:\n",
        "\"Adding [topping] to your pizza.\"\n",
        "After exiting the loop, print all the toppings and the total cost of the pizza.\n",
        "The base price is $10, and each topping adds $2.50.\n"
      ],
      "metadata": {
        "id": "WWiIxqYBbm-W"
      }
    },
    {
      "cell_type": "code",
      "source": [
        "toppings = []\n",
        "price = 10.0\n",
        "\n",
        "while True:\n",
        "  topping = input(\"Enter a pizza topping (or 'quit' to finish): \")\n",
        "  if topping.lower() == 'quit':\n",
        "    break\n",
        "\n",
        "  print(f\"Adding {topping} to your pizza.\")\n",
        "  toppings.append(topping)\n",
        "  price += 2.50\n",
        "\n",
        "print(\"\\nYour pizza toppings:\")\n",
        "for topping in toppings:\n",
        "  print(topping)\n",
        "\n",
        "print(f\"\\nTotal price: ${price:.2f}\")\n"
      ],
      "metadata": {
        "colab": {
          "base_uri": "https://localhost:8080/"
        },
        "collapsed": true,
        "id": "oErrGZyzi3ve",
        "outputId": "8f477be5-34fe-43e4-a780-601593d5b5ee"
      },
      "execution_count": 56,
      "outputs": [
        {
          "output_type": "stream",
          "name": "stdout",
          "text": [
            "Enter a pizza topping (or 'quit' to finish): ggggf\n",
            "Adding ggggf to your pizza.\n",
            "Enter a pizza topping (or 'quit' to finish): rreeer\n",
            "Adding rreeer to your pizza.\n",
            "Enter a pizza topping (or 'quit' to finish): ttyytt\n",
            "Adding ttyytt to your pizza.\n",
            "Enter a pizza topping (or 'quit' to finish): quit\n",
            "\n",
            "Your pizza toppings:\n",
            "ggggf\n",
            "rreeer\n",
            "ttyytt\n",
            "\n",
            "Total price: $17.50\n"
          ]
        }
      ]
    },
    {
      "cell_type": "markdown",
      "source": [
        "\n",
        "🌟 Exercise 9: Cinemax Tickets\n",
        "Key Python Topics:\n",
        "\n",
        "Conditionals\n",
        "Lists\n",
        "Loops\n",
        "\n",
        "\n",
        "Instructions:\n",
        "\n",
        "Ask for the age of each person in a family who wants to buy a movie ticket.\n",
        "Calculate the total cost based on the following rules:\n",
        "Free for people under 3.\n",
        "$10 for people aged 3 to 12.\n",
        "$15 for anyone over 12.\n",
        "Print the total ticket cost.\n",
        "\n",
        "\n",
        "Bonus:\n",
        "\n",
        "Imagine a group of teenagers wants to see a restricted movie (only for ages 16–21).\n",
        "Write a program to:\n",
        "Ask for each person’s age.\n",
        "Remove anyone who isn’t allowed to watch.\n",
        "Print the final list of attendees.\n"
      ],
      "metadata": {
        "id": "Pw9Cqv4ljTPo"
      }
    },
    {
      "cell_type": "code",
      "source": [
        "total_cost = 0\n",
        "ages = []\n",
        "\n",
        "while True:\n",
        "    try:\n",
        "        age_str = input(\"Enter the age of the person (or type 'done' to finish): \")\n",
        "        if age_str.lower() == 'done':\n",
        "            break\n",
        "        age = int(age_str)\n",
        "        ages.append(age)\n",
        "        if age < 3:\n",
        "            cost = 0\n",
        "        elif 3 <= age <= 12:\n",
        "            cost = 10\n",
        "        else:\n",
        "            cost = 15\n",
        "        total_cost += cost\n",
        "    except ValueError:\n",
        "        print(\"Invalid input. Please enter a valid age or 'done'.\")\n",
        "\n",
        "print(\"\\nTotal ticket cost:\", total_cost)\n",
        "\n",
        "# Bonus: Restricted Movie\n",
        "\n",
        "allowed_attendees = []\n",
        "while True:\n",
        "    try:\n",
        "      age_str = input(\"Enter the age of a teenager (or type 'done' to finish): \")\n",
        "      if age_str.lower() == 'done':\n",
        "          break\n",
        "      age = int(age_str)\n",
        "      if 16 <= age <= 21:\n",
        "          allowed_attendees.append(age)\n",
        "      else:\n",
        "          print(\"This person is not allowed to watch the restricted movie.\")\n",
        "    except ValueError:\n",
        "        print(\"Invalid input. Please enter a valid age or 'done'.\")\n",
        "\n",
        "print(\"\\nFinal list of attendees' ages:\", allowed_attendees)\n"
      ],
      "metadata": {
        "id": "Wm-ec1qUjZCF"
      },
      "execution_count": null,
      "outputs": []
    },
    {
      "cell_type": "markdown",
      "source": [
        " Exercise 10: Sandwich Orders\n",
        "Key Python Topics:\n",
        "\n",
        "Lists\n",
        "Loops (while)\n",
        "\n",
        "\n",
        "Instructions:\n",
        "\n",
        "Using the list:\n",
        "sandwich_orders = [\"Tuna\", \"Pastrami\", \"Avocado\", \"Pastrami\", \"Egg\", \"Chicken\", \"Pastrami\"]\n",
        "The deli has run out of “Pastrami”, so use a loop to remove all instances of “Pastrami” from the list.\n",
        "Prepare each sandwich, one by one, and move them to a list called finished_sandwiches.\n",
        "Print a message for each sandwich made, such as: \"I made your Tuna sandwich.\"\n",
        "Print the final list of all finished sandwiches.\n"
      ],
      "metadata": {
        "id": "D2CCodOij7r-"
      }
    },
    {
      "cell_type": "code",
      "source": [
        "sandwich_orders = [\"tuna\",\"pastrami\",\"avocodo\",\"egg\",\"chicken\",\"pastrami\"]\n",
        "finished_sandwiches = []\n",
        "while \"pastrami\" in sandwich_orders:\n",
        "  sandwich_orders.remove(\"pastrami\")\n",
        "  print(sandwich_orders)\n",
        "  for sandwich in sandwich_orders:\n",
        "    print(f\"I made your {sandwich} sandwich.\")\n",
        "    finished_sandwiches.append(sandwich)\n",
        "print(finished_sandwiches)"
      ],
      "metadata": {
        "colab": {
          "base_uri": "https://localhost:8080/"
        },
        "collapsed": true,
        "id": "gEvHQhsRlS0Q",
        "outputId": "b5c31dd0-8ad0-43c5-d54e-ba5c110e136f"
      },
      "execution_count": 62,
      "outputs": [
        {
          "output_type": "stream",
          "name": "stdout",
          "text": [
            "['tuna', 'avocodo', 'egg', 'chicken', 'pastrami']\n",
            "I made your tuna sandwich.\n",
            "I made your avocodo sandwich.\n",
            "I made your egg sandwich.\n",
            "I made your chicken sandwich.\n",
            "I made your pastrami sandwich.\n",
            "['tuna', 'avocodo', 'egg', 'chicken']\n",
            "I made your tuna sandwich.\n",
            "I made your avocodo sandwich.\n",
            "I made your egg sandwich.\n",
            "I made your chicken sandwich.\n",
            "['tuna', 'avocodo', 'egg', 'chicken', 'pastrami', 'tuna', 'avocodo', 'egg', 'chicken']\n"
          ]
        }
      ]
    }
  ]
}