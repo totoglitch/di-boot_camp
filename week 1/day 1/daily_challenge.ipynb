{
  "nbformat": 4,
  "nbformat_minor": 0,
  "metadata": {
    "colab": {
      "provenance": []
    },
    "kernelspec": {
      "name": "python3",
      "display_name": "Python 3"
    },
    "language_info": {
      "name": "python"
    }
  },
  "cells": [
    {
      "cell_type": "markdown",
      "source": [
        "Challenge 1: Multiples of a Number\n",
        "\n",
        "\n",
        "Key Python Topics:\n",
        "input() function\n",
        "Loops (for or while)\n",
        "Lists and appending items\n",
        "Basic arithmetic (multiplication)\n",
        "\n",
        "\n",
        "Instructions:\n",
        "1. Ask the user for two inputs:\n",
        "\n",
        "A number (integer).\n",
        "A length (integer).\n",
        "2. Create a program that generates a list of multiples of the given number.\n",
        "3. The list should stop when it reaches the length specified by the user.\n",
        "\n",
        "\n",
        "\n",
        "Example 1:\n",
        "\n",
        "Input:\n",
        "\n",
        "number: 7\n",
        "length: 5\n",
        "Output:\n",
        "\n",
        "[7, 14, 21, 28, 35]\n",
        "\n",
        "\n",
        "\n",
        "Example 2:\n",
        "\n",
        "Input:\n",
        "\n",
        "number: 12\n",
        "length: 10\n",
        "Output:\n",
        "\n",
        "[12, 24, 36, 48, 60, 72, 84, 96, 108, 120]\n",
        "\n",
        "\n",
        "\n",
        "Example 3:\n",
        "\n",
        "Input:\n",
        "number: 17\n",
        "length: 6\n",
        "Output:\n",
        "[17, 34, 51, 68, 85, 102]\n",
        "\n"
      ],
      "metadata": {
        "id": "fdgCbvEC-W9l"
      }
    },
    {
      "cell_type": "code",
      "source": [
        "number= int(input(\"Enter a number: \"))\n",
        "length= int(input(\"Enter the length of the list: \"))\n",
        "multiples= []\n",
        "for i in range(1, length + 1):\n",
        "  multiples.append(number * i)\n",
        "multiples\n",
        "\n",
        "\n",
        "multiples= []\n",
        "for i in range(1, length + 1):\n",
        "  multiples.append(number * i)\n",
        "\n",
        "multiples"
      ],
      "metadata": {
        "colab": {
          "base_uri": "https://localhost:8080/"
        },
        "id": "alht_jRy-1rp",
        "outputId": "e85495dd-ef68-4af1-efef-4dc35c9a51d6"
      },
      "execution_count": 3,
      "outputs": [
        {
          "name": "stdout",
          "output_type": "stream",
          "text": [
            "Enter a number: 5\n",
            "Enter the length of the list: 10\n"
          ]
        },
        {
          "output_type": "execute_result",
          "data": {
            "text/plain": [
              "[5, 10, 15, 20, 25, 30, 35, 40, 45, 50]"
            ]
          },
          "metadata": {},
          "execution_count": 3
        }
      ]
    },
    {
      "cell_type": "markdown",
      "source": [
        "\n",
        "Challenge 2: Remove Consecutive Duplicate Letters\n",
        "\n",
        "\n",
        "Key Python Topics:\n",
        "input() function\n",
        "Strings and string manipulation\n",
        "Loops (for or while)\n",
        "Conditional statements (if)\n",
        "\n",
        "\n",
        "Instructions:\n",
        "1. Ask the user for a string.\n",
        "2. Write a program that processes the string to remove consecutive duplicate letters.\n",
        "\n",
        "The new string should only contain unique consecutive letters.\n",
        "For example, “ppoeemm” should become “poem” (removes consecutive duplicates like ‘pp’, ‘ee’, and ‘mm’).\n",
        "3. The program should print the modified string.\n",
        "\n",
        "\n",
        "\n",
        "Example 1:\n",
        "\n",
        "Input:\n",
        "user’s word: \"ppoeemm\"\n",
        "Output:\n",
        "\"poem\"\n",
        "\n",
        "\n",
        "\n",
        "Example 2:\n",
        "\n",
        "Input:\n",
        "user’s word: \"wiiiinnnnd\"\n",
        "Output:\n",
        "\"wind\"\n",
        "\n",
        "\n",
        "\n",
        "Example 3:\n",
        "\n",
        "Input:\n",
        "user’s word: \"ttiiitllleeee\"\n",
        "Output:\n",
        "\"title\"\n",
        "\n",
        "\n",
        "\n",
        "Example 4:\n",
        "\n",
        "Input:\n",
        "user’s word: \"cccccaaarrrbbonnnnn\"\n",
        "Output:\n",
        "\"carbon\"\n",
        "\n",
        "\n",
        "\n",
        "Notes:\n",
        "The final string will not include any consecutive duplicates, but non-consecutive duplicates are allowed.\n",
        "Example: In \"carbon\", the two ‘r’s are allowed because they are not consecutive.\n"
      ],
      "metadata": {
        "id": "5mMip9LE_ji6"
      }
    },
    {
      "cell_type": "code",
      "source": [
        "def remove_consecutive_duplicates(word):\n",
        "  if not word:\n",
        "    return \"\"\n",
        "\n",
        "  new_word = \"\"\n",
        "  new_word += word[0]\n",
        "  for i in range(1, len(word)):\n",
        "    if word[i] != word[i-1]:\n",
        "      new_word += word[i]\n",
        "  return new_word\n",
        "user_word = input(\"Enter a word: \")\n",
        "result = remove_consecutive_duplicates(user_word)\n",
        "result\n"
      ],
      "metadata": {
        "colab": {
          "base_uri": "https://localhost:8080/",
          "height": 53
        },
        "id": "PqYFBr8y_s9B",
        "outputId": "9340f4b5-275a-493e-c4c0-85e42ba6b62b"
      },
      "execution_count": 4,
      "outputs": [
        {
          "name": "stdout",
          "output_type": "stream",
          "text": [
            "Enter a word: ttttiiiiittttllllee\n"
          ]
        },
        {
          "output_type": "execute_result",
          "data": {
            "text/plain": [
              "'title'"
            ],
            "application/vnd.google.colaboratory.intrinsic+json": {
              "type": "string"
            }
          },
          "metadata": {},
          "execution_count": 4
        }
      ]
    }
  ]
}