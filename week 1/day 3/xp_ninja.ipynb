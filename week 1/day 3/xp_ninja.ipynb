{
  "nbformat": 4,
  "nbformat_minor": 0,
  "metadata": {
    "colab": {
      "provenance": []
    },
    "kernelspec": {
      "name": "python3",
      "display_name": "Python 3"
    },
    "language_info": {
      "name": "python"
    }
  },
  "cells": [
    {
      "cell_type": "markdown",
      "source": [
        "Here is the starter python code :\n",
        "\n",
        "REverseinp= raw_input()\n",
        "\n",
        "#write down your logic here\n",
        "\n",
        "print(reversed)\n"
      ],
      "metadata": {
        "id": "QejNNZddC1a6"
      }
    },
    {
      "cell_type": "code",
      "source": [
        "user_input='hello my name is ali'\n",
        "reversed=user_input[::-1]\n",
        "print(user_input)\n",
        "print(reversed)\n"
      ],
      "metadata": {
        "colab": {
          "base_uri": "https://localhost:8080/"
        },
        "id": "lj-O8XgbC9Xd",
        "outputId": "5a769096-72d1-4d12-ac20-44670b197796"
      },
      "execution_count": 6,
      "outputs": [
        {
          "output_type": "stream",
          "name": "stdout",
          "text": [
            "hello my name is ali\n",
            "ila si eman ym olleh\n"
          ]
        }
      ]
    },
    {
      "cell_type": "markdown",
      "source": [
        "Perfect number\n",
        "A perfect number is a positive integer that is equal to the sum of its divisors.\n",
        "However, the number itself is not included in the sum.\n",
        "\n",
        "Ask the user for a number and print whether or not it is a perfect number. If yes, print True else False.\n",
        "Hint: Google perfect numbers\n",
        "Example\n",
        "\n",
        "Input -- Enter the number:6\n",
        "Output -- True\n",
        "\n",
        "Input -- Enter the number:10\n",
        "Output --  False\n",
        "You have 3"
      ],
      "metadata": {
        "id": "eDvckPRJElgd"
      }
    },
    {
      "cell_type": "code",
      "source": [
        "x = int(input('Enter the Number:'))\n",
        "def is_perfect_number(n):\n",
        "  sum = 0\n",
        "  for x in range(1, n):\n",
        "    if n % x == 0:\n",
        "      sum += x\n",
        "  return sum == n\n",
        "if  is_perfect_number(x):\n",
        "  print('True')\n",
        "else:\n",
        "  print('False')"
      ],
      "metadata": {
        "colab": {
          "base_uri": "https://localhost:8080/"
        },
        "id": "gH72Sj2NFPzk",
        "outputId": "b643f0ce-1d5c-424e-beeb-ce0a9092595d"
      },
      "execution_count": 17,
      "outputs": [
        {
          "output_type": "stream",
          "name": "stdout",
          "text": [
            "Enter the Number:8\n",
            "False\n"
          ]
        }
      ]
    },
    {
      "cell_type": "markdown",
      "source": [
        "Exercise 1 : Cars\n",
        "Instructions\n",
        "Copy the following string into your code: \"Volkswagen, Toyota, Ford Motor, Honda, Chevrolet\".\n",
        "Convert it into a list using Python (don’t do it by hand!).\n",
        "Print out a message saying how many manufacturers/companies are in the list.\n",
        "Print the list of manufacturers in reverse/descending order (Z-A).\n",
        "Using loops or list comprehension:\n",
        "Find out how many manufacturers’ names have the letter ‘o’ in them.\n",
        "Find out how many manufacturers’ names do not have the letter ‘i’ in them.\n",
        "\n",
        "Bonus: There are a few duplicates in this list:[\"Honda\",\"Volkswagen\", \"Toyota\", \"Ford Motor\", \"Honda\", \"Chevrolet\", \"Toyota\"]\n",
        "Remove these programmatically. (Hint: you can use set to help you).\n",
        "Print out the companies without duplicates, in a comma-separated string with no line-breaks (eg. “Acura, Alfa Romeo, Aston Martin, …”), also print out a message saying how many companies are now in the list.\n",
        "\n",
        "Bonus: Print out the list of manufacturers in ascending order (A-Z), but reverse the letters of each manufacturer’s name.\n"
      ],
      "metadata": {
        "id": "OOuQOqs_GQ8I"
      }
    },
    {
      "cell_type": "code",
      "source": [
        "car_manufacturers = \"Volkswagen, Toyota, Ford Motor, Honda, Chevrolet\"\n",
        "manufacturers_list = [manufacturer.strip() for manufacturer in car_manufacturers.split(',')]\n",
        "\n",
        "num_manufacturers = len(manufacturers_list)\n",
        "print(f\"There are {num_manufacturers} manufacturers in the list.\")\n",
        "\n",
        "manufacturers_list.sort(reverse=True)\n",
        "print(\"Manufacturers in reverse order:\", manufacturers_list)\n",
        "\n",
        "count_o = sum(1 for manufacturer in manufacturers_list if 'o' in manufacturer.lower())\n",
        "print(f\"Number of manufacturers with 'o': {count_o}\")\n",
        "\n",
        "count_no_i = sum(1 for manufacturer in manufacturers_list if 'i' not in manufacturer.lower())\n",
        "print(f\"Number of manufacturers without 'i': {count_no_i}\")\n",
        "\n",
        "duplicate_list = [\"Honda\",\"Volkswagen\", \"Toyota\", \"Ford Motor\", \"Honda\", \"Chevrolet\", \"Toyota\"]\n",
        "unique_manufacturers = list(set(duplicate_list))\n",
        "print(\"Unique manufacturers:\", \", \".join(unique_manufacturers))\n",
        "print(f\"Number of unique manufacturers: {len(unique_manufacturers)}\")\n",
        "\n",
        "unique_manufacturers.sort()\n",
        "reversed_manufacturers = [manufacturer[::-1] for manufacturer in unique_manufacturers]\n",
        "print(\"Reversed manufacturers (A-Z):\", reversed_manufacturers)\n"
      ],
      "metadata": {
        "colab": {
          "base_uri": "https://localhost:8080/"
        },
        "id": "3s-4VYftGaiE",
        "outputId": "0c79bb98-5a7e-447b-e539-385ace0e51d4"
      },
      "execution_count": 18,
      "outputs": [
        {
          "output_type": "stream",
          "name": "stdout",
          "text": [
            "There are 5 manufacturers in the list.\n",
            "Manufacturers in reverse order: ['Volkswagen', 'Toyota', 'Honda', 'Ford Motor', 'Chevrolet']\n",
            "Number of manufacturers with 'o': 5\n",
            "Number of manufacturers without 'i': 5\n",
            "Unique manufacturers: Volkswagen, Ford Motor, Chevrolet, Honda, Toyota\n",
            "Number of unique manufacturers: 5\n",
            "Reversed manufacturers (A-Z): ['telorvehC', 'rotoM droF', 'adnoH', 'atoyoT', 'negawskloV']\n"
          ]
        }
      ]
    }
  ]
}