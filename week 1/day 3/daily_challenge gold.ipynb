{
  "nbformat": 4,
  "nbformat_minor": 0,
  "metadata": {
    "colab": {
      "provenance": []
    },
    "kernelspec": {
      "name": "python3",
      "display_name": "Python 3"
    },
    "language_info": {
      "name": "python"
    }
  },
  "cells": [
    {
      "cell_type": "markdown",
      "source": [
        "Instructions\n",
        "In cryptography, a Caesar cipher is one of the simplest and most widely known encryption techniques.\n",
        "It is a type of substitution cipher in which each letter in the plaintext is replaced by a letter some fixed number of positions down the alphabet.\n",
        "\n",
        "For example, with a left shift of 3 –> D would be replaced by A,\n",
        "–> E would become B, and so on.\n",
        "\n",
        "The method is named after Julius Caesar, who used it in his private correspondence.\n",
        "\n",
        "Create a python program that encrypts and decrypts messages with ceasar cypher.\n",
        "The user enters the program, and then the program asks him if he wants to encrypt or decrypt, and then execute encryption/decryption on a given message and a given shift.\n",
        "\n",
        "Check out this tutorial\n",
        "\n",
        "Hint:\n",
        "\n",
        "for letter in text:\n",
        "    cypher_text += chr(ord(letter) + 3)\n"
      ],
      "metadata": {
        "id": "6quX52F9H3LR"
      }
    },
    {
      "cell_type": "code",
      "execution_count": 2,
      "metadata": {
        "colab": {
          "base_uri": "https://localhost:8080/"
        },
        "id": "R6FAE2P1HHC0",
        "outputId": "f41b0344-8771-4986-b465-f4035d078a70"
      },
      "outputs": [
        {
          "output_type": "stream",
          "name": "stdout",
          "text": [
            "Do you want to encrypt or decrypt? (e/d): e\n",
            "Enter the message: go left\n",
            "Enter the shift value: 3\n",
            "Encrypted message: jr ohiw\n"
          ]
        }
      ],
      "source": [
        "def caesar_cipher(text, shift, mode):\n",
        "    result = ''\n",
        "    for char in text:\n",
        "        if char.isalpha():\n",
        "            start = ord('a') if char.islower() else ord('A')\n",
        "            shifted_char = chr((ord(char) - start + shift) % 26 + start)\n",
        "        elif char.isdigit():\n",
        "            shifted_char = str((int(char) + shift) % 10)\n",
        "        else:\n",
        "            shifted_char = char\n",
        "        result += shifted_char\n",
        "    return result\n",
        "\n",
        "choice = input(\"Do you want to encrypt or decrypt? (e/d): \").lower()\n",
        "message = input(\"Enter the message: \")\n",
        "shift = int(input(\"Enter the shift value: \"))\n",
        "\n",
        "if choice == 'e':\n",
        "  encrypted_message = caesar_cipher(message, shift, \"encrypt\")\n",
        "  print(\"Encrypted message:\", encrypted_message)\n",
        "elif choice == 'd':\n",
        "  decrypted_message = caesar_cipher(message, -shift, \"decrypt\")\n",
        "  print(\"Decrypted message:\", decrypted_message)\n",
        "else:\n",
        "  print(\"Invalid choice.\")\n"
      ]
    }
  ]
}