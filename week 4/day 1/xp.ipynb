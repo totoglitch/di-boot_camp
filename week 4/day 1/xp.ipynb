{
  "nbformat": 4,
  "nbformat_minor": 0,
  "metadata": {
    "colab": {
      "provenance": []
    },
    "kernelspec": {
      "name": "python3",
      "display_name": "Python 3"
    },
    "language_info": {
      "name": "python"
    }
  },
  "cells": [
    {
      "cell_type": "markdown",
      "source": [
        "Exercise 1 : Array Creation and Manipulation\n",
        "Instructions\n",
        "Create a 1D NumPy array containing numbers from 0 to 9.\n",
        "\n",
        "Expected Output:\n",
        "\n",
        "\n",
        "\n",
        "array([0, 1, 2, 3, 4, 5, 6, 7, 8, 9])\n"
      ],
      "metadata": {
        "id": "dLlnhaJtkbH3"
      }
    },
    {
      "cell_type": "code",
      "execution_count": 2,
      "metadata": {
        "colab": {
          "base_uri": "https://localhost:8080/"
        },
        "id": "U3nbPksnkZc0",
        "outputId": "d956b425-3aa8-46c6-fce2-6cac5a8d19a1"
      },
      "outputs": [
        {
          "output_type": "execute_result",
          "data": {
            "text/plain": [
              "array([0, 1, 2, 3, 4, 5, 6, 7, 8, 9])"
            ]
          },
          "metadata": {},
          "execution_count": 2
        }
      ],
      "source": [
        "import numpy as np\n",
        "array = np.arange(10)\n",
        "array"
      ]
    },
    {
      "cell_type": "markdown",
      "source": [
        "\n",
        "🌟 Exercise 2 : Type Conversion and Array Operations\n",
        "Instructions\n",
        "Convert a list [3.14, 2.17, 0, 1, 2] into a NumPy array and convert its data type to integer.\n",
        "\n",
        "Expected Output:\n",
        "\n",
        "\n",
        "\n",
        "array([3, 2, 0, 1, 2])\n"
      ],
      "metadata": {
        "id": "CFH0kasUkyFG"
      }
    },
    {
      "cell_type": "code",
      "source": [
        "my_list = [3.14, 2.17, 0, 1, 2]\n",
        "my_array = np.array(my_list, dtype=int)\n",
        "my_array"
      ],
      "metadata": {
        "colab": {
          "base_uri": "https://localhost:8080/"
        },
        "collapsed": true,
        "id": "q_TLj_hmk3OE",
        "outputId": "2c43dfbd-2831-4546-e87d-9905d425640c"
      },
      "execution_count": 3,
      "outputs": [
        {
          "output_type": "execute_result",
          "data": {
            "text/plain": [
              "array([3, 2, 0, 1, 2])"
            ]
          },
          "metadata": {},
          "execution_count": 3
        }
      ]
    },
    {
      "cell_type": "markdown",
      "source": [
        "Exercise 3 : Working with Multi-Dimensional Arrays\n",
        "Instructions\n",
        "Create a 3x3 NumPy array with values ranging from 1 to 9.\n",
        "\n",
        "Expected Output:\n",
        "\n",
        "\n",
        "\n",
        "array([[1, 2, 3],\n",
        "       [4, 5, 6],\n",
        "       [7, 8, 9]])\n"
      ],
      "metadata": {
        "id": "ab9WKN63lRdZ"
      }
    },
    {
      "cell_type": "code",
      "source": [
        "array_3x3 = np.arange(1, 10).reshape(3, 3)\n",
        "array_3x3"
      ],
      "metadata": {
        "colab": {
          "base_uri": "https://localhost:8080/"
        },
        "collapsed": true,
        "id": "6Wwd1hZFlcWs",
        "outputId": "ab8a5720-2843-44e8-cb12-59fc111f9fec"
      },
      "execution_count": 4,
      "outputs": [
        {
          "output_type": "execute_result",
          "data": {
            "text/plain": [
              "array([[1, 2, 3],\n",
              "       [4, 5, 6],\n",
              "       [7, 8, 9]])"
            ]
          },
          "metadata": {},
          "execution_count": 4
        }
      ]
    },
    {
      "cell_type": "markdown",
      "source": [
        "Exercise 4 : Creating Multi-Dimensional Array with Random Numbers\n",
        "Instructions\n",
        "Create a 2D NumPy array of shape (4, 5) filled with random numbers.\n",
        "\n",
        "Expected Output:\n",
        "\n",
        "\n",
        "\n",
        "array([[0.56, 0.85, 0.01, 0.42, 0.68],\n",
        "       [0.22, 0.37, 0.73, 0.93, 0.39],\n",
        "       [0.44, 0.03, 0.87, 0.02, 0.83],\n",
        "       [0.78, 0.87, 0.98, 0.80, 0.46]])\n"
      ],
      "metadata": {
        "id": "sEcsQ2Tvlw_t"
      }
    },
    {
      "cell_type": "code",
      "source": [
        "random_array=np.random.rand(4,5)\n",
        "random_array"
      ],
      "metadata": {
        "colab": {
          "base_uri": "https://localhost:8080/"
        },
        "collapsed": true,
        "id": "FTnuOCUEmREe",
        "outputId": "e356097a-8fe9-45c2-ef3b-275f13c4c07c"
      },
      "execution_count": 6,
      "outputs": [
        {
          "output_type": "execute_result",
          "data": {
            "text/plain": [
              "array([[0.47865744, 0.11955589, 0.52754673, 0.65573978, 0.45315256],\n",
              "       [0.28697983, 0.02879517, 0.94928081, 0.7504047 , 0.5114779 ],\n",
              "       [0.69867081, 0.75475424, 0.43439316, 0.03746867, 0.6057036 ],\n",
              "       [0.59224292, 0.42370172, 0.60737186, 0.36626102, 0.93604957]])"
            ]
          },
          "metadata": {},
          "execution_count": 6
        }
      ]
    },
    {
      "cell_type": "markdown",
      "source": [
        "Exercise 5 : Indexing Arrays\n",
        "Instructions\n",
        "Select the second row from a given 2D NumPy array.\n",
        "\n",
        "Expected Output:\n",
        "\n",
        "\n",
        "\n",
        "array = np.array([[21,22,23,22,22],[20, 21, 22, 23, 24],[21,22,23,22,22]])\n"
      ],
      "metadata": {
        "id": "bcyvpt0img1t"
      }
    },
    {
      "cell_type": "code",
      "source": [
        "array = np.array([[21,22,23,22,22],[20, 21, 22, 23, 24],[21,22,23,22,22]])\n",
        "second_row = array[1]\n",
        "second_row"
      ],
      "metadata": {
        "colab": {
          "base_uri": "https://localhost:8080/"
        },
        "id": "SqOm6kAKmn76",
        "outputId": "77e6821e-8f14-40ac-ffcf-9f65b154000f"
      },
      "execution_count": 7,
      "outputs": [
        {
          "output_type": "execute_result",
          "data": {
            "text/plain": [
              "array([20, 21, 22, 23, 24])"
            ]
          },
          "metadata": {},
          "execution_count": 7
        }
      ]
    },
    {
      "cell_type": "markdown",
      "source": [
        "Exercise 6 : Reversing elements\n",
        "Instructions\n",
        "Reverse the order of elements in a given 1D NumPy array (first element becomes last).\n",
        "\n",
        "Expected Output:\n",
        "\n",
        "\n",
        "\n",
        "array([9, 8, 7, 6, 5, 4, 3, 2, 1, 0])\n"
      ],
      "metadata": {
        "id": "exyk-qLNnAFE"
      }
    },
    {
      "cell_type": "code",
      "source": [
        "array= np.arange(10)\n",
        "reversed_array = np.flip(array)\n",
        "reversed_array"
      ],
      "metadata": {
        "colab": {
          "base_uri": "https://localhost:8080/"
        },
        "collapsed": true,
        "id": "UE-hgDnYnRsH",
        "outputId": "6e9c6723-fb2e-4967-f9c6-473f9e6d5529"
      },
      "execution_count": 11,
      "outputs": [
        {
          "output_type": "execute_result",
          "data": {
            "text/plain": [
              "array([9, 8, 7, 6, 5, 4, 3, 2, 1, 0])"
            ]
          },
          "metadata": {},
          "execution_count": 11
        }
      ]
    },
    {
      "cell_type": "markdown",
      "source": [
        " Exercise 7 : Identity Matrix\n",
        "Instructions\n",
        "Create a 4x4 identity matrix using NumPy.\n",
        "\n",
        "Expected Output:\n",
        "\n",
        "\n",
        "\n",
        "array([[1., 0., 0., 0.],\n",
        "       [0., 1., 0., 0.],\n",
        "       [0., 0., 1., 0.],\n",
        "       [0., 0., 0., 1.]])\n"
      ],
      "metadata": {
        "id": "0y7VMcKWn2eu"
      }
    },
    {
      "cell_type": "code",
      "source": [
        "identity_matrix = np.eye(4)\n",
        "identity_matrix"
      ],
      "metadata": {
        "colab": {
          "base_uri": "https://localhost:8080/"
        },
        "collapsed": true,
        "id": "PS3VKUCon7IJ",
        "outputId": "4431a3ff-556f-4523-ef74-43f352bb1b36"
      },
      "execution_count": 12,
      "outputs": [
        {
          "output_type": "execute_result",
          "data": {
            "text/plain": [
              "array([[1., 0., 0., 0.],\n",
              "       [0., 1., 0., 0.],\n",
              "       [0., 0., 1., 0.],\n",
              "       [0., 0., 0., 1.]])"
            ]
          },
          "metadata": {},
          "execution_count": 12
        }
      ]
    },
    {
      "cell_type": "markdown",
      "source": [
        "\n",
        "🌟 Exercise 8 : Simple Aggregate Funcs\n",
        "Instructions\n",
        "Find the sum and average of a given 1D array.\n",
        "\n",
        "Expected Output:\n",
        "\n",
        "\n",
        "\n",
        "Sum: 45, Average: 4.5\n"
      ],
      "metadata": {
        "id": "XvyJuAjkoIGQ"
      }
    },
    {
      "cell_type": "code",
      "source": [
        "array = np.arange(10)\n",
        "array_sum = np.sum(array)\n",
        "array_avg = np.mean(array)\n",
        "print(f\"Sum: {array_sum}, Average: {array_avg}\")"
      ],
      "metadata": {
        "colab": {
          "base_uri": "https://localhost:8080/"
        },
        "id": "a5TbTMjXoQwc",
        "outputId": "85a5a690-2951-40a2-ffd6-a8470ecc2174"
      },
      "execution_count": 16,
      "outputs": [
        {
          "output_type": "stream",
          "name": "stdout",
          "text": [
            "Sum: 45, Average: 4.5\n"
          ]
        }
      ]
    },
    {
      "cell_type": "markdown",
      "source": [
        " Exercise 9 : Create Array and Change its Structure\n",
        "Instructions\n",
        "Create a NumPy array with elements from 1 to 20; then reshape it into a 4x5 matrix.\n",
        "\n",
        "Expected Output:\n",
        "\n",
        "\n",
        "\n",
        "array([[ 1,  2,  3,  4,  5],\n",
        "       [ 6,  7,  8,  9, 10],\n",
        "       [11, 12, 13, 14, 15],\n",
        "       [16, 17, 18, 19, 20]])\n"
      ],
      "metadata": {
        "id": "_4WWeF9yoxlx"
      }
    },
    {
      "cell_type": "code",
      "source": [
        "array = np.arange(1, 21).reshape(4, 5)\n",
        "array"
      ],
      "metadata": {
        "colab": {
          "base_uri": "https://localhost:8080/"
        },
        "collapsed": true,
        "id": "BBgVeCc-pHFl",
        "outputId": "eb6040ff-01c0-4546-abcd-1f0dd52b0eef"
      },
      "execution_count": 21,
      "outputs": [
        {
          "output_type": "execute_result",
          "data": {
            "text/plain": [
              "array([[ 1,  2,  3,  4,  5],\n",
              "       [ 6,  7,  8,  9, 10],\n",
              "       [11, 12, 13, 14, 15],\n",
              "       [16, 17, 18, 19, 20]])"
            ]
          },
          "metadata": {},
          "execution_count": 21
        }
      ]
    },
    {
      "cell_type": "markdown",
      "source": [
        " Exercise 10 : Conditional Selection of Values\n",
        "Instructions\n",
        "Extract all odd numbers from a given NumPy array.\n",
        "\n",
        "Expected Output:\n",
        "\n",
        "\n",
        "\n",
        "array([1, 3, 5, 7, 9])\n"
      ],
      "metadata": {
        "id": "HB3wnspdpcGv"
      }
    },
    {
      "cell_type": "code",
      "source": [
        "array = np.arange(10)\n",
        "odd_numbers = array[array % 2 != 0]\n",
        "odd_numbers\n",
        "even_numbers = array[array % 2 == 0]\n",
        "even_numbers"
      ],
      "metadata": {
        "colab": {
          "base_uri": "https://localhost:8080/"
        },
        "id": "g9LDD9-SpkqN",
        "outputId": "c86c9a94-4ce7-41bc-d416-054aba638883"
      },
      "execution_count": 23,
      "outputs": [
        {
          "output_type": "execute_result",
          "data": {
            "text/plain": [
              "array([0, 2, 4, 6, 8])"
            ]
          },
          "metadata": {},
          "execution_count": 23
        }
      ]
    }
  ]
}