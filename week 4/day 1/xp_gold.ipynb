{
  "nbformat": 4,
  "nbformat_minor": 0,
  "metadata": {
    "colab": {
      "provenance": []
    },
    "kernelspec": {
      "name": "python3",
      "display_name": "Python 3"
    },
    "language_info": {
      "name": "python"
    }
  },
  "cells": [
    {
      "cell_type": "markdown",
      "source": [
        "Exercise 1 : Minimum and Maximum of Random Array\n",
        "Instructions\n",
        "Create a 5x5 array with random values and find the minimum and maximum values.\n",
        "\n",
        "Expected Output:\n",
        "\n",
        "\n",
        "\n",
        "Min: 0.01, Max: 0.99\n"
      ],
      "metadata": {
        "id": "QNZ2cmEK-LxW"
      }
    },
    {
      "cell_type": "code",
      "source": [
        "import numpy as np\n",
        "array = np.random.rand(5,5)\n",
        "min_value = np.min(array)\n",
        "max_value = np.max(array)\n",
        "print(f\"Min: {min_value:.2f}, Max: {max_value:.2f}\")"
      ],
      "metadata": {
        "colab": {
          "base_uri": "https://localhost:8080/"
        },
        "id": "WucYLIVE_LXv",
        "outputId": "af890df7-bf1e-4cbe-ea7b-b5ac8c1a5754"
      },
      "execution_count": 4,
      "outputs": [
        {
          "output_type": "stream",
          "name": "stdout",
          "text": [
            "Min: 0.02, Max: 0.94\n"
          ]
        }
      ]
    },
    {
      "cell_type": "markdown",
      "source": [
        "Exercise 2 : Matrix Normalization\n",
        "Instructions\n",
        "Normalize a 3x3 random matrix (subtract the mean and divide by the standard deviation of the matrix).\n",
        "\n",
        "Expected Output:\n",
        "\n",
        "\n",
        "\n",
        "array([[-1.22474487,  1.22474487],\n",
        "       [ 0.        ,  0.        ]])\n"
      ],
      "metadata": {
        "id": "0DjFKiXd_lxB"
      }
    },
    {
      "cell_type": "code",
      "source": [
        "array = np.random.rand(3,3)\n",
        "mean = np.mean(array)\n",
        "std = np.std(array)\n",
        "normalized_array = (array - mean) / std\n",
        "print(normalized_array)\n"
      ],
      "metadata": {
        "colab": {
          "base_uri": "https://localhost:8080/"
        },
        "id": "A2fUbiQi_pmn",
        "outputId": "071dd630-0ba8-40ae-ac47-bbc8c910c81d"
      },
      "execution_count": 5,
      "outputs": [
        {
          "output_type": "stream",
          "name": "stdout",
          "text": [
            "[[-0.83473667  0.40517522  0.96846332]\n",
            " [ 0.9354738   0.58263129  0.12897222]\n",
            " [-1.70710921 -1.45208542  0.97321545]]\n"
          ]
        }
      ]
    },
    {
      "cell_type": "markdown",
      "source": [
        "Exercise 3 : Evenly Spaced Elements in Array\n",
        "Instructions\n",
        "Create a 1D array of 50 evenly spaced elements between 0 and 10, exclusive.\n",
        "\n",
        "Expected Output:\n",
        "\n",
        "\n",
        "\n",
        "array([0. , 0.2, 0.4, ..., 9.6, 9.8, 10.])\n"
      ],
      "metadata": {
        "id": "j9AUSJ_NAKrs"
      }
    },
    {
      "cell_type": "code",
      "source": [
        "array = np.linspace(0, 10, 50)\n",
        "array"
      ],
      "metadata": {
        "colab": {
          "base_uri": "https://localhost:8080/"
        },
        "collapsed": true,
        "id": "UIbdGCRlAVSA",
        "outputId": "710cfb84-0ad9-4949-cade-9362f933c14f"
      },
      "execution_count": 7,
      "outputs": [
        {
          "output_type": "execute_result",
          "data": {
            "text/plain": [
              "array([ 0.        ,  0.20408163,  0.40816327,  0.6122449 ,  0.81632653,\n",
              "        1.02040816,  1.2244898 ,  1.42857143,  1.63265306,  1.83673469,\n",
              "        2.04081633,  2.24489796,  2.44897959,  2.65306122,  2.85714286,\n",
              "        3.06122449,  3.26530612,  3.46938776,  3.67346939,  3.87755102,\n",
              "        4.08163265,  4.28571429,  4.48979592,  4.69387755,  4.89795918,\n",
              "        5.10204082,  5.30612245,  5.51020408,  5.71428571,  5.91836735,\n",
              "        6.12244898,  6.32653061,  6.53061224,  6.73469388,  6.93877551,\n",
              "        7.14285714,  7.34693878,  7.55102041,  7.75510204,  7.95918367,\n",
              "        8.16326531,  8.36734694,  8.57142857,  8.7755102 ,  8.97959184,\n",
              "        9.18367347,  9.3877551 ,  9.59183673,  9.79591837, 10.        ])"
            ]
          },
          "metadata": {},
          "execution_count": 7
        }
      ]
    },
    {
      "cell_type": "markdown",
      "source": [
        "\n",
        "Exercise 4 : Matrix Multiplication\n",
        "Instructions\n",
        "Multiply a 5x3 matrix by a 3x2 matrix (real matrix product).\n",
        "\n",
        "Expected Output:\n",
        "\n",
        "\n",
        "\n",
        "array([[ 8.79,  6.73],\n",
        "       [12.87,  9.77],\n",
        "       [16.92, 12.83],\n",
        "       [20.98, 15.89],\n",
        "       [25.04, 18.95]])\n"
      ],
      "metadata": {
        "id": "x9wjBe0dA4p0"
      }
    },
    {
      "cell_type": "code",
      "source": [
        "matrix1 = np.random.rand(5, 3)\n",
        "matrix2 = np.random.rand(3, 2)\n",
        "\n",
        "result_matrix = np.dot(matrix1, matrix2)\n",
        "result_matrix\n"
      ],
      "metadata": {
        "colab": {
          "base_uri": "https://localhost:8080/"
        },
        "collapsed": true,
        "id": "Jbe26YqoBBj8",
        "outputId": "2fffb583-9c04-44c1-8ffe-cc7347a1b32f"
      },
      "execution_count": 11,
      "outputs": [
        {
          "output_type": "execute_result",
          "data": {
            "text/plain": [
              "array([[1.12571082, 0.95783693],\n",
              "       [1.42862419, 1.82240824],\n",
              "       [1.00811085, 1.1502392 ],\n",
              "       [0.84890345, 0.714316  ],\n",
              "       [0.61612531, 0.42653801]])"
            ]
          },
          "metadata": {},
          "execution_count": 11
        }
      ]
    },
    {
      "cell_type": "markdown",
      "source": [
        "Exercise 5\n",
        "Instructions\n",
        "Utilize your understanding of matrix multiplication to solve this exercise.\n",
        "Create two matrices of compatible dimensions.\n",
        "Perform matrix multiplication on these matrices and display the result.\n",
        "Ensure the dimensions of the matrices allow for valid multiplication.\n",
        "Tip: Remember that the number of columns in the first matrix should match the number of rows in the second matrix for successful multiplication.\n",
        "\n"
      ],
      "metadata": {
        "id": "rD_G0xMBCeK4"
      }
    },
    {
      "cell_type": "code",
      "source": [
        "y = np.array([[1, 6], [3, 9]])\n",
        "x = np.array([[5, 12], [4, 8]])\n",
        "result_matrix = np.dot(y, x)\n",
        "result_matrix\n",
        "result_matrix=x@y\n",
        "print(result_matrix)"
      ],
      "metadata": {
        "colab": {
          "base_uri": "https://localhost:8080/"
        },
        "id": "8Ylx6ZHZC7fa",
        "outputId": "fa6d5bf3-03e9-4d56-df74-104af26b64a7"
      },
      "execution_count": 15,
      "outputs": [
        {
          "output_type": "stream",
          "name": "stdout",
          "text": [
            "[[ 41 138]\n",
            " [ 28  96]]\n"
          ]
        }
      ]
    }
  ]
}