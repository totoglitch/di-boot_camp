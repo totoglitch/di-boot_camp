{
  "nbformat": 4,
  "nbformat_minor": 0,
  "metadata": {
    "colab": {
      "provenance": []
    },
    "kernelspec": {
      "name": "python3",
      "display_name": "Python 3"
    },
    "language_info": {
      "name": "python"
    }
  },
  "cells": [
    {
      "cell_type": "markdown",
      "source": [
        "Exercise 1 : Maximum Value Replacement in Matrix\n",
        "Instructions\n",
        "Create a random 5x5 matrix and replace the maximum value by 0.\n",
        "\n",
        "Expected Output:\n",
        "\n",
        "\n",
        "\n",
        "array([[0.23, 0.35, 0.01, 0.05, 0.11],\n",
        "       [0.91, 0.28, 0.66, 0.13, 0.14],\n",
        "       [0.94, 0.40, 0.76, 0.65, 0.46],\n",
        "       [0.12, 0.15, 0.95, 0.57, 0.60],\n",
        "       [0.17, 0.97, 0.87, 0.45, 0.  ]])\n"
      ],
      "metadata": {
        "id": "DBsqtJroEc9H"
      }
    },
    {
      "cell_type": "code",
      "execution_count": 2,
      "metadata": {
        "colab": {
          "base_uri": "https://localhost:8080/"
        },
        "collapsed": true,
        "id": "zQHpxc_uD70D",
        "outputId": "819ff098-f072-434b-eba0-be3d40759109"
      },
      "outputs": [
        {
          "output_type": "stream",
          "name": "stdout",
          "text": [
            "[[0.67062433 0.7722392  0.0518804  0.2233197  0.13709625]\n",
            " [0.21838938 0.81430769 0.84335229 0.59387556 0.3434281 ]\n",
            " [0.92091265 0.69490765 0.29079715 0.74540712 0.60614749]\n",
            " [0.31962295 0.44047365 0.81462827 0.15831446 0.83764058]\n",
            " [0.63391597 0.03317431 0.06705404 0.28453199 0.30070019]]\n",
            "[[0.67062433 0.7722392  0.0518804  0.2233197  0.13709625]\n",
            " [0.21838938 0.81430769 0.84335229 0.59387556 0.3434281 ]\n",
            " [0.         0.69490765 0.29079715 0.74540712 0.60614749]\n",
            " [0.31962295 0.44047365 0.81462827 0.15831446 0.83764058]\n",
            " [0.63391597 0.03317431 0.06705404 0.28453199 0.30070019]]\n"
          ]
        }
      ],
      "source": [
        "import numpy as np\n",
        "array = np.random.rand(5,5)\n",
        "max_value = np.max(array)\n",
        "array[array == max_value] = 0\n",
        "print(array)"
      ]
    },
    {
      "cell_type": "markdown",
      "source": [
        "Exercise 2 : Finding Common Values in Arrays\n",
        "Instructions\n",
        "Find the common values between two random arrays of size 5.\n",
        "\n",
        "Expected Output:\n",
        "\n",
        "\n",
        "\n",
        "array([0.35, 0.66, 0.76])\n"
      ],
      "metadata": {
        "id": "4CeZ9iiNFNku"
      }
    },
    {
      "cell_type": "code",
      "source": [
        "array1 = np.random.rand(5)\n",
        "array2 = np.random.rand(5)\n",
        "common_values = np.intersect1d(array1, array2)\n",
        "common_values"
      ],
      "metadata": {
        "colab": {
          "base_uri": "https://localhost:8080/"
        },
        "collapsed": true,
        "id": "hgW0FI4qFRsT",
        "outputId": "ba02768e-e2c6-40ac-a2bf-d22a7573fa47"
      },
      "execution_count": 16,
      "outputs": [
        {
          "output_type": "execute_result",
          "data": {
            "text/plain": [
              "array([], dtype=float64)"
            ]
          },
          "metadata": {},
          "execution_count": 16
        }
      ]
    },
    {
      "cell_type": "markdown",
      "source": [
        "Exercise 3 : Sorting Array in Ascending and Descending Order\n",
        "Instructions\n",
        "Create a random 1D array of size 10 and sort it in ascending and then in descending order.\n",
        "\n",
        "Expected Output:\n",
        "\n",
        "\n",
        "\n",
        "Ascending: array([0.1, 0.2, 0.3, 0.4, 0.5, 0.6, 0.7, 0.8, 0.9, 1. ])\n",
        "Descending: array([1. , 0.9, 0.8, 0.7, 0.6, 0.5, 0.4, 0.3, 0.2, 0.1])\n"
      ],
      "metadata": {
        "id": "LixQ5Ai-F2Ia"
      }
    },
    {
      "cell_type": "code",
      "source": [
        "array = np.random.rand(10)\n",
        "ascending_array = np.sort(array)\n",
        "descending_array = np.sort(array)[::-1]\n",
        "print(\"Ascending:\", ascending_array)\n",
        "print(\"Descending:\", descending_array)"
      ],
      "metadata": {
        "colab": {
          "base_uri": "https://localhost:8080/"
        },
        "collapsed": true,
        "id": "r0oQV1QMGONR",
        "outputId": "8705bcd1-6220-4ebf-a368-7e3c56d128c8"
      },
      "execution_count": 17,
      "outputs": [
        {
          "output_type": "stream",
          "name": "stdout",
          "text": [
            "Ascending: [0.04533868 0.2440671  0.4287164  0.53485228 0.55602814 0.57796912\n",
            " 0.64742497 0.69472741 0.78364877 0.86204116]\n",
            "Descending: [0.86204116 0.78364877 0.69472741 0.64742497 0.57796912 0.55602814\n",
            " 0.53485228 0.4287164  0.2440671  0.04533868]\n"
          ]
        }
      ]
    },
    {
      "cell_type": "markdown",
      "source": [
        "Exercise 4 : Matrix Rank Determination\n",
        "Instructions\n",
        "Generate a random 4x4 matrix and find the rank of the matrix.\n",
        "\n",
        "Expected Output:\n",
        "\n",
        "\n",
        "\n",
        "Rank: 4\n"
      ],
      "metadata": {
        "id": "VO590E_ZGgmR"
      }
    },
    {
      "cell_type": "code",
      "source": [
        "matrix = np.random.rand(4, 4)\n",
        "rank = np.linalg.matrix_rank(matrix)\n",
        "print(\"Rank:\", rank)\n",
        "matrix"
      ],
      "metadata": {
        "colab": {
          "base_uri": "https://localhost:8080/"
        },
        "collapsed": true,
        "id": "QfLq1yi-GwyP",
        "outputId": "f5841e13-f18f-44b2-b558-f0c88f83d0ab"
      },
      "execution_count": 20,
      "outputs": [
        {
          "output_type": "stream",
          "name": "stdout",
          "text": [
            "Rank: 4\n"
          ]
        },
        {
          "output_type": "execute_result",
          "data": {
            "text/plain": [
              "array([[0.08777383, 0.1312021 , 0.34259977, 0.65392982],\n",
              "       [0.18051899, 0.38592798, 0.87211019, 0.334852  ],\n",
              "       [0.16191562, 0.31759647, 0.41352054, 0.14257977],\n",
              "       [0.18307866, 0.56959569, 0.74022662, 0.22468111]])"
            ]
          },
          "metadata": {},
          "execution_count": 20
        }
      ]
    },
    {
      "cell_type": "markdown",
      "source": [
        "Exercise 5 : Creating Border Array\n",
        "Instructions\n",
        "Create a 2D array with 1 on the border and 0 inside.\n",
        "\n",
        "Expected Output:\n",
        "\n",
        "\n",
        "\n",
        "array([[1, 1, 1, 1, 1],\n",
        "       [1, 0, 0, 0, 1],\n",
        "       [1, 0, 0, 0, 1],\n",
        "       [1, 0, 0, 0, 1],\n",
        "       [1, 1, 1, 1, 1]])\n"
      ],
      "metadata": {
        "id": "W4cc-AzsHA9a"
      }
    },
    {
      "cell_type": "code",
      "source": [
        "array = np.zeros((4,8))\n",
        "array[0,:]=1\n",
        "array[-1:]=1\n",
        "array[:,0]=1\n",
        "array[:,-1]=1\n",
        "array"
      ],
      "metadata": {
        "colab": {
          "base_uri": "https://localhost:8080/"
        },
        "collapsed": true,
        "id": "eWx48iMgIAa6",
        "outputId": "513563c9-f8ae-4031-a197-06ffd0bcb4d0"
      },
      "execution_count": 25,
      "outputs": [
        {
          "output_type": "execute_result",
          "data": {
            "text/plain": [
              "array([[1., 1., 1., 1., 1., 1., 1., 1.],\n",
              "       [1., 0., 0., 0., 0., 0., 0., 1.],\n",
              "       [1., 0., 0., 0., 0., 0., 0., 1.],\n",
              "       [1., 1., 1., 1., 1., 1., 1., 1.]])"
            ]
          },
          "metadata": {},
          "execution_count": 25
        }
      ]
    }
  ]
}