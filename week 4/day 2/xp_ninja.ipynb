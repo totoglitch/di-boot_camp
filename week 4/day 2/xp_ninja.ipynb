{
  "nbformat": 4,
  "nbformat_minor": 0,
  "metadata": {
    "colab": {
      "provenance": []
    },
    "kernelspec": {
      "name": "python3",
      "display_name": "Python 3"
    },
    "language_info": {
      "name": "python"
    }
  },
  "cells": [
    {
      "cell_type": "markdown",
      "source": [
        "Exercise 1 : Diagonal Matrix Operations\n",
        "Instructions\n",
        "Create a 4x4 matrix and extract its diagonal elements using NumPy. Then, create a diagonal matrix from these elements.\n",
        "\n",
        "Example of a Diagonal Matrix in LaTeX\n",
        "A diagonal matrix can be represented in LaTeX as follows:\n",
        "\n",
        "\n",
        "\n",
        "xp_ninja_diagonal_matrix\n",
        "\n",
        "\n",
        "Where a, b, c, and d are the diagonal elements.\n",
        "\n"
      ],
      "metadata": {
        "id": "Ia74xDIxxfYr"
      }
    },
    {
      "cell_type": "code",
      "source": [
        "import numpy as np\n",
        "\n",
        "# Create a 4x4 matrix\n",
        "matrix = np.array([[1, 2, 3, 4],\n",
        "                   [5, 6, 7, 8],\n",
        "                   [9, 10, 11, 12],\n",
        "                   [13, 14, 15, 16]])\n",
        "\n",
        "# Extract the diagonal elements\n",
        "diagonal_elements = np.diag(matrix)\n",
        "\n",
        "# Create a diagonal matrix from the diagonal elements\n",
        "diagonal_matrix = np.diag(diagonal_elements)\n",
        "\n",
        "print(\"Original Matrix:\")\n",
        "print(matrix)\n",
        "print(\"\\nDiagonal Elements:\")\n",
        "print(diagonal_elements)\n",
        "print(\"\\nDiagonal Matrix:\")\n",
        "diagonal_matrix"
      ],
      "metadata": {
        "colab": {
          "base_uri": "https://localhost:8080/"
        },
        "collapsed": true,
        "id": "aStUtV_fxpYC",
        "outputId": "45f67615-7494-468c-e056-8a2a5bbecde4"
      },
      "execution_count": 1,
      "outputs": [
        {
          "output_type": "stream",
          "name": "stdout",
          "text": [
            "Original Matrix:\n",
            "[[ 1  2  3  4]\n",
            " [ 5  6  7  8]\n",
            " [ 9 10 11 12]\n",
            " [13 14 15 16]]\n",
            "\n",
            "Diagonal Elements:\n",
            "[ 1  6 11 16]\n",
            "\n",
            "Diagonal Matrix:\n"
          ]
        },
        {
          "output_type": "execute_result",
          "data": {
            "text/plain": [
              "array([[ 1,  0,  0,  0],\n",
              "       [ 0,  6,  0,  0],\n",
              "       [ 0,  0, 11,  0],\n",
              "       [ 0,  0,  0, 16]])"
            ]
          },
          "metadata": {},
          "execution_count": 1
        }
      ]
    },
    {
      "cell_type": "markdown",
      "source": [
        "Exercise 2 : Conditional Array Operations\n",
        "Instructions\n",
        "Generate a 1D NumPy array with 20 random elements. Replace all elements greater than 0.5 with the value -1.\n",
        "\n"
      ],
      "metadata": {
        "id": "D5Ah-dKUx34I"
      }
    },
    {
      "cell_type": "code",
      "source": [
        "array=np.array(np.random.rand(20))\n",
        "array[array>0.5]=-1\n",
        "array"
      ],
      "metadata": {
        "colab": {
          "base_uri": "https://localhost:8080/"
        },
        "collapsed": true,
        "id": "zXINnApyx-Vu",
        "outputId": "20ce1bb3-adbe-42ce-80b9-20a13788a96a"
      },
      "execution_count": 2,
      "outputs": [
        {
          "output_type": "execute_result",
          "data": {
            "text/plain": [
              "array([ 0.14447843,  0.07207888,  0.12132781, -1.        ,  0.11991138,\n",
              "        0.33557901, -1.        , -1.        ,  0.40305661,  0.40532058,\n",
              "       -1.        , -1.        , -1.        , -1.        , -1.        ,\n",
              "       -1.        ,  0.22734367,  0.14854133,  0.11699049, -1.        ])"
            ]
          },
          "metadata": {},
          "execution_count": 2
        }
      ]
    },
    {
      "cell_type": "markdown",
      "source": [
        "Exercise 3 : Data Normalization\n",
        "Instructions\n",
        "Normalize a 1D NumPy array (subtract the mean and divide by the standard deviation).\n",
        "\n",
        "Normalization Formula\n",
        "The normalization function can be represented in LaTeX as:\n",
        "\n",
        "\n",
        "\n",
        "xp_ninja_normalized_x\n",
        "\n",
        "\n",
        "Where x is the original value, \\mu is the mean, and \\sigma is the standard deviation.\n",
        "\n",
        "Hint: You can use the StandardScaler function from the sklearn.preprocessing package for normalization.\n",
        "\n"
      ],
      "metadata": {
        "id": "gOT1GhPIyYDN"
      }
    },
    {
      "cell_type": "code",
      "source": [
        "from sklearn.preprocessing import StandardScaler\n",
        "# Create a sample array\n",
        "array = np.array([10, 20, 30, 40, 50])\n",
        "array_reshaped = array.reshape(-1, 1)\n",
        "# Initialize StandardScaler\n",
        "scaler = StandardScaler()\n",
        "normalized_data = scaler.fit_transform(array_reshaped)\n",
        "print(\"\\nOriginal Data Array:\")\n",
        "print(array)\n",
        "print(\"\\nNormalized Data:\")\n",
        "print(normalized_data.flatten())"
      ],
      "metadata": {
        "colab": {
          "base_uri": "https://localhost:8080/"
        },
        "collapsed": true,
        "id": "e0SnI8F_ydPA",
        "outputId": "dd30f8a1-aba8-4d82-966b-5f76034a169f"
      },
      "execution_count": 4,
      "outputs": [
        {
          "output_type": "stream",
          "name": "stdout",
          "text": [
            "\n",
            "Original Data Array:\n",
            "[10 20 30 40 50]\n",
            "\n",
            "Normalized Data:\n",
            "[-1.41421356 -0.70710678  0.          0.70710678  1.41421356]\n"
          ]
        }
      ]
    },
    {
      "cell_type": "markdown",
      "source": [
        "Exercise 4 : Correlation Coefficients\n",
        "Instructions\n",
        "Given two arrays of data, compute the Pearson correlation coefficient between them using NumPy.\n",
        "\n"
      ],
      "metadata": {
        "id": "XlT2Le75zF6G"
      }
    },
    {
      "cell_type": "code",
      "source": [
        "array1 = np.array([1, 2, 3, 4, 5])\n",
        "array2 = np.array([5, 4, 3, 2, 1])\n",
        "# Compute the Pearson correlation coefficient\n",
        "correlation_coefficient = np.corrcoef(array1, array2)[0, 1]\n",
        "print(\"\\nArray 1:\")\n",
        "print(array1)\n",
        "print(\"\\nArray 2:\")\n",
        "print(array2)\n",
        "print(\"\\nPearson Correlation Coefficient:\")\n",
        "correlation_coefficient"
      ],
      "metadata": {
        "colab": {
          "base_uri": "https://localhost:8080/"
        },
        "collapsed": true,
        "id": "InqNql4kzJ2o",
        "outputId": "2fec9b2a-d237-41a2-b385-305d060c61fd"
      },
      "execution_count": 5,
      "outputs": [
        {
          "output_type": "stream",
          "name": "stdout",
          "text": [
            "\n",
            "Array 1:\n",
            "[1 2 3 4 5]\n",
            "\n",
            "Array 2:\n",
            "[5 4 3 2 1]\n",
            "\n",
            "Pearson Correlation Coefficient:\n"
          ]
        },
        {
          "output_type": "execute_result",
          "data": {
            "text/plain": [
              "np.float64(-0.9999999999999999)"
            ]
          },
          "metadata": {},
          "execution_count": 5
        }
      ]
    },
    {
      "cell_type": "markdown",
      "source": [
        "Exercise 5 : Time Series Trend Line\n",
        "Instructions\n",
        "Create a time series data for 15 days with random values. Use NumPy to fit a linear trend line to this data and plot both the time series and the trend line.\n",
        "\n",
        "Pearson Correlation Coefficient\n",
        "The Pearson correlation coefficient is a measure of the linear correlation between two variables. It ranges from -1 to 1, where 1 means total positive linear correlation, -1 means total negative linear correlation, and 0 indicates no linear correlation. The formula for the Pearson correlation coefficient is:\n",
        "\n",
        "\n",
        "\n",
        "xp_ninja_pearson_correlation_mat\n",
        "\n",
        "\n"
      ],
      "metadata": {
        "id": "bG4TGgijzeah"
      }
    },
    {
      "cell_type": "code",
      "source": [
        "import matplotlib.pyplot as plt\n",
        "days = np.arange(1, 16)\n",
        "time_series_data = np.random.rand(15) * 10\n",
        "trend_coefficients = np.polyfit(days, time_series_data, 1)\n",
        "trend_line = np.poly1d(trend_coefficients)\n",
        "plt.scatter(days, time_series_data, label='Time Series Data')\n",
        "plt.plot(days, trend_line(days), color='red', label='Trend Line')\n",
        "plt.xlabel('Day')\n",
        "plt.ylabel('Value')\n",
        "plt.title('Time Series Data with Linear Trend Line')\n",
        "plt.legend()\n",
        "plt.grid(True)\n",
        "plt.show()"
      ],
      "metadata": {
        "colab": {
          "base_uri": "https://localhost:8080/",
          "height": 472
        },
        "collapsed": true,
        "id": "H2QjCV5QziFT",
        "outputId": "5ca3b907-33ee-41b0-9389-ea3d238aaf69"
      },
      "execution_count": 6,
      "outputs": [
        {
          "output_type": "display_data",
          "data": {
            "text/plain": [
              "<Figure size 640x480 with 1 Axes>"
            ],
            "image/png": "[encoded data removed]"
          },
          "metadata": {}
        }
      ]
    }
  ]
}